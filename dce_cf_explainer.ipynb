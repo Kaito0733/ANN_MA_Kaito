{
 "cells": [
  {
   "cell_type": "code",
   "execution_count": 17,
   "id": "7aa8174a",
   "metadata": {},
   "outputs": [],
   "source": [
    "import torch\n",
    "import torch.nn as nn\n",
    "import torchvision.datasets as datasets\n",
    "import torchvision.transforms as transforms\n",
    "import torch.nn.functional as F\n",
    "\n",
    "import matplotlib.pyplot as plt\n",
    "import random as ra\n",
    "import math\n",
    "\n",
    "from sklearn.cluster import AgglomerativeClustering\n",
    "from collections import defaultdict\n",
    "from scipy.spatial.distance import cdist\n",
    "import numpy as np\n",
    "import matplotlib.patches as mpatches"
   ]
  },
  {
   "cell_type": "code",
   "execution_count": 2,
   "id": "c5266063",
   "metadata": {},
   "outputs": [],
   "source": [
    "input_size = 784\n",
    "hidden_size0 = 32\n",
    "hidden_size1 = 16     \n",
    "out_size = 1 #binary for whether it is digit or not\n",
    "        \n",
    "epochs = 10            \n",
    "batch_size = 1000 #just for loading more data easily\n",
    "learning_rate = 0.001"
   ]
  },
  {
   "cell_type": "code",
   "execution_count": 3,
   "id": "f5bef78d",
   "metadata": {},
   "outputs": [],
   "source": [
    "train_dataset = datasets.MNIST(root='./data',\n",
    "                           train=True,\n",
    "                           transform=transforms.ToTensor(),\n",
    "                           download=True)\n",
    "\n",
    "train_loader = torch.utils.data.DataLoader(dataset=train_dataset,\n",
    "                                          batch_size=batch_size,\n",
    "                                          shuffle=True)"
   ]
  },
  {
   "cell_type": "code",
   "execution_count": 4,
   "id": "31507789",
   "metadata": {},
   "outputs": [],
   "source": [
    "test_dataset = datasets.MNIST(root='./data',\n",
    "                           train=False,\n",
    "                           transform=transforms.ToTensor())\n",
    "\n",
    "test_loader = torch.utils.data.DataLoader(dataset=test_dataset,\n",
    "                                          batch_size=batch_size,\n",
    "                                          shuffle=False)"
   ]
  },
  {
   "cell_type": "code",
   "execution_count": 5,
   "id": "4067a24f",
   "metadata": {},
   "outputs": [],
   "source": [
    "class Net(nn.Module):\n",
    "    def __init__(self, input_size, hidden_size0, hidden_size1, out_size):\n",
    "        super(Net, self).__init__()\n",
    "        self.fc0 = nn.Linear(input_size, hidden_size0)\n",
    "        self.fc1 = nn.Linear(hidden_size0, hidden_size1)\n",
    "        self.fc2 = nn.Linear(hidden_size1, out_size)\n",
    "        self.relu = nn.ReLU()\n",
    "        self.init_weights()\n",
    "\n",
    "    def init_weights(self):\n",
    "        nn.init.kaiming_normal_(self.fc0.weight)\n",
    "        nn.init.kaiming_normal_(self.fc1.weight)\n",
    "        nn.init.kaiming_normal_(self.fc2.weight)\n",
    "        \n",
    "    def forward(self, x): #x = input img\n",
    "        x = x.view(x.size(0), -1)  #flatten img, because (batch_size, 1, 28, 28) and nn.Linear expects (batch_size, features)\n",
    "        out = self.relu(self.fc0(x))\n",
    "        out = self.relu(self.fc1(out))\n",
    "        out = self.fc2(out)\n",
    "\n",
    "        return out"
   ]
  },
  {
   "cell_type": "code",
   "execution_count": 6,
   "id": "fc9f756a",
   "metadata": {},
   "outputs": [],
   "source": [
    "net = Net(input_size, hidden_size0, hidden_size1, out_size)\n",
    "CUDA = torch.cuda.is_available()\n",
    "if CUDA:\n",
    "    net = net.cuda()"
   ]
  },
  {
   "cell_type": "code",
   "execution_count": 7,
   "id": "58cd812c",
   "metadata": {},
   "outputs": [],
   "source": [
    "file_pth = 'binary_ffn_3.pth'\n",
    "net.load_state_dict(torch.load(file_pth)) #pre-trained\n",
    "trained_dig = int(file_pth[-5])"
   ]
  },
  {
   "cell_type": "code",
   "execution_count": 10,
   "id": "5af0b8ba",
   "metadata": {},
   "outputs": [
    {
     "name": "stdout",
     "output_type": "stream",
     "text": [
      "Accuracy on digit 3 (manual pass with activations): 99.31 %\n"
     ]
    }
   ],
   "source": [
    "with torch.no_grad():\n",
    "    correct = 0\n",
    "    total = 0\n",
    "    for images, labels in test_loader:\n",
    "        mask = (labels == trained_dig)\n",
    "        if not mask.any():\n",
    "            continue\n",
    "        images = images[mask]\n",
    "        if CUDA:\n",
    "            images = images.cuda()\n",
    "        images = images.view(-1, 28*28)\n",
    "\n",
    "        a0 = F.tanh(net.fc0(images))\n",
    "        a1 = F.tanh(net.fc1(a0))\n",
    "        logits = net.fc2(a1)\n",
    "        predicted = (torch.sigmoid(logits) >= 0.5).float()\n",
    "\n",
    "        correct += predicted.sum().item()\n",
    "        total += images.size(0)\n",
    "\n",
    "    print(f'Accuracy on digit {trained_dig} (manual pass with activations): {100 * correct / total:.2f} %')\n"
   ]
  },
  {
   "cell_type": "code",
   "execution_count": 67,
   "id": "07d06ad2",
   "metadata": {},
   "outputs": [
    {
     "data": {
      "text/plain": [
       "<matplotlib.image.AxesImage at 0x7f256ed60320>"
      ]
     },
     "execution_count": 67,
     "metadata": {},
     "output_type": "execute_result"
    },
    {
     "data": {
      "image/png": "[encoded data removed]",
      "text/plain": [
       "<Figure size 640x480 with 1 Axes>"
      ]
     },
     "metadata": {},
     "output_type": "display_data"
    }
   ],
   "source": [
    "inputs, labels = next(iter(test_loader))\n",
    "dig_to_check = 9\n",
    "\n",
    "#search wanted digit:\n",
    "while True:\n",
    "    ind = ra.randrange(0, len(inputs))\n",
    "    if labels[ind] == dig_to_check:\n",
    "        img = inputs[ind].squeeze()\n",
    "        break\n",
    "\n",
    "plt.imshow(img, cmap=\"inferno\")\n"
   ]
  },
  {
   "cell_type": "code",
   "execution_count": 85,
   "id": "83511309",
   "metadata": {},
   "outputs": [
    {
     "data": {
      "text/plain": [
       "(153, 6.0)"
      ]
     },
     "execution_count": 85,
     "metadata": {},
     "output_type": "execute_result"
    }
   ],
   "source": [
    "pixel_count_important = (img > 0).sum().item()\n",
    "segment_size = round(pixel_count_important * 0.04, 0)\n",
    "\n",
    "imp_pixels = (img > 0.5).nonzero(as_tuple=False) #tensor of coordiantes that aren't = 0 (just which pixels are to be clustered)\n",
    "\n",
    "pixel_count_important, segment_size\n"
   ]
  },
  {
   "cell_type": "code",
   "execution_count": 86,
   "id": "54d0351e",
   "metadata": {},
   "outputs": [
    {
     "data": {
      "image/png": "[encoded data removed]",
      "text/plain": [
       "<Figure size 500x500 with 1 Axes>"
      ]
     },
     "metadata": {},
     "output_type": "display_data"
    }
   ],
   "source": [
    "clusterer = AgglomerativeClustering(\n",
    "    n_clusters=None,\n",
    "    distance_threshold=segment_size,\n",
    "    linkage='complete',\n",
    "    metric='euclidean'\n",
    ")\n",
    "labels = clusterer.fit_predict(imp_pixels) #apply clusterer to img\n",
    "\n",
    "clusters = defaultdict(list)\n",
    "for coord, label in zip(imp_pixels, labels):\n",
    "    clusters[label].append(coord) #data structure to assign label to each group of pixles\n",
    "\n",
    "#making a map\n",
    "label_map = torch.zeros((28, 28), dtype=torch.int32)\n",
    "for label, coords in clusters.items():\n",
    "    for y, x in coords:\n",
    "        label_map[y, x] = label + 1\n",
    "\n",
    "label_map_np = label_map.numpy()\n",
    "unique_vals = np.unique(label_map_np)\n",
    "\n",
    "plt.figure(figsize=(5, 5))\n",
    "plt.imshow(label_map_np, cmap='inferno', interpolation='nearest')\n",
    "plt.axis('off')\n",
    "plt.title('Spatially Grouped Important Pixels')\n",
    "\n",
    "for val in unique_vals:\n",
    "    positions = np.argwhere(label_map_np == val)\n",
    "    if positions.size == 0 or val == 0:\n",
    "        continue\n",
    "    centroid = positions.mean(axis=0)\n",
    "    y, x = centroid\n",
    "    plt.text(x, y, str(val-1), color='lightgray', fontsize=20, ha='center', va='center')\n",
    "\n",
    "plt.show()\n"
   ]
  },
  {
   "cell_type": "code",
   "execution_count": 94,
   "id": "a10aa295",
   "metadata": {},
   "outputs": [
    {
     "data": {
      "image/png": "[encoded data removed]",
      "text/plain": [
       "<Figure size 500x500 with 1 Axes>"
      ]
     },
     "metadata": {},
     "output_type": "display_data"
    }
   ],
   "source": [
    "from scipy.ndimage import binary_dilation\n",
    "\n",
    "#centroids\n",
    "centroids = {}\n",
    "for label, coords in clusters.items():\n",
    "    centroids[label] = np.mean(coords, axis=0)  #(y,x) because np, matplot etc... order by row then column -> y then x\n",
    "\n",
    "#touch detection\n",
    "structure = np.ones((3,3), dtype=bool) #bin dilation checks for all 8 connected neighbors, therefore 3x3\n",
    "touching = set()\n",
    "for l1, c1 in clusters.items():\n",
    "    mask = np.zeros((28,28), dtype=bool)\n",
    "    for y,x in c1: mask[y,x]=1\n",
    "    dil = binary_dilation(mask, structure=structure)\n",
    "    for l2, c2 in clusters.items():\n",
    "        if l1>=l2: continue\n",
    "        if any(dil[y,x] for y,x in c2): touching.add((l1,l2)) #which labels touch\n",
    "\n",
    "#centroid map\n",
    "centroid_map = torch.zeros((28,28), dtype=torch.float32)\n",
    "for l, (y,x) in centroids.items():\n",
    "    centroid_map[int(y), int(x)] = 1\n",
    "\n",
    "#plot map\n",
    "plt.figure(figsize=(5,5))\n",
    "plt.imshow(centroid_map, cmap='inferno', interpolation='nearest')\n",
    "plt.axis('off')\n",
    "plt.title('Centroid Map with Connections')\n",
    "\n",
    "#draw lines\n",
    "for l1,l2 in touching:\n",
    "    y1,x1 = centroids[l1]\n",
    "    y2,x2 = centroids[l2]\n",
    "    plt.plot([x1,x2], [y1,y2], color='white', linewidth=1)\n"
   ]
  },
  {
   "cell_type": "code",
   "execution_count": 210,
   "id": "34300d26",
   "metadata": {},
   "outputs": [
    {
     "data": {
      "image/png": "[encoded data removed]",
      "text/plain": [
       "<Figure size 1200x400 with 3 Axes>"
      ]
     },
     "metadata": {},
     "output_type": "display_data"
    }
   ],
   "source": [
    "import numpy as np\n",
    "import matplotlib.pyplot as plt\n",
    "from skimage.morphology import skeletonize\n",
    "\n",
    "\n",
    "inputs, labels = next(iter(test_loader))\n",
    "dig_to_check = ra.randint(0, 9)\n",
    "\n",
    "#search wanted digit:\n",
    "while True:\n",
    "    ind = ra.randrange(0, len(inputs))\n",
    "    if labels[ind] == dig_to_check:\n",
    "        img = inputs[ind].squeeze()\n",
    "        break\n",
    "\n",
    "\n",
    "img_np = img.cpu().numpy()\n",
    "filtered = img_np > 0.5 #becuase skeleton works on binary 1, 0 data\n",
    "\n",
    "skeleton = skeletonize(filtered)\n",
    "\n",
    "plt.figure(figsize=(12, 4))\n",
    "\n",
    "plt.subplot(1, 3, 1)\n",
    "plt.title(\"Filtered\")\n",
    "plt.imshow(filtered, cmap='gray')\n",
    "\n",
    "plt.subplot(1, 3, 2)\n",
    "plt.title(\"Skeletonized\")\n",
    "plt.imshow(skeleton, cmap='gray')\n",
    "\n",
    "#is this better than the other method??? update: yeah it actually is, screw the other one\n",
    "\n",
    "\n",
    "actual = torch.where(\n",
    "    img == 0,\n",
    "    torch.tensor(0.0, device=img.device),\n",
    "    0.5\n",
    ")\n",
    "\n",
    "y_true, x_true = np.where(skeleton)\n",
    "for y, x in zip(y_true, x_true):\n",
    "    actual[y, x] = 1\n",
    "\n",
    "plt.subplot(1, 3, 3)\n",
    "plt.title(\"Skeleton in Original\")\n",
    "plt.imshow(actual, cmap=\"gray\")\n",
    "\n",
    "plt.tight_layout()\n",
    "plt.show()"
   ]
  },
  {
   "cell_type": "code",
   "execution_count": 220,
   "id": "e8c9b1ae",
   "metadata": {},
   "outputs": [
    {
     "data": {
      "image/png": "[encoded data removed]",
      "text/plain": [
       "<Figure size 640x480 with 1 Axes>"
      ]
     },
     "metadata": {},
     "output_type": "display_data"
    }
   ],
   "source": [
    "used = set()\n",
    "groups = []\n",
    "pixels = set(zip(y_true, x_true))\n",
    "\n",
    "for y, x in zip(y_true, x_true):\n",
    "    if (y, x) in used:\n",
    "        continue\n",
    "    \n",
    "    group = [(y, x)]\n",
    "    used.add((y, x))\n",
    "    \n",
    "    for ny, nx in [(y+i, x+j) for i in [-1,0,1] for j in [-1,0,1]]: #check all 8 neighbors\n",
    "        if (ny, nx) not in used and 0 <= ny < 28 and 0 <= nx < 28 and (ny, nx) in pixels:\n",
    "            group.append((ny, nx))\n",
    "            used.add((ny, nx))\n",
    "    \n",
    "    if len(group) < 3:\n",
    "        for ny, nx in [(y+i, x+j) for i in range(-2,3) for j in range(-2,3)]: #checking 14 neighbors in next outer layer\n",
    "            if len(group) >= 3: #try exactly 3\n",
    "                break\n",
    "            if (ny, nx) not in used and 0 <= ny < 28 and 0 <= nx < 28 and (ny, nx) in pixels:\n",
    "                group.append((ny, nx))\n",
    "                used.add((ny, nx))\n",
    "    \n",
    "    groups.append(group)\n",
    "\n",
    "color_map = np.zeros((28, 28))\n",
    "for n, group in enumerate(groups):\n",
    "    for y, x in group:\n",
    "        color_map[y, x] = n + 1\n",
    "\n",
    "plt.imshow(color_map, cmap='inferno')\n",
    "plt.axis('off')\n",
    "plt.show()\n"
   ]
  },
  {
   "cell_type": "code",
   "execution_count": 209,
   "id": "94b8ca36",
   "metadata": {},
   "outputs": [],
   "source": [
    "#don't forget to add lines later for cleaner visualisation!"
   ]
  },
  {
   "cell_type": "code",
   "execution_count": 221,
   "id": "cd8b58dc",
   "metadata": {},
   "outputs": [],
   "source": [
    "#now find concepts of cluster combinations that optimally activate the FFN final predcition probability distributions!"
   ]
  },
  {
   "cell_type": "code",
   "execution_count": null,
   "id": "cc1535b2",
   "metadata": {},
   "outputs": [],
   "source": []
  }
 ],
 "metadata": {
  "kernelspec": {
   "display_name": "venv0",
   "language": "python",
   "name": "python3"
  },
  "language_info": {
   "codemirror_mode": {
    "name": "ipython",
    "version": 3
   },
   "file_extension": ".py",
   "mimetype": "text/x-python",
   "name": "python",
   "nbconvert_exporter": "python",
   "pygments_lexer": "ipython3",
   "version": "3.12.2"
  }
 },
 "nbformat": 4,
 "nbformat_minor": 5
}
