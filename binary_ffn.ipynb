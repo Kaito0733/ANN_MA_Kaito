{
 "cells": [
  {
   "cell_type": "code",
   "execution_count": 1,
   "id": "2a8f8c60",
   "metadata": {},
   "outputs": [],
   "source": [
    "import torch\n",
    "import torch.nn as nn\n",
    "import torchvision.datasets as datasets\n",
    "import torchvision.transforms as transforms"
   ]
  },
  {
   "cell_type": "code",
   "execution_count": 2,
   "id": "c4e52004",
   "metadata": {},
   "outputs": [],
   "source": [
    "input_size = 784\n",
    "hidden_size0 = 32\n",
    "hidden_size1 = 16     \n",
    "out_size = 1 #binary for whether it is digit or not\n",
    "        \n",
    "bin_digit = 7\n",
    "epochs = 10            \n",
    "batch_size = 64        \n",
    "learning_rate = 0.001"
   ]
  },
  {
   "cell_type": "code",
   "execution_count": 3,
   "id": "880a32a2",
   "metadata": {},
   "outputs": [],
   "source": [
    "train_dataset = datasets.MNIST(root='./data',\n",
    "                           train=True,\n",
    "                           transform=transforms.ToTensor(),\n",
    "                           download=True)\n",
    "\n",
    "test_dataset = datasets.MNIST(root='./data',\n",
    "                           train=False,\n",
    "                           transform=transforms.ToTensor())"
   ]
  },
  {
   "cell_type": "code",
   "execution_count": 4,
   "id": "83d3d0f1",
   "metadata": {},
   "outputs": [],
   "source": [
    "train_loader = torch.utils.data.DataLoader(dataset=train_dataset,\n",
    "                                          batch_size=batch_size,\n",
    "                                          shuffle=True)\n",
    "\n",
    "test_loader = torch.utils.data.DataLoader(dataset=test_dataset,\n",
    "                                          batch_size=batch_size,\n",
    "                                          shuffle=False)"
   ]
  },
  {
   "cell_type": "code",
   "execution_count": 5,
   "id": "b51e43bc",
   "metadata": {},
   "outputs": [],
   "source": [
    "class Net(nn.Module):\n",
    "    def __init__(self, input_size, hidden_size0, hidden_size1, out_size):\n",
    "        super(Net, self).__init__()\n",
    "        self.fc0 = nn.Linear(input_size, hidden_size0)\n",
    "        self.fc1 = nn.Linear(hidden_size0, hidden_size1)\n",
    "        self.fc2 = nn.Linear(hidden_size1, out_size)\n",
    "        self.relu = nn.ReLU()\n",
    "        self.init_weights()\n",
    "\n",
    "    def init_weights(self):\n",
    "        nn.init.kaiming_normal_(self.fc0.weight)\n",
    "        nn.init.kaiming_normal_(self.fc1.weight)\n",
    "        nn.init.kaiming_normal_(self.fc2.weight)\n",
    "        \n",
    "    def forward(self, x): #x = input img\n",
    "        x = x.view(x.size(0), -1)  #flatten img, because (batch_size, 1, 28, 28) and nn.Linear expects (batch_size, features)\n",
    "        out = self.relu(self.fc0(x))\n",
    "        out = self.relu(self.fc1(out))\n",
    "        out = self.fc2(out)\n",
    "\n",
    "        return out"
   ]
  },
  {
   "cell_type": "code",
   "execution_count": 6,
   "id": "9c95282f",
   "metadata": {},
   "outputs": [],
   "source": [
    "#create net\n",
    "net = Net(input_size, hidden_size0, hidden_size1, out_size)\n",
    "CUDA = torch.cuda.is_available()\n",
    "if CUDA:\n",
    "    net = net.cuda()\n",
    "\n",
    "#Loss: is it a specific number or not (e.g., 3)?\n",
    "criterion = nn.BCEWithLogitsLoss() #uses sigmoid\n",
    "\n",
    "#Optimiser for gradient descent:\n",
    "optimizer = torch.optim.Adam(net.parameters(), lr=learning_rate)"
   ]
  },
  {
   "cell_type": "markdown",
   "id": "03079a03",
   "metadata": {},
   "source": [
    "![Alt Text](<https://miro.medium.com/v2/resize:fit:1003/1*1kCwAuqqte7r3LeiiP1FDQ.jpeg>)\n"
   ]
  },
  {
   "cell_type": "code",
   "execution_count": 7,
   "id": "020eeef6",
   "metadata": {},
   "outputs": [
    {
     "name": "stdout",
     "output_type": "stream",
     "text": [
      "True\n"
     ]
    }
   ],
   "source": [
    "print(CUDA)"
   ]
  },
  {
   "cell_type": "code",
   "execution_count": 14,
   "id": "e7ecb0d5",
   "metadata": {},
   "outputs": [
    {
     "name": "stdout",
     "output_type": "stream",
     "text": [
      "Epoch [1/10], Training Loss: 0.003, Training Accuracy: 99.908%\n",
      "Epoch [2/10], Training Loss: 0.003, Training Accuracy: 99.908%\n",
      "Epoch [3/10], Training Loss: 0.003, Training Accuracy: 99.908%\n",
      "Epoch [4/10], Training Loss: 0.003, Training Accuracy: 99.908%\n",
      "Epoch [5/10], Training Loss: 0.003, Training Accuracy: 99.908%\n",
      "Epoch [6/10], Training Loss: 0.003, Training Accuracy: 99.908%\n",
      "Epoch [7/10], Training Loss: 0.003, Training Accuracy: 99.908%\n",
      "Epoch [8/10], Training Loss: 0.003, Training Accuracy: 99.908%\n",
      "Epoch [9/10], Training Loss: 0.003, Training Accuracy: 99.908%\n",
      "Epoch [10/10], Training Loss: 0.003, Training Accuracy: 99.908%\n",
      "DONE TRAINING!\n"
     ]
    }
   ],
   "source": [
    "#train:\n",
    "\n",
    "for epoch in range(epochs):\n",
    "    correct_train = 0\n",
    "    running_loss = 0\n",
    "    for i, (images, labels) in enumerate(train_loader):\n",
    "        #(batch,1,28,28)\n",
    "        images = images.view(-1, 28*28)\n",
    "        if CUDA:\n",
    "            images = images.cuda()\n",
    "            labels = labels.cuda()\n",
    "\n",
    "        labels = (labels == bin_digit).float().view(-1, 1)  #if bin_digit: label = 1, else 0\n",
    "\n",
    "        outputs = net(images)  #[batch_size, 1]\n",
    "\n",
    "        loss = criterion(outputs, labels)\n",
    "        running_loss += loss.item()\n",
    "\n",
    "        optimizer.zero_grad()\n",
    "        loss.backward()\n",
    "        optimizer.step()\n",
    "\n",
    "        predicted = (torch.sigmoid(outputs) >= 0.5).float() #activated output (logits) to binary\n",
    "\n",
    "        correct_train += (predicted == labels).sum().item()\n",
    "\n",
    "    accuracy = 100 * correct_train / len(train_dataset)\n",
    "    print(f'Epoch [{epoch+1}/{epochs}], Training Loss: {running_loss / len(train_loader):.3f}, Training Accuracy: {accuracy:.3f}%')\n",
    "\n",
    "print(\"DONE TRAINING!\")\n",
    "\n",
    "torch.save(net.state_dict(), 'binary_ffn.pth')\n"
   ]
  },
  {
   "cell_type": "code",
   "execution_count": 15,
   "id": "ecfb8fd9",
   "metadata": {},
   "outputs": [
    {
     "data": {
      "text/plain": [
       "<All keys matched successfully>"
      ]
     },
     "execution_count": 15,
     "metadata": {},
     "output_type": "execute_result"
    }
   ],
   "source": [
    "net.load_state_dict(torch.load('binary_ffn.pth'))"
   ]
  },
  {
   "cell_type": "code",
   "execution_count": 16,
   "id": "380d46ce",
   "metadata": {},
   "outputs": [
    {
     "name": "stdout",
     "output_type": "stream",
     "text": [
      "Accuracy of the network on the 10000 test images: 99.3 %\n"
     ]
    }
   ],
   "source": [
    "with torch.no_grad():\n",
    "    correct = 0\n",
    "    for images, labels in test_loader:\n",
    "        if CUDA:\n",
    "            images = images.cuda()\n",
    "            labels = labels.cuda()\n",
    "        images = images.view(-1, 28*28)\n",
    "        labels = (labels == bin_digit).float().view(-1, 1)\n",
    "        outputs = net(images)\n",
    "        predicted = (torch.sigmoid(outputs) >= 0.5).float()\n",
    "        correct += (predicted == labels).sum().item()\n",
    "\n",
    "    print('Accuracy of the network on the 10000 test images: {} %'.format(100 * correct / len(test_dataset)))"
   ]
  },
  {
   "cell_type": "code",
   "execution_count": 10,
   "id": "22f33491",
   "metadata": {},
   "outputs": [],
   "source": [
    "import matplotlib.pyplot as plt\n",
    "import torch\n",
    "import torch.nn.functional as F\n",
    "import matplotlib.pyplot as plt\n",
    "import math\n",
    "import numpy as np\n",
    "from scipy.ndimage import gaussian_filter"
   ]
  },
  {
   "cell_type": "code",
   "execution_count": 11,
   "id": "be1515df",
   "metadata": {},
   "outputs": [
    {
     "data": {
      "image/png": "[encoded data removed]",
      "text/plain": [
       "<Figure size 2000x400 with 10 Axes>"
      ]
     },
     "metadata": {},
     "output_type": "display_data"
    }
   ],
   "source": [
    "#examples:\n",
    "\n",
    "net.eval()\n",
    "\n",
    "images, labels = next(iter(test_loader))\n",
    "\n",
    "pos_idx = (labels == bin_digit).nonzero(as_tuple=True)[0]\n",
    "neg_idx = (labels != bin_digit).nonzero(as_tuple=True)[0]\n",
    "\n",
    "n = 10  #how many imgs to display\n",
    "half_n = n // 2\n",
    "selected_idx = torch.cat([pos_idx[:half_n], neg_idx[:half_n]])\n",
    "\n",
    "selected_images = images[selected_idx].cuda()\n",
    "selected_labels = labels[selected_idx]\n",
    "\n",
    "inputs = selected_images.view(selected_images.size(0), -1)\n",
    "outputs = net(inputs)\n",
    "preds = (torch.sigmoid(outputs) >= 0.5).float().squeeze().cpu() #activate logits out to binary \n",
    "\n",
    "plt.figure(figsize=(n * 2, 4))\n",
    "for i in range(n):\n",
    "    plt.subplot(1, n, i+1)\n",
    "    plt.imshow(selected_images[i].cpu().squeeze(), cmap='gray')\n",
    "    plt.title(f'Label: {int(selected_labels[i].item() == bin_digit)}\\nPred: {int(preds[i])}')\n",
    "    plt.axis('off')\n",
    "plt.show()\n"
   ]
  },
  {
   "cell_type": "code",
   "execution_count": 13,
   "id": "00c80570",
   "metadata": {},
   "outputs": [],
   "source": [
    "#activation maximization, LRP"
   ]
  },
  {
   "cell_type": "code",
   "execution_count": null,
   "id": "bdb2bf57",
   "metadata": {},
   "outputs": [],
   "source": []
  }
 ],
 "metadata": {
  "kernelspec": {
   "display_name": "venv0",
   "language": "python",
   "name": "python3"
  },
  "language_info": {
   "codemirror_mode": {
    "name": "ipython",
    "version": 3
   },
   "file_extension": ".py",
   "mimetype": "text/x-python",
   "name": "python",
   "nbconvert_exporter": "python",
   "pygments_lexer": "ipython3",
   "version": "3.12.2"
  }
 },
 "nbformat": 4,
 "nbformat_minor": 5
}
