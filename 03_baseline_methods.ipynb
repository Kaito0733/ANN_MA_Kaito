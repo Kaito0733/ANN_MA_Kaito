{
 "cells": [
  {
   "cell_type": "markdown",
   "id": "751d6cf3",
   "metadata": {},
   "source": [
    "<span style=\"font-size:25px\">\n",
    "The following methods are existing baseline methods in explainable AI applied to my full_mnist FFN.\n",
    "</span>"
   ]
  },
  {
   "cell_type": "code",
   "execution_count": 2,
   "id": "dc2b7f53",
   "metadata": {},
   "outputs": [],
   "source": [
    "import torch\n",
    "import torch.nn as nn\n",
    "import torchvision.datasets as datasets \n",
    "import torchvision.transforms as transforms\n",
    "\n",
    "import matplotlib.pyplot as plt\n",
    "import numpy as np\n",
    "import random as ra\n",
    "\n",
    "from scipy.ndimage import gaussian_filter\n",
    "from captum.attr import LRP\n",
    "import plotly.graph_objects as go\n",
    "import plotly.express as px\n",
    "import umap.umap_ as umap\n"
   ]
  },
  {
   "cell_type": "code",
   "execution_count": 91,
   "id": "12cb3d9e",
   "metadata": {},
   "outputs": [],
   "source": [
    "input_size = 784\n",
    "hidden_size0 = 32\n",
    "hidden_size1 = 16\n",
    "out_size = 10\n",
    "epochs = 10\n",
    "batch_size = 64\n",
    "learning_rate = 0.001"
   ]
  },
  {
   "cell_type": "code",
   "execution_count": 92,
   "id": "08e64f49",
   "metadata": {},
   "outputs": [],
   "source": [
    "test_dataset = datasets.MNIST(root='./data',\n",
    "                           train=False,\n",
    "                           transform=transforms.ToTensor())\n",
    "\n",
    "test_loader = torch.utils.data.DataLoader(dataset=test_dataset,\n",
    "                                          batch_size=batch_size,\n",
    "                                          shuffle=False)"
   ]
  },
  {
   "cell_type": "code",
   "execution_count": 93,
   "id": "1180c84e",
   "metadata": {},
   "outputs": [],
   "source": [
    "class Net(nn.Module):\n",
    "    def __init__(self, input_size, hidden_size0, hidden_size1, out_size):\n",
    "        super(Net, self).__init__()\n",
    "        self.fc0 = nn.Linear(input_size, hidden_size0)     #784 - 32\n",
    "        self.fc1 = nn.Linear(hidden_size0, hidden_size1)   #32 - 16\n",
    "        self.fc2 = nn.Linear(hidden_size1, out_size)       #16 - 10\n",
    "        self.tanh = nn.Tanh()\n",
    "        self.hidden_acts = []\n",
    "        self.init_weights()\n",
    "\n",
    "    def init_weights(self):\n",
    "        nn.init.xavier_uniform_(self.fc0.weight, gain = nn.init.calculate_gain('tanh')) \n",
    "        nn.init.xavier_uniform_(self.fc1.weight, gain = nn.init.calculate_gain('tanh'))\n",
    "        nn.init.xavier_uniform_(self.fc2.weight, gain = nn.init.calculate_gain('tanh'))\n",
    "\n",
    "    def forward(self, x):\n",
    "        a0 = self.tanh(self.fc0(x))\n",
    "        a1 = self.tanh(self.fc1(a0))\n",
    "        out = self.fc2(a1)\n",
    "        self.hidden_acts = [a0, a1]\n",
    "        return out"
   ]
  },
  {
   "cell_type": "code",
   "execution_count": 94,
   "id": "74150298",
   "metadata": {},
   "outputs": [],
   "source": [
    "net = Net(input_size, hidden_size0, hidden_size1, out_size)\n",
    "CUDA = torch.cuda.is_available()\n",
    "if CUDA:\n",
    "    net = net.cuda()"
   ]
  },
  {
   "cell_type": "code",
   "execution_count": 95,
   "id": "371aed47",
   "metadata": {},
   "outputs": [
    {
     "data": {
      "text/plain": [
       "<All keys matched successfully>"
      ]
     },
     "execution_count": 95,
     "metadata": {},
     "output_type": "execute_result"
    }
   ],
   "source": [
    "net.load_state_dict(torch.load(\"02_ffn_mnist_full.pth\"))"
   ]
  },
  {
   "cell_type": "code",
   "execution_count": 96,
   "id": "438d5592",
   "metadata": {},
   "outputs": [
    {
     "data": {
      "image/png": "[encoded data removed]",
      "text/plain": [
       "<Figure size 800x400 with 3 Axes>"
      ]
     },
     "metadata": {},
     "output_type": "display_data"
    }
   ],
   "source": [
    "device = torch.device('cuda' if torch.cuda.is_available() else 'cpu')\n",
    "inputs, labels = next(iter(test_loader))\n",
    "\n",
    "while True: #search target class:\n",
    "    ind = ra.randrange(0, len(inputs))\n",
    "    if labels[ind] == 8:\n",
    "        img = inputs[ind].squeeze()\n",
    "        break\n",
    "\n",
    "x = img.clone().detach().view(1, -1).to(device).requires_grad_(True)\n",
    "output = net(x)\n",
    "target_class = output.argmax(dim=1).item()\n",
    "net.zero_grad()\n",
    "output[0, target_class].backward()\n",
    "attribution = (x.grad * x).view(28, 28)\n",
    "saliency = attribution.cpu().detach().numpy()\n",
    "\n",
    "plt.figure(figsize=(8, 4))\n",
    "\n",
    "plt.subplot(1, 2, 1)\n",
    "plt.imshow(img, cmap='gray')\n",
    "plt.title(\"Original Image\")\n",
    "plt.axis('off')\n",
    "\n",
    "plt.subplot(1, 2, 2)\n",
    "plt.imshow(saliency)\n",
    "plt.title(\"Pixel Influence\")\n",
    "plt.colorbar()\n",
    "plt.axis('off')\n",
    "\n",
    "plt.tight_layout()\n",
    "plt.show()\n"
   ]
  },
  {
   "cell_type": "code",
   "execution_count": 97,
   "id": "35a5c72d",
   "metadata": {},
   "outputs": [
    {
     "data": {
      "image/png": "[encoded data removed]",
      "text/plain": [
       "<Figure size 1250x700 with 10 Axes>"
      ]
     },
     "metadata": {},
     "output_type": "display_data"
    }
   ],
   "source": [
    "layer_idx = 2 #2 = out layer\n",
    "layer_sizes = [32, 16, 10]\n",
    "neuron_indices = list(range(layer_sizes[layer_idx]))\n",
    "steps = 200\n",
    "lr = 0.1\n",
    "smoothing_sigma = 0.8\n",
    "\n",
    "net.eval()\n",
    "device = 'cuda' if CUDA else 'cpu'\n",
    "images = []\n",
    "\n",
    "for idx in neuron_indices:\n",
    "    input_image = torch.randn(1, 784, requires_grad=True, device=device)\n",
    "    optimizer = torch.optim.Adam([input_image], lr=lr)\n",
    "\n",
    "    for step in range(steps):\n",
    "        optimizer.zero_grad()\n",
    "        logits = net(input_image)\n",
    "        hidden_layers = net.hidden_acts\n",
    "        activation = logits[0, idx] if layer_idx == 2 else hidden_layers[0][0, idx]\n",
    "        loss = -activation\n",
    "        loss.backward()\n",
    "        optimizer.step()\n",
    "        with torch.no_grad():\n",
    "            input_image.clamp_(0, 1)\n",
    "\n",
    "    img_np = input_image.detach().cpu().view(28, 28).numpy()\n",
    "    if smoothing_sigma > 0:\n",
    "        img_np = gaussian_filter(img_np, sigma=smoothing_sigma)\n",
    "    images.append(img_np)\n",
    "\n",
    "#plotting\n",
    "rows = -(-len(images) // 5)\n",
    "plt.figure(figsize=(5 * 2.5, rows * 3.5))\n",
    "for i, img in enumerate(images):\n",
    "    plt.subplot(rows, 5, i + 1)\n",
    "    plt.imshow(img, cmap='gray')\n",
    "    plt.title(f'neuron {neuron_indices[i]}', fontsize=15)\n",
    "    plt.axis('off')\n",
    "\n",
    "plt.suptitle(f'Activation Maximization - Output Layer', fontsize=20)\n",
    "plt.tight_layout(rect=[0, 0, 1, 0.95])\n",
    "plt.show()\n",
    "\n",
    "#activation maximization gives all areas (white) that if overlapping with input >> 0 activate highly.\n",
    "#However, most neurons have very scattered white areas -> they also partly activate on other inputs."
   ]
  },
  {
   "cell_type": "code",
   "execution_count": 98,
   "id": "585667a0",
   "metadata": {},
   "outputs": [
    {
     "data": {
      "application/vnd.plotly.v1+json": {
       "config": {
        "plotlyServerURL": "https://plot.ly"
       },
       "data": [
        {
         "color": "rgb(176,176,176)",
         "i": [
          0,
          0,
          4,
          5,
          1,
          1,
          2,
          2,
          3,
          3,
          4,
          7
         ],
         "j": [
          1,
          3,
          5,
          6,
          2,
          5,
          3,
          6,
          0,
          7,
          0,
          4
         ],
         "k": [
          3,
          2,
          6,
          7,
          5,
          4,
          7,
          4,
          4,
          6,
          1,
          5
         ],
         "opacity": 1,
         "type": "mesh3d",
         "x": {
          "bdata": "AAAAAAAAAADNzMzMzMzsP83MzMzMzOw/AAAAAAAAAAAAAAAAAAAAAM3MzMzMzOw/zczMzMzM7D8AAAAAAAAAAA==",
          "dtype": "f8"
         },
         "y": {
          "bdata": "AAAAAAAAAAAAAAAAAAAAAM3MzMzMzOw/zczMzMzM7D8AAAAAAAAAAAAAAAAAAAAAzczMzMzM7D/NzMzMzMzsPw==",
          "dtype": "f8"
         },
         "z": {
          "bdata": "AAAAAAAAAAAAAAAAAAAAAAAAAAAAAAAAAAAAAAAAAAAAAACg7orePwAAAKDuit4/AAAAoO6K3j8AAACg7orePw==",
          "dtype": "f8"
         }
        },
        {
         "color": "rgb(61,61,61)",
         "i": [
          0,
          0,
          4,
          5,
          1,
          1,
          2,
          2,
          3,
          3,
          4,
          7
         ],
         "j": [
          1,
          3,
          5,
          6,
          2,
          5,
          3,
          6,
          0,
          7,
          0,
          4
         ],
         "k": [
          3,
          2,
          6,
          7,
          5,
          4,
          7,
          4,
          4,
          6,
          1,
          5
         ],
         "opacity": 1,
         "type": "mesh3d",
         "x": {
          "bdata": "AAAAAAAAAADNzMzMzMzsP83MzMzMzOw/AAAAAAAAAAAAAAAAAAAAAM3MzMzMzOw/zczMzMzM7D8AAAAAAAAAAA==",
          "dtype": "f8"
         },
         "y": {
          "bdata": "AAAAAAAA8D8AAAAAAADwP2ZmZmZmZv4/ZmZmZmZm/j8AAAAAAADwPwAAAAAAAPA/ZmZmZmZm/j9mZmZmZmb+Pw==",
          "dtype": "f8"
         },
         "z": {
          "bdata": "AAAAAAAAAAAAAAAAAAAAAAAAAAAAAAAAAAAAAAAAAAAAAAAgAlTFPwAAACACVMU/AAAAIAJUxT8AAAAgAlTFPw==",
          "dtype": "f8"
         }
        },
        {
         "color": "rgb(230,230,230)",
         "i": [
          0,
          0,
          4,
          5,
          1,
          1,
          2,
          2,
          3,
          3,
          4,
          7
         ],
         "j": [
          1,
          3,
          5,
          6,
          2,
          5,
          3,
          6,
          0,
          7,
          0,
          4
         ],
         "k": [
          3,
          2,
          6,
          7,
          5,
          4,
          7,
          4,
          4,
          6,
          1,
          5
         ],
         "opacity": 1,
         "type": "mesh3d",
         "x": {
          "bdata": "AAAAAAAAAADNzMzMzMzsP83MzMzMzOw/AAAAAAAAAAAAAAAAAAAAAM3MzMzMzOw/zczMzMzM7D8AAAAAAAAAAA==",
          "dtype": "f8"
         },
         "y": {
          "bdata": "AAAAAAAAAEAAAAAAAAAAQDMzMzMzMwdAMzMzMzMzB0AAAAAAAAAAQAAAAAAAAABAMzMzMzMzB0AzMzMzMzMHQA==",
          "dtype": "f8"
         },
         "z": {
          "bdata": "AAAAAAAAAAAAAAAAAAAAAAAAAAAAAAAAAAAAAAAAAAAAAACgf+/jPwAAAKB/7+M/AAAAoH/v4z8AAACgf+/jPw==",
          "dtype": "f8"
         }
        },
        {
         "color": "rgb(228,228,228)",
         "i": [
          0,
          0,
          4,
          5,
          1,
          1,
          2,
          2,
          3,
          3,
          4,
          7
         ],
         "j": [
          1,
          3,
          5,
          6,
          2,
          5,
          3,
          6,
          0,
          7,
          0,
          4
         ],
         "k": [
          3,
          2,
          6,
          7,
          5,
          4,
          7,
          4,
          4,
          6,
          1,
          5
         ],
         "opacity": 1,
         "type": "mesh3d",
         "x": {
          "bdata": "AAAAAAAAAADNzMzMzMzsP83MzMzMzOw/AAAAAAAAAAAAAAAAAAAAAM3MzMzMzOw/zczMzMzM7D8AAAAAAAAAAA==",
          "dtype": "f8"
         },
         "y": {
          "bdata": "AAAAAAAACEAAAAAAAAAIQDMzMzMzMw9AMzMzMzMzD0AAAAAAAAAIQAAAAAAAAAhAMzMzMzMzD0AzMzMzMzMPQA==",
          "dtype": "f8"
         },
         "z": {
          "bdata": "AAAAAAAAAAAAAAAAAAAAAAAAAAAAAAAAAAAAAAAAAAAAAACgs9LjPwAAAKCz0uM/AAAAoLPS4z8AAACgs9LjPw==",
          "dtype": "f8"
         }
        },
        {
         "color": "rgb(159,159,159)",
         "i": [
          0,
          0,
          4,
          5,
          1,
          1,
          2,
          2,
          3,
          3,
          4,
          7
         ],
         "j": [
          1,
          3,
          5,
          6,
          2,
          5,
          3,
          6,
          0,
          7,
          0,
          4
         ],
         "k": [
          3,
          2,
          6,
          7,
          5,
          4,
          7,
          4,
          4,
          6,
          1,
          5
         ],
         "opacity": 1,
         "type": "mesh3d",
         "x": {
          "bdata": "AAAAAAAAAADNzMzMzMzsP83MzMzMzOw/AAAAAAAAAAAAAAAAAAAAAM3MzMzMzOw/zczMzMzM7D8AAAAAAAAAAA==",
          "dtype": "f8"
         },
         "y": {
          "bdata": "AAAAAAAAEEAAAAAAAAAQQJqZmZmZmRNAmpmZmZmZE0AAAAAAAAAQQAAAAAAAABBAmpmZmZmZE0CamZmZmZkTQA==",
          "dtype": "f8"
         },
         "z": {
          "bdata": "AAAAAAAAAAAAAAAAAAAAAAAAAAAAAAAAAAAAAAAAAAAAAADAtqzbPwAAAMC2rNs/AAAAwLas2z8AAADAtqzbPw==",
          "dtype": "f8"
         }
        },
        {
         "color": "rgb(140,140,140)",
         "i": [
          0,
          0,
          4,
          5,
          1,
          1,
          2,
          2,
          3,
          3,
          4,
          7
         ],
         "j": [
          1,
          3,
          5,
          6,
          2,
          5,
          3,
          6,
          0,
          7,
          0,
          4
         ],
         "k": [
          3,
          2,
          6,
          7,
          5,
          4,
          7,
          4,
          4,
          6,
          1,
          5
         ],
         "opacity": 1,
         "type": "mesh3d",
         "x": {
          "bdata": "AAAAAAAAAADNzMzMzMzsP83MzMzMzOw/AAAAAAAAAAAAAAAAAAAAAM3MzMzMzOw/zczMzMzM7D8AAAAAAAAAAA==",
          "dtype": "f8"
         },
         "y": {
          "bdata": "AAAAAAAAFEAAAAAAAAAUQJqZmZmZmRdAmpmZmZmZF0AAAAAAAAAUQAAAAAAAABRAmpmZmZmZF0CamZmZmZkXQA==",
          "dtype": "f8"
         },
         "z": {
          "bdata": "AAAAAAAAAAAAAAAAAAAAAAAAAAAAAAAAAAAAAAAAAAAAAACgnGTYPwAAAKCcZNg/AAAAoJxk2D8AAACgnGTYPw==",
          "dtype": "f8"
         }
        },
        {
         "color": "rgb(155,155,155)",
         "i": [
          0,
          0,
          4,
          5,
          1,
          1,
          2,
          2,
          3,
          3,
          4,
          7
         ],
         "j": [
          1,
          3,
          5,
          6,
          2,
          5,
          3,
          6,
          0,
          7,
          0,
          4
         ],
         "k": [
          3,
          2,
          6,
          7,
          5,
          4,
          7,
          4,
          4,
          6,
          1,
          5
         ],
         "opacity": 1,
         "type": "mesh3d",
         "x": {
          "bdata": "AAAAAAAAAADNzMzMzMzsP83MzMzMzOw/AAAAAAAAAAAAAAAAAAAAAM3MzMzMzOw/zczMzMzM7D8AAAAAAAAAAA==",
          "dtype": "f8"
         },
         "y": {
          "bdata": "AAAAAAAAGEAAAAAAAAAYQJqZmZmZmRtAmpmZmZmZG0AAAAAAAAAYQAAAAAAAABhAmpmZmZmZG0CamZmZmZkbQA==",
          "dtype": "f8"
         },
         "z": {
          "bdata": "AAAAAAAAAAAAAAAAAAAAAAAAAAAAAAAAAAAAAAAAAAAAAABAAgDbPwAAAEACANs/AAAAQAIA2z8AAABAAgDbPw==",
          "dtype": "f8"
         }
        },
        {
         "color": "rgb(114,114,114)",
         "i": [
          0,
          0,
          4,
          5,
          1,
          1,
          2,
          2,
          3,
          3,
          4,
          7
         ],
         "j": [
          1,
          3,
          5,
          6,
          2,
          5,
          3,
          6,
          0,
          7,
          0,
          4
         ],
         "k": [
          3,
          2,
          6,
          7,
          5,
          4,
          7,
          4,
          4,
          6,
          1,
          5
         ],
         "opacity": 1,
         "type": "mesh3d",
         "x": {
          "bdata": "AAAAAAAA8D9mZmZmZmb+P2ZmZmZmZv4/AAAAAAAA8D8AAAAAAADwP2ZmZmZmZv4/ZmZmZmZm/j8AAAAAAADwPw==",
          "dtype": "f8"
         },
         "y": {
          "bdata": "AAAAAAAAAAAAAAAAAAAAAM3MzMzMzOw/zczMzMzM7D8AAAAAAAAAAAAAAAAAAAAAzczMzMzM7D/NzMzMzMzsPw==",
          "dtype": "f8"
         },
         "z": {
          "bdata": "AAAAAAAAAAAAAAAAAAAAAAAAAAAAAAAAAAAAAAAAAAAAAAAg9OHTPwAAACD04dM/AAAAIPTh0z8AAAAg9OHTPw==",
          "dtype": "f8"
         }
        },
        {
         "color": "rgb(181,181,181)",
         "i": [
          0,
          0,
          4,
          5,
          1,
          1,
          2,
          2,
          3,
          3,
          4,
          7
         ],
         "j": [
          1,
          3,
          5,
          6,
          2,
          5,
          3,
          6,
          0,
          7,
          0,
          4
         ],
         "k": [
          3,
          2,
          6,
          7,
          5,
          4,
          7,
          4,
          4,
          6,
          1,
          5
         ],
         "opacity": 1,
         "type": "mesh3d",
         "x": {
          "bdata": "AAAAAAAA8D9mZmZmZmb+P2ZmZmZmZv4/AAAAAAAA8D8AAAAAAADwP2ZmZmZmZv4/ZmZmZmZm/j8AAAAAAADwPw==",
          "dtype": "f8"
         },
         "y": {
          "bdata": "AAAAAAAA8D8AAAAAAADwP2ZmZmZmZv4/ZmZmZmZm/j8AAAAAAADwPwAAAAAAAPA/ZmZmZmZm/j9mZmZmZmb+Pw==",
          "dtype": "f8"
         },
         "z": {
          "bdata": "AAAAAAAAAAAAAAAAAAAAAAAAAAAAAAAAAAAAAAAAAAAAAABgPXrfPwAAAGA9et8/AAAAYD163z8AAABgPXrfPw==",
          "dtype": "f8"
         }
        },
        {
         "color": "rgb(241,241,241)",
         "i": [
          0,
          0,
          4,
          5,
          1,
          1,
          2,
          2,
          3,
          3,
          4,
          7
         ],
         "j": [
          1,
          3,
          5,
          6,
          2,
          5,
          3,
          6,
          0,
          7,
          0,
          4
         ],
         "k": [
          3,
          2,
          6,
          7,
          5,
          4,
          7,
          4,
          4,
          6,
          1,
          5
         ],
         "opacity": 1,
         "type": "mesh3d",
         "x": {
          "bdata": "AAAAAAAA8D9mZmZmZmb+P2ZmZmZmZv4/AAAAAAAA8D8AAAAAAADwP2ZmZmZmZv4/ZmZmZmZm/j8AAAAAAADwPw==",
          "dtype": "f8"
         },
         "y": {
          "bdata": "AAAAAAAAAEAAAAAAAAAAQDMzMzMzMwdAMzMzMzMzB0AAAAAAAAAAQAAAAAAAAABAMzMzMzMzB0AzMzMzMzMHQA==",
          "dtype": "f8"
         },
         "z": {
          "bdata": "AAAAAAAAAAAAAAAAAAAAAAAAAAAAAAAAAAAAAAAAAAAAAACgHfPkPwAAAKAd8+Q/AAAAoB3z5D8AAACgHfPkPw==",
          "dtype": "f8"
         }
        },
        {
         "color": "rgb(166,166,166)",
         "i": [
          0,
          0,
          4,
          5,
          1,
          1,
          2,
          2,
          3,
          3,
          4,
          7
         ],
         "j": [
          1,
          3,
          5,
          6,
          2,
          5,
          3,
          6,
          0,
          7,
          0,
          4
         ],
         "k": [
          3,
          2,
          6,
          7,
          5,
          4,
          7,
          4,
          4,
          6,
          1,
          5
         ],
         "opacity": 1,
         "type": "mesh3d",
         "x": {
          "bdata": "AAAAAAAA8D9mZmZmZmb+P2ZmZmZmZv4/AAAAAAAA8D8AAAAAAADwP2ZmZmZmZv4/ZmZmZmZm/j8AAAAAAADwPw==",
          "dtype": "f8"
         },
         "y": {
          "bdata": "AAAAAAAACEAAAAAAAAAIQDMzMzMzMw9AMzMzMzMzD0AAAAAAAAAIQAAAAAAAAAhAMzMzMzMzD0AzMzMzMzMPQA==",
          "dtype": "f8"
         },
         "z": {
          "bdata": "AAAAAAAAAAAAAAAAAAAAAAAAAAAAAAAAAAAAAAAAAAAAAABgjencPwAAAGCN6dw/AAAAYI3p3D8AAABgjencPw==",
          "dtype": "f8"
         }
        },
        {
         "color": "rgb(183,183,183)",
         "i": [
          0,
          0,
          4,
          5,
          1,
          1,
          2,
          2,
          3,
          3,
          4,
          7
         ],
         "j": [
          1,
          3,
          5,
          6,
          2,
          5,
          3,
          6,
          0,
          7,
          0,
          4
         ],
         "k": [
          3,
          2,
          6,
          7,
          5,
          4,
          7,
          4,
          4,
          6,
          1,
          5
         ],
         "opacity": 1,
         "type": "mesh3d",
         "x": {
          "bdata": "AAAAAAAA8D9mZmZmZmb+P2ZmZmZmZv4/AAAAAAAA8D8AAAAAAADwP2ZmZmZmZv4/ZmZmZmZm/j8AAAAAAADwPw==",
          "dtype": "f8"
         },
         "y": {
          "bdata": "AAAAAAAAEEAAAAAAAAAQQJqZmZmZmRNAmpmZmZmZE0AAAAAAAAAQQAAAAAAAABBAmpmZmZmZE0CamZmZmZkTQA==",
          "dtype": "f8"
         },
         "z": {
          "bdata": "AAAAAAAAAAAAAAAAAAAAAAAAAAAAAAAAAAAAAAAAAAAAAADAG7zfPwAAAMAbvN8/AAAAwBu83z8AAADAG7zfPw==",
          "dtype": "f8"
         }
        },
        {
         "color": "rgb(145,145,145)",
         "i": [
          0,
          0,
          4,
          5,
          1,
          1,
          2,
          2,
          3,
          3,
          4,
          7
         ],
         "j": [
          1,
          3,
          5,
          6,
          2,
          5,
          3,
          6,
          0,
          7,
          0,
          4
         ],
         "k": [
          3,
          2,
          6,
          7,
          5,
          4,
          7,
          4,
          4,
          6,
          1,
          5
         ],
         "opacity": 1,
         "type": "mesh3d",
         "x": {
          "bdata": "AAAAAAAA8D9mZmZmZmb+P2ZmZmZmZv4/AAAAAAAA8D8AAAAAAADwP2ZmZmZmZv4/ZmZmZmZm/j8AAAAAAADwPw==",
          "dtype": "f8"
         },
         "y": {
          "bdata": "AAAAAAAAFEAAAAAAAAAUQJqZmZmZmRdAmpmZmZmZF0AAAAAAAAAUQAAAAAAAABRAmpmZmZmZF0CamZmZmZkXQA==",
          "dtype": "f8"
         },
         "z": {
          "bdata": "AAAAAAAAAAAAAAAAAAAAAAAAAAAAAAAAAAAAAAAAAAAAAAAg1iXZPwAAACDWJdk/AAAAINYl2T8AAAAg1iXZPw==",
          "dtype": "f8"
         }
        },
        {
         "color": "rgb(84,84,84)",
         "i": [
          0,
          0,
          4,
          5,
          1,
          1,
          2,
          2,
          3,
          3,
          4,
          7
         ],
         "j": [
          1,
          3,
          5,
          6,
          2,
          5,
          3,
          6,
          0,
          7,
          0,
          4
         ],
         "k": [
          3,
          2,
          6,
          7,
          5,
          4,
          7,
          4,
          4,
          6,
          1,
          5
         ],
         "opacity": 1,
         "type": "mesh3d",
         "x": {
          "bdata": "AAAAAAAA8D9mZmZmZmb+P2ZmZmZmZv4/AAAAAAAA8D8AAAAAAADwP2ZmZmZmZv4/ZmZmZmZm/j8AAAAAAADwPw==",
          "dtype": "f8"
         },
         "y": {
          "bdata": "AAAAAAAAGEAAAAAAAAAYQJqZmZmZmRtAmpmZmZmZG0AAAAAAAAAYQAAAAAAAABhAmpmZmZmZG0CamZmZmZkbQA==",
          "dtype": "f8"
         },
         "z": {
          "bdata": "AAAAAAAAAAAAAAAAAAAAAAAAAAAAAAAAAAAAAAAAAAAAAACAODLNPwAAAIA4Ms0/AAAAgDgyzT8AAACAODLNPw==",
          "dtype": "f8"
         }
        },
        {
         "color": "rgb(120,120,120)",
         "i": [
          0,
          0,
          4,
          5,
          1,
          1,
          2,
          2,
          3,
          3,
          4,
          7
         ],
         "j": [
          1,
          3,
          5,
          6,
          2,
          5,
          3,
          6,
          0,
          7,
          0,
          4
         ],
         "k": [
          3,
          2,
          6,
          7,
          5,
          4,
          7,
          4,
          4,
          6,
          1,
          5
         ],
         "opacity": 1,
         "type": "mesh3d",
         "x": {
          "bdata": "AAAAAAAAAEAzMzMzMzMHQDMzMzMzMwdAAAAAAAAAAEAAAAAAAAAAQDMzMzMzMwdAMzMzMzMzB0AAAAAAAAAAQA==",
          "dtype": "f8"
         },
         "y": {
          "bdata": "AAAAAAAAAAAAAAAAAAAAAM3MzMzMzOw/zczMzMzM7D8AAAAAAAAAAAAAAAAAAAAAzczMzMzM7D/NzMzMzMzsPw==",
          "dtype": "f8"
         },
         "z": {
          "bdata": "AAAAAAAAAAAAAAAAAAAAAAAAAAAAAAAAAAAAAAAAAAAAAACAyevUPwAAAIDJ69Q/AAAAgMnr1D8AAACAyevUPw==",
          "dtype": "f8"
         }
        },
        {
         "color": "rgb(215,215,215)",
         "i": [
          0,
          0,
          4,
          5,
          1,
          1,
          2,
          2,
          3,
          3,
          4,
          7
         ],
         "j": [
          1,
          3,
          5,
          6,
          2,
          5,
          3,
          6,
          0,
          7,
          0,
          4
         ],
         "k": [
          3,
          2,
          6,
          7,
          5,
          4,
          7,
          4,
          4,
          6,
          1,
          5
         ],
         "opacity": 1,
         "type": "mesh3d",
         "x": {
          "bdata": "AAAAAAAAAEAzMzMzMzMHQDMzMzMzMwdAAAAAAAAAAEAAAAAAAAAAQDMzMzMzMwdAMzMzMzMzB0AAAAAAAAAAQA==",
          "dtype": "f8"
         },
         "y": {
          "bdata": "AAAAAAAA8D8AAAAAAADwP2ZmZmZmZv4/ZmZmZmZm/j8AAAAAAADwPwAAAAAAAPA/ZmZmZmZm/j9mZmZmZmb+Pw==",
          "dtype": "f8"
         },
         "z": {
          "bdata": "AAAAAAAAAAAAAAAAAAAAAAAAAAAAAAAAAAAAAAAAAAAAAAAA+LLiPwAAAAD4suI/AAAAAPiy4j8AAAAA+LLiPw==",
          "dtype": "f8"
         }
        },
        {
         "color": "rgb(194,194,194)",
         "i": [
          0,
          0,
          4,
          5,
          1,
          1,
          2,
          2,
          3,
          3,
          4,
          7
         ],
         "j": [
          1,
          3,
          5,
          6,
          2,
          5,
          3,
          6,
          0,
          7,
          0,
          4
         ],
         "k": [
          3,
          2,
          6,
          7,
          5,
          4,
          7,
          4,
          4,
          6,
          1,
          5
         ],
         "opacity": 1,
         "type": "mesh3d",
         "x": {
          "bdata": "AAAAAAAAAEAzMzMzMzMHQDMzMzMzMwdAAAAAAAAAAEAAAAAAAAAAQDMzMzMzMwdAMzMzMzMzB0AAAAAAAAAAQA==",
          "dtype": "f8"
         },
         "y": {
          "bdata": "AAAAAAAAAEAAAAAAAAAAQDMzMzMzMwdAMzMzMzMzB0AAAAAAAAAAQAAAAAAAAABAMzMzMzMzB0AzMzMzMzMHQA==",
          "dtype": "f8"
         },
         "z": {
          "bdata": "AAAAAAAAAAAAAAAAAAAAAAAAAAAAAAAAAAAAAAAAAAAAAACAR9jgPwAAAIBH2OA/AAAAgEfY4D8AAACAR9jgPw==",
          "dtype": "f8"
         }
        },
        {
         "color": "rgb(58,58,58)",
         "i": [
          0,
          0,
          4,
          5,
          1,
          1,
          2,
          2,
          3,
          3,
          4,
          7
         ],
         "j": [
          1,
          3,
          5,
          6,
          2,
          5,
          3,
          6,
          0,
          7,
          0,
          4
         ],
         "k": [
          3,
          2,
          6,
          7,
          5,
          4,
          7,
          4,
          4,
          6,
          1,
          5
         ],
         "opacity": 1,
         "type": "mesh3d",
         "x": {
          "bdata": "AAAAAAAAAEAzMzMzMzMHQDMzMzMzMwdAAAAAAAAAAEAAAAAAAAAAQDMzMzMzMwdAMzMzMzMzB0AAAAAAAAAAQA==",
          "dtype": "f8"
         },
         "y": {
          "bdata": "AAAAAAAACEAAAAAAAAAIQDMzMzMzMw9AMzMzMzMzD0AAAAAAAAAIQAAAAAAAAAhAMzMzMzMzD0AzMzMzMzMPQA==",
          "dtype": "f8"
         },
         "z": {
          "bdata": "AAAAAAAAAAAAAAAAAAAAAAAAAAAAAAAAAAAAAAAAAAAAAADghzPEPwAAAOCHM8Q/AAAA4IczxD8AAADghzPEPw==",
          "dtype": "f8"
         }
        },
        {
         "color": "rgb(75,75,75)",
         "i": [
          0,
          0,
          4,
          5,
          1,
          1,
          2,
          2,
          3,
          3,
          4,
          7
         ],
         "j": [
          1,
          3,
          5,
          6,
          2,
          5,
          3,
          6,
          0,
          7,
          0,
          4
         ],
         "k": [
          3,
          2,
          6,
          7,
          5,
          4,
          7,
          4,
          4,
          6,
          1,
          5
         ],
         "opacity": 1,
         "type": "mesh3d",
         "x": {
          "bdata": "AAAAAAAAAEAzMzMzMzMHQDMzMzMzMwdAAAAAAAAAAEAAAAAAAAAAQDMzMzMzMwdAMzMzMzMzB0AAAAAAAAAAQA==",
          "dtype": "f8"
         },
         "y": {
          "bdata": "AAAAAAAAEEAAAAAAAAAQQJqZmZmZmRNAmpmZmZmZE0AAAAAAAAAQQAAAAAAAABBAmpmZmZmZE0CamZmZmZkTQA==",
          "dtype": "f8"
         },
         "z": {
          "bdata": "AAAAAAAAAAAAAAAAAAAAAAAAAAAAAAAAAAAAAAAAAAAAAACAGUHKPwAAAIAZQco/AAAAgBlByj8AAACAGUHKPw==",
          "dtype": "f8"
         }
        },
        {
         "color": "rgb(132,132,132)",
         "i": [
          0,
          0,
          4,
          5,
          1,
          1,
          2,
          2,
          3,
          3,
          4,
          7
         ],
         "j": [
          1,
          3,
          5,
          6,
          2,
          5,
          3,
          6,
          0,
          7,
          0,
          4
         ],
         "k": [
          3,
          2,
          6,
          7,
          5,
          4,
          7,
          4,
          4,
          6,
          1,
          5
         ],
         "opacity": 1,
         "type": "mesh3d",
         "x": {
          "bdata": "AAAAAAAAAEAzMzMzMzMHQDMzMzMzMwdAAAAAAAAAAEAAAAAAAAAAQDMzMzMzMwdAMzMzMzMzB0AAAAAAAAAAQA==",
          "dtype": "f8"
         },
         "y": {
          "bdata": "AAAAAAAAFEAAAAAAAAAUQJqZmZmZmRdAmpmZmZmZF0AAAAAAAAAUQAAAAAAAABRAmpmZmZmZF0CamZmZmZkXQA==",
          "dtype": "f8"
         },
         "z": {
          "bdata": "AAAAAAAAAAAAAAAAAAAAAAAAAAAAAAAAAAAAAAAAAAAAAAAAFOHWPwAAAAAU4dY/AAAAABTh1j8AAAAAFOHWPw==",
          "dtype": "f8"
         }
        },
        {
         "color": "rgb(110,110,110)",
         "i": [
          0,
          0,
          4,
          5,
          1,
          1,
          2,
          2,
          3,
          3,
          4,
          7
         ],
         "j": [
          1,
          3,
          5,
          6,
          2,
          5,
          3,
          6,
          0,
          7,
          0,
          4
         ],
         "k": [
          3,
          2,
          6,
          7,
          5,
          4,
          7,
          4,
          4,
          6,
          1,
          5
         ],
         "opacity": 1,
         "type": "mesh3d",
         "x": {
          "bdata": "AAAAAAAAAEAzMzMzMzMHQDMzMzMzMwdAAAAAAAAAAEAAAAAAAAAAQDMzMzMzMwdAMzMzMzMzB0AAAAAAAAAAQA==",
          "dtype": "f8"
         },
         "y": {
          "bdata": "AAAAAAAAGEAAAAAAAAAYQJqZmZmZmRtAmpmZmZmZG0AAAAAAAAAYQAAAAAAAABhAmpmZmZmZG0CamZmZmZkbQA==",
          "dtype": "f8"
         },
         "z": {
          "bdata": "AAAAAAAAAAAAAAAAAAAAAAAAAAAAAAAAAAAAAAAAAAAAAACAhRDTPwAAAICFENM/AAAAgIUQ0z8AAACAhRDTPw==",
          "dtype": "f8"
         }
        },
        {
         "color": "rgb(132,132,132)",
         "i": [
          0,
          0,
          4,
          5,
          1,
          1,
          2,
          2,
          3,
          3,
          4,
          7
         ],
         "j": [
          1,
          3,
          5,
          6,
          2,
          5,
          3,
          6,
          0,
          7,
          0,
          4
         ],
         "k": [
          3,
          2,
          6,
          7,
          5,
          4,
          7,
          4,
          4,
          6,
          1,
          5
         ],
         "opacity": 1,
         "type": "mesh3d",
         "x": {
          "bdata": "AAAAAAAACEAzMzMzMzMPQDMzMzMzMw9AAAAAAAAACEAAAAAAAAAIQDMzMzMzMw9AMzMzMzMzD0AAAAAAAAAIQA==",
          "dtype": "f8"
         },
         "y": {
          "bdata": "AAAAAAAAAAAAAAAAAAAAAM3MzMzMzOw/zczMzMzM7D8AAAAAAAAAAAAAAAAAAAAAzczMzMzM7D/NzMzMzMzsPw==",
          "dtype": "f8"
         },
         "z": {
          "bdata": "AAAAAAAAAAAAAAAAAAAAAAAAAAAAAAAAAAAAAAAAAAAAAAAgXQnXPwAAACBdCdc/AAAAIF0J1z8AAAAgXQnXPw==",
          "dtype": "f8"
         }
        },
        {
         "color": "rgb(185,185,185)",
         "i": [
          0,
          0,
          4,
          5,
          1,
          1,
          2,
          2,
          3,
          3,
          4,
          7
         ],
         "j": [
          1,
          3,
          5,
          6,
          2,
          5,
          3,
          6,
          0,
          7,
          0,
          4
         ],
         "k": [
          3,
          2,
          6,
          7,
          5,
          4,
          7,
          4,
          4,
          6,
          1,
          5
         ],
         "opacity": 1,
         "type": "mesh3d",
         "x": {
          "bdata": "AAAAAAAACEAzMzMzMzMPQDMzMzMzMw9AAAAAAAAACEAAAAAAAAAIQDMzMzMzMw9AMzMzMzMzD0AAAAAAAAAIQA==",
          "dtype": "f8"
         },
         "y": {
          "bdata": "AAAAAAAA8D8AAAAAAADwP2ZmZmZmZv4/ZmZmZmZm/j8AAAAAAADwPwAAAAAAAPA/ZmZmZmZm/j9mZmZmZmb+Pw==",
          "dtype": "f8"
         },
         "z": {
          "bdata": "AAAAAAAAAAAAAAAAAAAAAAAAAAAAAAAAAAAAAAAAAAAAAABgVw7gPwAAAGBXDuA/AAAAYFcO4D8AAABgVw7gPw==",
          "dtype": "f8"
         }
        },
        {
         "color": "rgb(203,203,203)",
         "i": [
          0,
          0,
          4,
          5,
          1,
          1,
          2,
          2,
          3,
          3,
          4,
          7
         ],
         "j": [
          1,
          3,
          5,
          6,
          2,
          5,
          3,
          6,
          0,
          7,
          0,
          4
         ],
         "k": [
          3,
          2,
          6,
          7,
          5,
          4,
          7,
          4,
          4,
          6,
          1,
          5
         ],
         "opacity": 1,
         "type": "mesh3d",
         "x": {
          "bdata": "AAAAAAAACEAzMzMzMzMPQDMzMzMzMw9AAAAAAAAACEAAAAAAAAAIQDMzMzMzMw9AMzMzMzMzD0AAAAAAAAAIQA==",
          "dtype": "f8"
         },
         "y": {
          "bdata": "AAAAAAAAAEAAAAAAAAAAQDMzMzMzMwdAMzMzMzMzB0AAAAAAAAAAQAAAAAAAAABAMzMzMzMzB0AzMzMzMzMHQA==",
          "dtype": "f8"
         },
         "z": {
          "bdata": "AAAAAAAAAAAAAAAAAAAAAAAAAAAAAAAAAAAAAAAAAAAAAACgiKrhPwAAAKCIquE/AAAAoIiq4T8AAACgiKrhPw==",
          "dtype": "f8"
         }
        },
        {
         "color": "rgb(155,155,155)",
         "i": [
          0,
          0,
          4,
          5,
          1,
          1,
          2,
          2,
          3,
          3,
          4,
          7
         ],
         "j": [
          1,
          3,
          5,
          6,
          2,
          5,
          3,
          6,
          0,
          7,
          0,
          4
         ],
         "k": [
          3,
          2,
          6,
          7,
          5,
          4,
          7,
          4,
          4,
          6,
          1,
          5
         ],
         "opacity": 1,
         "type": "mesh3d",
         "x": {
          "bdata": "AAAAAAAACEAzMzMzMzMPQDMzMzMzMw9AAAAAAAAACEAAAAAAAAAIQDMzMzMzMw9AMzMzMzMzD0AAAAAAAAAIQA==",
          "dtype": "f8"
         },
         "y": {
          "bdata": "AAAAAAAACEAAAAAAAAAIQDMzMzMzMw9AMzMzMzMzD0AAAAAAAAAIQAAAAAAAAAhAMzMzMzMzD0AzMzMzMzMPQA==",
          "dtype": "f8"
         },
         "z": {
          "bdata": "AAAAAAAAAAAAAAAAAAAAAAAAAAAAAAAAAAAAAAAAAAAAAABg4/jaPwAAAGDj+No/AAAAYOP42j8AAABg4/jaPw==",
          "dtype": "f8"
         }
        },
        {
         "color": "rgb(89,89,89)",
         "i": [
          0,
          0,
          4,
          5,
          1,
          1,
          2,
          2,
          3,
          3,
          4,
          7
         ],
         "j": [
          1,
          3,
          5,
          6,
          2,
          5,
          3,
          6,
          0,
          7,
          0,
          4
         ],
         "k": [
          3,
          2,
          6,
          7,
          5,
          4,
          7,
          4,
          4,
          6,
          1,
          5
         ],
         "opacity": 1,
         "type": "mesh3d",
         "x": {
          "bdata": "AAAAAAAACEAzMzMzMzMPQDMzMzMzMw9AAAAAAAAACEAAAAAAAAAIQDMzMzMzMw9AMzMzMzMzD0AAAAAAAAAIQA==",
          "dtype": "f8"
         },
         "y": {
          "bdata": "AAAAAAAAEEAAAAAAAAAQQJqZmZmZmRNAmpmZmZmZE0AAAAAAAAAQQAAAAAAAABBAmpmZmZmZE0CamZmZmZkTQA==",
          "dtype": "f8"
         },
         "z": {
          "bdata": "AAAAAAAAAAAAAAAAAAAAAAAAAAAAAAAAAAAAAAAAAAAAAADgvSjPPwAAAOC9KM8/AAAA4L0ozz8AAADgvSjPPw==",
          "dtype": "f8"
         }
        },
        {
         "color": "rgb(214,214,214)",
         "i": [
          0,
          0,
          4,
          5,
          1,
          1,
          2,
          2,
          3,
          3,
          4,
          7
         ],
         "j": [
          1,
          3,
          5,
          6,
          2,
          5,
          3,
          6,
          0,
          7,
          0,
          4
         ],
         "k": [
          3,
          2,
          6,
          7,
          5,
          4,
          7,
          4,
          4,
          6,
          1,
          5
         ],
         "opacity": 1,
         "type": "mesh3d",
         "x": {
          "bdata": "AAAAAAAACEAzMzMzMzMPQDMzMzMzMw9AAAAAAAAACEAAAAAAAAAIQDMzMzMzMw9AMzMzMzMzD0AAAAAAAAAIQA==",
          "dtype": "f8"
         },
         "y": {
          "bdata": "AAAAAAAAFEAAAAAAAAAUQJqZmZmZmRdAmpmZmZmZF0AAAAAAAAAUQAAAAAAAABRAmpmZmZmZF0CamZmZmZkXQA==",
          "dtype": "f8"
         },
         "z": {
          "bdata": "AAAAAAAAAAAAAAAAAAAAAAAAAAAAAAAAAAAAAAAAAAAAAACArZHiPwAAAICtkeI/AAAAgK2R4j8AAACArZHiPw==",
          "dtype": "f8"
         }
        },
        {
         "color": "rgb(123,123,123)",
         "i": [
          0,
          0,
          4,
          5,
          1,
          1,
          2,
          2,
          3,
          3,
          4,
          7
         ],
         "j": [
          1,
          3,
          5,
          6,
          2,
          5,
          3,
          6,
          0,
          7,
          0,
          4
         ],
         "k": [
          3,
          2,
          6,
          7,
          5,
          4,
          7,
          4,
          4,
          6,
          1,
          5
         ],
         "opacity": 1,
         "type": "mesh3d",
         "x": {
          "bdata": "AAAAAAAACEAzMzMzMzMPQDMzMzMzMw9AAAAAAAAACEAAAAAAAAAIQDMzMzMzMw9AMzMzMzMzD0AAAAAAAAAIQA==",
          "dtype": "f8"
         },
         "y": {
          "bdata": "AAAAAAAAGEAAAAAAAAAYQJqZmZmZmRtAmpmZmZmZG0AAAAAAAAAYQAAAAAAAABhAmpmZmZmZG0CamZmZmZkbQA==",
          "dtype": "f8"
         },
         "z": {
          "bdata": "AAAAAAAAAAAAAAAAAAAAAAAAAAAAAAAAAAAAAAAAAAAAAADgE3rVPwAAAOATetU/AAAA4BN61T8AAADgE3rVPw==",
          "dtype": "f8"
         }
        },
        {
         "color": "rgb(141,141,141)",
         "i": [
          0,
          0,
          4,
          5,
          1,
          1,
          2,
          2,
          3,
          3,
          4,
          7
         ],
         "j": [
          1,
          3,
          5,
          6,
          2,
          5,
          3,
          6,
          0,
          7,
          0,
          4
         ],
         "k": [
          3,
          2,
          6,
          7,
          5,
          4,
          7,
          4,
          4,
          6,
          1,
          5
         ],
         "opacity": 1,
         "type": "mesh3d",
         "x": {
          "bdata": "AAAAAAAAEECamZmZmZkTQJqZmZmZmRNAAAAAAAAAEEAAAAAAAAAQQJqZmZmZmRNAmpmZmZmZE0AAAAAAAAAQQA==",
          "dtype": "f8"
         },
         "y": {
          "bdata": "AAAAAAAAAAAAAAAAAAAAAM3MzMzMzOw/zczMzMzM7D8AAAAAAAAAAAAAAAAAAAAAzczMzMzM7D/NzMzMzMzsPw==",
          "dtype": "f8"
         },
         "z": {
          "bdata": "AAAAAAAAAAAAAAAAAAAAAAAAAAAAAAAAAAAAAAAAAAAAAADgo3rYPwAAAOCjetg/AAAA4KN62D8AAADgo3rYPw==",
          "dtype": "f8"
         }
        },
        {
         "color": "rgb(108,108,108)",
         "i": [
          0,
          0,
          4,
          5,
          1,
          1,
          2,
          2,
          3,
          3,
          4,
          7
         ],
         "j": [
          1,
          3,
          5,
          6,
          2,
          5,
          3,
          6,
          0,
          7,
          0,
          4
         ],
         "k": [
          3,
          2,
          6,
          7,
          5,
          4,
          7,
          4,
          4,
          6,
          1,
          5
         ],
         "opacity": 1,
         "type": "mesh3d",
         "x": {
          "bdata": "AAAAAAAAEECamZmZmZkTQJqZmZmZmRNAAAAAAAAAEEAAAAAAAAAQQJqZmZmZmRNAmpmZmZmZE0AAAAAAAAAQQA==",
          "dtype": "f8"
         },
         "y": {
          "bdata": "AAAAAAAA8D8AAAAAAADwP2ZmZmZmZv4/ZmZmZmZm/j8AAAAAAADwPwAAAAAAAPA/ZmZmZmZm/j9mZmZmZmb+Pw==",
          "dtype": "f8"
         },
         "z": {
          "bdata": "AAAAAAAAAAAAAAAAAAAAAAAAAAAAAAAAAAAAAAAAAAAAAACAuNrSPwAAAIC42tI/AAAAgLja0j8AAACAuNrSPw==",
          "dtype": "f8"
         }
        },
        {
         "color": "rgb(175,175,175)",
         "i": [
          0,
          0,
          4,
          5,
          1,
          1,
          2,
          2,
          3,
          3,
          4,
          7
         ],
         "j": [
          1,
          3,
          5,
          6,
          2,
          5,
          3,
          6,
          0,
          7,
          0,
          4
         ],
         "k": [
          3,
          2,
          6,
          7,
          5,
          4,
          7,
          4,
          4,
          6,
          1,
          5
         ],
         "opacity": 1,
         "type": "mesh3d",
         "x": {
          "bdata": "AAAAAAAAEECamZmZmZkTQJqZmZmZmRNAAAAAAAAAEEAAAAAAAAAQQJqZmZmZmRNAmpmZmZmZE0AAAAAAAAAQQA==",
          "dtype": "f8"
         },
         "y": {
          "bdata": "AAAAAAAAAEAAAAAAAAAAQDMzMzMzMwdAMzMzMzMzB0AAAAAAAAAAQAAAAAAAAABAMzMzMzMzB0AzMzMzMzMHQA==",
          "dtype": "f8"
         },
         "z": {
          "bdata": "AAAAAAAAAAAAAAAAAAAAAAAAAAAAAAAAAAAAAAAAAAAAAAAAf3LePwAAAAB/ct4/AAAAAH9y3j8AAAAAf3LePw==",
          "dtype": "f8"
         }
        },
        {
         "color": "rgb(255,255,255)",
         "i": [
          0,
          0,
          4,
          5,
          1,
          1,
          2,
          2,
          3,
          3,
          4,
          7
         ],
         "j": [
          1,
          3,
          5,
          6,
          2,
          5,
          3,
          6,
          0,
          7,
          0,
          4
         ],
         "k": [
          3,
          2,
          6,
          7,
          5,
          4,
          7,
          4,
          4,
          6,
          1,
          5
         ],
         "opacity": 1,
         "type": "mesh3d",
         "x": {
          "bdata": "AAAAAAAAEECamZmZmZkTQJqZmZmZmRNAAAAAAAAAEEAAAAAAAAAQQJqZmZmZmRNAmpmZmZmZE0AAAAAAAAAQQA==",
          "dtype": "f8"
         },
         "y": {
          "bdata": "AAAAAAAACEAAAAAAAAAIQDMzMzMzMw9AMzMzMzMzD0AAAAAAAAAIQAAAAAAAAAhAMzMzMzMzD0AzMzMzMzMPQA==",
          "dtype": "f8"
         },
         "z": {
          "bdata": "AAAAAAAAAAAAAAAAAAAAAAAAAAAAAAAAAAAAAAAAAAAAAADg1hbmPwAAAODWFuY/AAAA4NYW5j8AAADg1hbmPw==",
          "dtype": "f8"
         }
        },
        {
         "color": "rgb(182,182,182)",
         "i": [
          0,
          0,
          4,
          5,
          1,
          1,
          2,
          2,
          3,
          3,
          4,
          7
         ],
         "j": [
          1,
          3,
          5,
          6,
          2,
          5,
          3,
          6,
          0,
          7,
          0,
          4
         ],
         "k": [
          3,
          2,
          6,
          7,
          5,
          4,
          7,
          4,
          4,
          6,
          1,
          5
         ],
         "opacity": 1,
         "type": "mesh3d",
         "x": {
          "bdata": "AAAAAAAAEECamZmZmZkTQJqZmZmZmRNAAAAAAAAAEEAAAAAAAAAQQJqZmZmZmRNAmpmZmZmZE0AAAAAAAAAQQA==",
          "dtype": "f8"
         },
         "y": {
          "bdata": "AAAAAAAAEEAAAAAAAAAQQJqZmZmZmRNAmpmZmZmZE0AAAAAAAAAQQAAAAAAAABBAmpmZmZmZE0CamZmZmZkTQA==",
          "dtype": "f8"
         },
         "z": {
          "bdata": "AAAAAAAAAAAAAAAAAAAAAAAAAAAAAAAAAAAAAAAAAAAAAABgrpLfPwAAAGCukt8/AAAAYK6S3z8AAABgrpLfPw==",
          "dtype": "f8"
         }
        },
        {
         "color": "rgb(241,241,241)",
         "i": [
          0,
          0,
          4,
          5,
          1,
          1,
          2,
          2,
          3,
          3,
          4,
          7
         ],
         "j": [
          1,
          3,
          5,
          6,
          2,
          5,
          3,
          6,
          0,
          7,
          0,
          4
         ],
         "k": [
          3,
          2,
          6,
          7,
          5,
          4,
          7,
          4,
          4,
          6,
          1,
          5
         ],
         "opacity": 1,
         "type": "mesh3d",
         "x": {
          "bdata": "AAAAAAAAEECamZmZmZkTQJqZmZmZmRNAAAAAAAAAEEAAAAAAAAAQQJqZmZmZmRNAmpmZmZmZE0AAAAAAAAAQQA==",
          "dtype": "f8"
         },
         "y": {
          "bdata": "AAAAAAAAFEAAAAAAAAAUQJqZmZmZmRdAmpmZmZmZF0AAAAAAAAAUQAAAAAAAABRAmpmZmZmZF0CamZmZmZkXQA==",
          "dtype": "f8"
         },
         "z": {
          "bdata": "AAAAAAAAAAAAAAAAAAAAAAAAAAAAAAAAAAAAAAAAAAAAAADAs+HkPwAAAMCz4eQ/AAAAwLPh5D8AAADAs+HkPw==",
          "dtype": "f8"
         }
        },
        {
         "color": "rgb(121,121,121)",
         "i": [
          0,
          0,
          4,
          5,
          1,
          1,
          2,
          2,
          3,
          3,
          4,
          7
         ],
         "j": [
          1,
          3,
          5,
          6,
          2,
          5,
          3,
          6,
          0,
          7,
          0,
          4
         ],
         "k": [
          3,
          2,
          6,
          7,
          5,
          4,
          7,
          4,
          4,
          6,
          1,
          5
         ],
         "opacity": 1,
         "type": "mesh3d",
         "x": {
          "bdata": "AAAAAAAAEECamZmZmZkTQJqZmZmZmRNAAAAAAAAAEEAAAAAAAAAQQJqZmZmZmRNAmpmZmZmZE0AAAAAAAAAQQA==",
          "dtype": "f8"
         },
         "y": {
          "bdata": "AAAAAAAAGEAAAAAAAAAYQJqZmZmZmRtAmpmZmZmZG0AAAAAAAAAYQAAAAAAAABhAmpmZmZmZG0CamZmZmZkbQA==",
          "dtype": "f8"
         },
         "z": {
          "bdata": "AAAAAAAAAAAAAAAAAAAAAAAAAAAAAAAAAAAAAAAAAAAAAAAARfzUPwAAAABF/NQ/AAAAAEX81D8AAAAARfzUPw==",
          "dtype": "f8"
         }
        },
        {
         "color": "rgb(116,116,116)",
         "i": [
          0,
          0,
          4,
          5,
          1,
          1,
          2,
          2,
          3,
          3,
          4,
          7
         ],
         "j": [
          1,
          3,
          5,
          6,
          2,
          5,
          3,
          6,
          0,
          7,
          0,
          4
         ],
         "k": [
          3,
          2,
          6,
          7,
          5,
          4,
          7,
          4,
          4,
          6,
          1,
          5
         ],
         "opacity": 1,
         "type": "mesh3d",
         "x": {
          "bdata": "AAAAAAAAFECamZmZmZkXQJqZmZmZmRdAAAAAAAAAFEAAAAAAAAAUQJqZmZmZmRdAmpmZmZmZF0AAAAAAAAAUQA==",
          "dtype": "f8"
         },
         "y": {
          "bdata": "AAAAAAAAAAAAAAAAAAAAAM3MzMzMzOw/zczMzMzM7D8AAAAAAAAAAAAAAAAAAAAAzczMzMzM7D/NzMzMzMzsPw==",
          "dtype": "f8"
         },
         "z": {
          "bdata": "AAAAAAAAAAAAAAAAAAAAAAAAAAAAAAAAAAAAAAAAAAAAAACA3xzUPwAAAIDfHNQ/AAAAgN8c1D8AAACA3xzUPw==",
          "dtype": "f8"
         }
        },
        {
         "color": "rgb(80,80,80)",
         "i": [
          0,
          0,
          4,
          5,
          1,
          1,
          2,
          2,
          3,
          3,
          4,
          7
         ],
         "j": [
          1,
          3,
          5,
          6,
          2,
          5,
          3,
          6,
          0,
          7,
          0,
          4
         ],
         "k": [
          3,
          2,
          6,
          7,
          5,
          4,
          7,
          4,
          4,
          6,
          1,
          5
         ],
         "opacity": 1,
         "type": "mesh3d",
         "x": {
          "bdata": "AAAAAAAAFECamZmZmZkXQJqZmZmZmRdAAAAAAAAAFEAAAAAAAAAUQJqZmZmZmRdAmpmZmZmZF0AAAAAAAAAUQA==",
          "dtype": "f8"
         },
         "y": {
          "bdata": "AAAAAAAA8D8AAAAAAADwP2ZmZmZmZv4/ZmZmZmZm/j8AAAAAAADwPwAAAAAAAPA/ZmZmZmZm/j9mZmZmZmb+Pw==",
          "dtype": "f8"
         },
         "z": {
          "bdata": "AAAAAAAAAAAAAAAAAAAAAAAAAAAAAAAAAAAAAAAAAAAAAAAg497LPwAAACDj3ss/AAAAIOPeyz8AAAAg497LPw==",
          "dtype": "f8"
         }
        },
        {
         "color": "rgb(134,134,134)",
         "i": [
          0,
          0,
          4,
          5,
          1,
          1,
          2,
          2,
          3,
          3,
          4,
          7
         ],
         "j": [
          1,
          3,
          5,
          6,
          2,
          5,
          3,
          6,
          0,
          7,
          0,
          4
         ],
         "k": [
          3,
          2,
          6,
          7,
          5,
          4,
          7,
          4,
          4,
          6,
          1,
          5
         ],
         "opacity": 1,
         "type": "mesh3d",
         "x": {
          "bdata": "AAAAAAAAFECamZmZmZkXQJqZmZmZmRdAAAAAAAAAFEAAAAAAAAAUQJqZmZmZmRdAmpmZmZmZF0AAAAAAAAAUQA==",
          "dtype": "f8"
         },
         "y": {
          "bdata": "AAAAAAAAAEAAAAAAAAAAQDMzMzMzMwdAMzMzMzMzB0AAAAAAAAAAQAAAAAAAAABAMzMzMzMzB0AzMzMzMzMHQA==",
          "dtype": "f8"
         },
         "z": {
          "bdata": "AAAAAAAAAAAAAAAAAAAAAAAAAAAAAAAAAAAAAAAAAAAAAAAAljzXPwAAAACWPNc/AAAAAJY81z8AAAAAljzXPw==",
          "dtype": "f8"
         }
        },
        {
         "color": "rgb(204,204,204)",
         "i": [
          0,
          0,
          4,
          5,
          1,
          1,
          2,
          2,
          3,
          3,
          4,
          7
         ],
         "j": [
          1,
          3,
          5,
          6,
          2,
          5,
          3,
          6,
          0,
          7,
          0,
          4
         ],
         "k": [
          3,
          2,
          6,
          7,
          5,
          4,
          7,
          4,
          4,
          6,
          1,
          5
         ],
         "opacity": 1,
         "type": "mesh3d",
         "x": {
          "bdata": "AAAAAAAAFECamZmZmZkXQJqZmZmZmRdAAAAAAAAAFEAAAAAAAAAUQJqZmZmZmRdAmpmZmZmZF0AAAAAAAAAUQA==",
          "dtype": "f8"
         },
         "y": {
          "bdata": "AAAAAAAACEAAAAAAAAAIQDMzMzMzMw9AMzMzMzMzD0AAAAAAAAAIQAAAAAAAAAhAMzMzMzMzD0AzMzMzMzMPQA==",
          "dtype": "f8"
         },
         "z": {
          "bdata": "AAAAAAAAAAAAAAAAAAAAAAAAAAAAAAAAAAAAAAAAAAAAAADgF77hPwAAAOAXvuE/AAAA4Be+4T8AAADgF77hPw==",
          "dtype": "f8"
         }
        },
        {
         "color": "rgb(217,217,217)",
         "i": [
          0,
          0,
          4,
          5,
          1,
          1,
          2,
          2,
          3,
          3,
          4,
          7
         ],
         "j": [
          1,
          3,
          5,
          6,
          2,
          5,
          3,
          6,
          0,
          7,
          0,
          4
         ],
         "k": [
          3,
          2,
          6,
          7,
          5,
          4,
          7,
          4,
          4,
          6,
          1,
          5
         ],
         "opacity": 1,
         "type": "mesh3d",
         "x": {
          "bdata": "AAAAAAAAFECamZmZmZkXQJqZmZmZmRdAAAAAAAAAFEAAAAAAAAAUQJqZmZmZmRdAmpmZmZmZF0AAAAAAAAAUQA==",
          "dtype": "f8"
         },
         "y": {
          "bdata": "AAAAAAAAEEAAAAAAAAAQQJqZmZmZmRNAmpmZmZmZE0AAAAAAAAAQQAAAAAAAABBAmpmZmZmZE0CamZmZmZkTQA==",
          "dtype": "f8"
         },
         "z": {
          "bdata": "AAAAAAAAAAAAAAAAAAAAAAAAAAAAAAAAAAAAAAAAAAAAAABgrs/iPwAAAGCuz+I/AAAAYK7P4j8AAABgrs/iPw==",
          "dtype": "f8"
         }
        },
        {
         "color": "rgb(231,231,231)",
         "i": [
          0,
          0,
          4,
          5,
          1,
          1,
          2,
          2,
          3,
          3,
          4,
          7
         ],
         "j": [
          1,
          3,
          5,
          6,
          2,
          5,
          3,
          6,
          0,
          7,
          0,
          4
         ],
         "k": [
          3,
          2,
          6,
          7,
          5,
          4,
          7,
          4,
          4,
          6,
          1,
          5
         ],
         "opacity": 1,
         "type": "mesh3d",
         "x": {
          "bdata": "AAAAAAAAFECamZmZmZkXQJqZmZmZmRdAAAAAAAAAFEAAAAAAAAAUQJqZmZmZmRdAmpmZmZmZF0AAAAAAAAAUQA==",
          "dtype": "f8"
         },
         "y": {
          "bdata": "AAAAAAAAFEAAAAAAAAAUQJqZmZmZmRdAmpmZmZmZF0AAAAAAAAAUQAAAAAAAABRAmpmZmZmZF0CamZmZmZkXQA==",
          "dtype": "f8"
         },
         "z": {
          "bdata": "AAAAAAAAAAAAAAAAAAAAAAAAAAAAAAAAAAAAAAAAAAAAAAAAmAnkPwAAAACYCeQ/AAAAAJgJ5D8AAAAAmAnkPw==",
          "dtype": "f8"
         }
        },
        {
         "color": "rgb(101,101,101)",
         "i": [
          0,
          0,
          4,
          5,
          1,
          1,
          2,
          2,
          3,
          3,
          4,
          7
         ],
         "j": [
          1,
          3,
          5,
          6,
          2,
          5,
          3,
          6,
          0,
          7,
          0,
          4
         ],
         "k": [
          3,
          2,
          6,
          7,
          5,
          4,
          7,
          4,
          4,
          6,
          1,
          5
         ],
         "opacity": 1,
         "type": "mesh3d",
         "x": {
          "bdata": "AAAAAAAAFECamZmZmZkXQJqZmZmZmRdAAAAAAAAAFEAAAAAAAAAUQJqZmZmZmRdAmpmZmZmZF0AAAAAAAAAUQA==",
          "dtype": "f8"
         },
         "y": {
          "bdata": "AAAAAAAAGEAAAAAAAAAYQJqZmZmZmRtAmpmZmZmZG0AAAAAAAAAYQAAAAAAAABhAmpmZmZmZG0CamZmZmZkbQA==",
          "dtype": "f8"
         },
         "z": {
          "bdata": "AAAAAAAAAAAAAAAAAAAAAAAAAAAAAAAAAAAAAAAAAAAAAACAcILRPwAAAIBwgtE/AAAAgHCC0T8AAACAcILRPw==",
          "dtype": "f8"
         }
        },
        {
         "color": "rgb(169,169,169)",
         "i": [
          0,
          0,
          4,
          5,
          1,
          1,
          2,
          2,
          3,
          3,
          4,
          7
         ],
         "j": [
          1,
          3,
          5,
          6,
          2,
          5,
          3,
          6,
          0,
          7,
          0,
          4
         ],
         "k": [
          3,
          2,
          6,
          7,
          5,
          4,
          7,
          4,
          4,
          6,
          1,
          5
         ],
         "opacity": 1,
         "type": "mesh3d",
         "x": {
          "bdata": "AAAAAAAAGECamZmZmZkbQJqZmZmZmRtAAAAAAAAAGEAAAAAAAAAYQJqZmZmZmRtAmpmZmZmZG0AAAAAAAAAYQA==",
          "dtype": "f8"
         },
         "y": {
          "bdata": "AAAAAAAAAAAAAAAAAAAAAM3MzMzMzOw/zczMzMzM7D8AAAAAAAAAAAAAAAAAAAAAzczMzMzM7D/NzMzMzMzsPw==",
          "dtype": "f8"
         },
         "z": {
          "bdata": "AAAAAAAAAAAAAAAAAAAAAAAAAAAAAAAAAAAAAAAAAAAAAACAvUndPwAAAIC9Sd0/AAAAgL1J3T8AAACAvUndPw==",
          "dtype": "f8"
         }
        },
        {
         "color": "rgb(168,168,168)",
         "i": [
          0,
          0,
          4,
          5,
          1,
          1,
          2,
          2,
          3,
          3,
          4,
          7
         ],
         "j": [
          1,
          3,
          5,
          6,
          2,
          5,
          3,
          6,
          0,
          7,
          0,
          4
         ],
         "k": [
          3,
          2,
          6,
          7,
          5,
          4,
          7,
          4,
          4,
          6,
          1,
          5
         ],
         "opacity": 1,
         "type": "mesh3d",
         "x": {
          "bdata": "AAAAAAAAGECamZmZmZkbQJqZmZmZmRtAAAAAAAAAGEAAAAAAAAAYQJqZmZmZmRtAmpmZmZmZG0AAAAAAAAAYQA==",
          "dtype": "f8"
         },
         "y": {
          "bdata": "AAAAAAAA8D8AAAAAAADwP2ZmZmZmZv4/ZmZmZmZm/j8AAAAAAADwPwAAAAAAAPA/ZmZmZmZm/j9mZmZmZmb+Pw==",
          "dtype": "f8"
         },
         "z": {
          "bdata": "AAAAAAAAAAAAAAAAAAAAAAAAAAAAAAAAAAAAAAAAAAAAAADAvC7dPwAAAMC8Lt0/AAAAwLwu3T8AAADAvC7dPw==",
          "dtype": "f8"
         }
        },
        {
         "color": "rgb(196,196,196)",
         "i": [
          0,
          0,
          4,
          5,
          1,
          1,
          2,
          2,
          3,
          3,
          4,
          7
         ],
         "j": [
          1,
          3,
          5,
          6,
          2,
          5,
          3,
          6,
          0,
          7,
          0,
          4
         ],
         "k": [
          3,
          2,
          6,
          7,
          5,
          4,
          7,
          4,
          4,
          6,
          1,
          5
         ],
         "opacity": 1,
         "type": "mesh3d",
         "x": {
          "bdata": "AAAAAAAAGECamZmZmZkbQJqZmZmZmRtAAAAAAAAAGEAAAAAAAAAYQJqZmZmZmRtAmpmZmZmZG0AAAAAAAAAYQA==",
          "dtype": "f8"
         },
         "y": {
          "bdata": "AAAAAAAAAEAAAAAAAAAAQDMzMzMzMwdAMzMzMzMzB0AAAAAAAAAAQAAAAAAAAABAMzMzMzMzB0AzMzMzMzMHQA==",
          "dtype": "f8"
         },
         "z": {
          "bdata": "AAAAAAAAAAAAAAAAAAAAAAAAAAAAAAAAAAAAAAAAAAAAAABAuwDhPwAAAEC7AOE/AAAAQLsA4T8AAABAuwDhPw==",
          "dtype": "f8"
         }
        },
        {
         "color": "rgb(183,183,183)",
         "i": [
          0,
          0,
          4,
          5,
          1,
          1,
          2,
          2,
          3,
          3,
          4,
          7
         ],
         "j": [
          1,
          3,
          5,
          6,
          2,
          5,
          3,
          6,
          0,
          7,
          0,
          4
         ],
         "k": [
          3,
          2,
          6,
          7,
          5,
          4,
          7,
          4,
          4,
          6,
          1,
          5
         ],
         "opacity": 1,
         "type": "mesh3d",
         "x": {
          "bdata": "AAAAAAAAGECamZmZmZkbQJqZmZmZmRtAAAAAAAAAGEAAAAAAAAAYQJqZmZmZmRtAmpmZmZmZG0AAAAAAAAAYQA==",
          "dtype": "f8"
         },
         "y": {
          "bdata": "AAAAAAAACEAAAAAAAAAIQDMzMzMzMw9AMzMzMzMzD0AAAAAAAAAIQAAAAAAAAAhAMzMzMzMzD0AzMzMzMzMPQA==",
          "dtype": "f8"
         },
         "z": {
          "bdata": "AAAAAAAAAAAAAAAAAAAAAAAAAAAAAAAAAAAAAAAAAAAAAAAAHsbfPwAAAAAext8/AAAAAB7G3z8AAAAAHsbfPw==",
          "dtype": "f8"
         }
        },
        {
         "color": "rgb(151,151,151)",
         "i": [
          0,
          0,
          4,
          5,
          1,
          1,
          2,
          2,
          3,
          3,
          4,
          7
         ],
         "j": [
          1,
          3,
          5,
          6,
          2,
          5,
          3,
          6,
          0,
          7,
          0,
          4
         ],
         "k": [
          3,
          2,
          6,
          7,
          5,
          4,
          7,
          4,
          4,
          6,
          1,
          5
         ],
         "opacity": 1,
         "type": "mesh3d",
         "x": {
          "bdata": "AAAAAAAAGECamZmZmZkbQJqZmZmZmRtAAAAAAAAAGEAAAAAAAAAYQJqZmZmZmRtAmpmZmZmZG0AAAAAAAAAYQA==",
          "dtype": "f8"
         },
         "y": {
          "bdata": "AAAAAAAAEEAAAAAAAAAQQJqZmZmZmRNAmpmZmZmZE0AAAAAAAAAQQAAAAAAAABBAmpmZmZmZE0CamZmZmZkTQA==",
          "dtype": "f8"
         },
         "z": {
          "bdata": "AAAAAAAAAAAAAAAAAAAAAAAAAAAAAAAAAAAAAAAAAAAAAABAu1LaPwAAAEC7Uto/AAAAQLtS2j8AAABAu1LaPw==",
          "dtype": "f8"
         }
        },
        {
         "color": "rgb(175,175,175)",
         "i": [
          0,
          0,
          4,
          5,
          1,
          1,
          2,
          2,
          3,
          3,
          4,
          7
         ],
         "j": [
          1,
          3,
          5,
          6,
          2,
          5,
          3,
          6,
          0,
          7,
          0,
          4
         ],
         "k": [
          3,
          2,
          6,
          7,
          5,
          4,
          7,
          4,
          4,
          6,
          1,
          5
         ],
         "opacity": 1,
         "type": "mesh3d",
         "x": {
          "bdata": "AAAAAAAAGECamZmZmZkbQJqZmZmZmRtAAAAAAAAAGEAAAAAAAAAYQJqZmZmZmRtAmpmZmZmZG0AAAAAAAAAYQA==",
          "dtype": "f8"
         },
         "y": {
          "bdata": "AAAAAAAAFEAAAAAAAAAUQJqZmZmZmRdAmpmZmZmZF0AAAAAAAAAUQAAAAAAAABRAmpmZmZmZF0CamZmZmZkXQA==",
          "dtype": "f8"
         },
         "z": {
          "bdata": "AAAAAAAAAAAAAAAAAAAAAAAAAAAAAAAAAAAAAAAAAAAAAADgOHzePwAAAOA4fN4/AAAA4Dh83j8AAADgOHzePw==",
          "dtype": "f8"
         }
        },
        {
         "color": "rgb(207,207,207)",
         "i": [
          0,
          0,
          4,
          5,
          1,
          1,
          2,
          2,
          3,
          3,
          4,
          7
         ],
         "j": [
          1,
          3,
          5,
          6,
          2,
          5,
          3,
          6,
          0,
          7,
          0,
          4
         ],
         "k": [
          3,
          2,
          6,
          7,
          5,
          4,
          7,
          4,
          4,
          6,
          1,
          5
         ],
         "opacity": 1,
         "type": "mesh3d",
         "x": {
          "bdata": "AAAAAAAAGECamZmZmZkbQJqZmZmZmRtAAAAAAAAAGEAAAAAAAAAYQJqZmZmZmRtAmpmZmZmZG0AAAAAAAAAYQA==",
          "dtype": "f8"
         },
         "y": {
          "bdata": "AAAAAAAAGEAAAAAAAAAYQJqZmZmZmRtAmpmZmZmZG0AAAAAAAAAYQAAAAAAAABhAmpmZmZmZG0CamZmZmZkbQA==",
          "dtype": "f8"
         },
         "z": {
          "bdata": "AAAAAAAAAAAAAAAAAAAAAAAAAAAAAAAAAAAAAAAAAAAAAADAUPfhPwAAAMBQ9+E/AAAAwFD34T8AAADAUPfhPw==",
          "dtype": "f8"
         }
        }
       ],
       "layout": {
        "height": 700,
        "scene": {
         "aspectmode": "cube",
         "xaxis": {
          "showticklabels": false,
          "title": {
           "text": "x"
          }
         },
         "yaxis": {
          "showticklabels": false,
          "title": {
           "text": "y"
          }
         },
         "zaxis": {
          "title": {
           "text": "Activation"
          }
         }
        },
        "template": {
         "data": {
          "bar": [
           {
            "error_x": {
             "color": "#2a3f5f"
            },
            "error_y": {
             "color": "#2a3f5f"
            },
            "marker": {
             "line": {
              "color": "#E5ECF6",
              "width": 0.5
             },
             "pattern": {
              "fillmode": "overlay",
              "size": 10,
              "solidity": 0.2
             }
            },
            "type": "bar"
           }
          ],
          "barpolar": [
           {
            "marker": {
             "line": {
              "color": "#E5ECF6",
              "width": 0.5
             },
             "pattern": {
              "fillmode": "overlay",
              "size": 10,
              "solidity": 0.2
             }
            },
            "type": "barpolar"
           }
          ],
          "carpet": [
           {
            "aaxis": {
             "endlinecolor": "#2a3f5f",
             "gridcolor": "white",
             "linecolor": "white",
             "minorgridcolor": "white",
             "startlinecolor": "#2a3f5f"
            },
            "baxis": {
             "endlinecolor": "#2a3f5f",
             "gridcolor": "white",
             "linecolor": "white",
             "minorgridcolor": "white",
             "startlinecolor": "#2a3f5f"
            },
            "type": "carpet"
           }
          ],
          "choropleth": [
           {
            "colorbar": {
             "outlinewidth": 0,
             "ticks": ""
            },
            "type": "choropleth"
           }
          ],
          "contour": [
           {
            "colorbar": {
             "outlinewidth": 0,
             "ticks": ""
            },
            "colorscale": [
             [
              0,
              "#0d0887"
             ],
             [
              0.1111111111111111,
              "#46039f"
             ],
             [
              0.2222222222222222,
              "#7201a8"
             ],
             [
              0.3333333333333333,
              "#9c179e"
             ],
             [
              0.4444444444444444,
              "#bd3786"
             ],
             [
              0.5555555555555556,
              "#d8576b"
             ],
             [
              0.6666666666666666,
              "#ed7953"
             ],
             [
              0.7777777777777778,
              "#fb9f3a"
             ],
             [
              0.8888888888888888,
              "#fdca26"
             ],
             [
              1,
              "#f0f921"
             ]
            ],
            "type": "contour"
           }
          ],
          "contourcarpet": [
           {
            "colorbar": {
             "outlinewidth": 0,
             "ticks": ""
            },
            "type": "contourcarpet"
           }
          ],
          "heatmap": [
           {
            "colorbar": {
             "outlinewidth": 0,
             "ticks": ""
            },
            "colorscale": [
             [
              0,
              "#0d0887"
             ],
             [
              0.1111111111111111,
              "#46039f"
             ],
             [
              0.2222222222222222,
              "#7201a8"
             ],
             [
              0.3333333333333333,
              "#9c179e"
             ],
             [
              0.4444444444444444,
              "#bd3786"
             ],
             [
              0.5555555555555556,
              "#d8576b"
             ],
             [
              0.6666666666666666,
              "#ed7953"
             ],
             [
              0.7777777777777778,
              "#fb9f3a"
             ],
             [
              0.8888888888888888,
              "#fdca26"
             ],
             [
              1,
              "#f0f921"
             ]
            ],
            "type": "heatmap"
           }
          ],
          "histogram": [
           {
            "marker": {
             "pattern": {
              "fillmode": "overlay",
              "size": 10,
              "solidity": 0.2
             }
            },
            "type": "histogram"
           }
          ],
          "histogram2d": [
           {
            "colorbar": {
             "outlinewidth": 0,
             "ticks": ""
            },
            "colorscale": [
             [
              0,
              "#0d0887"
             ],
             [
              0.1111111111111111,
              "#46039f"
             ],
             [
              0.2222222222222222,
              "#7201a8"
             ],
             [
              0.3333333333333333,
              "#9c179e"
             ],
             [
              0.4444444444444444,
              "#bd3786"
             ],
             [
              0.5555555555555556,
              "#d8576b"
             ],
             [
              0.6666666666666666,
              "#ed7953"
             ],
             [
              0.7777777777777778,
              "#fb9f3a"
             ],
             [
              0.8888888888888888,
              "#fdca26"
             ],
             [
              1,
              "#f0f921"
             ]
            ],
            "type": "histogram2d"
           }
          ],
          "histogram2dcontour": [
           {
            "colorbar": {
             "outlinewidth": 0,
             "ticks": ""
            },
            "colorscale": [
             [
              0,
              "#0d0887"
             ],
             [
              0.1111111111111111,
              "#46039f"
             ],
             [
              0.2222222222222222,
              "#7201a8"
             ],
             [
              0.3333333333333333,
              "#9c179e"
             ],
             [
              0.4444444444444444,
              "#bd3786"
             ],
             [
              0.5555555555555556,
              "#d8576b"
             ],
             [
              0.6666666666666666,
              "#ed7953"
             ],
             [
              0.7777777777777778,
              "#fb9f3a"
             ],
             [
              0.8888888888888888,
              "#fdca26"
             ],
             [
              1,
              "#f0f921"
             ]
            ],
            "type": "histogram2dcontour"
           }
          ],
          "mesh3d": [
           {
            "colorbar": {
             "outlinewidth": 0,
             "ticks": ""
            },
            "type": "mesh3d"
           }
          ],
          "parcoords": [
           {
            "line": {
             "colorbar": {
              "outlinewidth": 0,
              "ticks": ""
             }
            },
            "type": "parcoords"
           }
          ],
          "pie": [
           {
            "automargin": true,
            "type": "pie"
           }
          ],
          "scatter": [
           {
            "fillpattern": {
             "fillmode": "overlay",
             "size": 10,
             "solidity": 0.2
            },
            "type": "scatter"
           }
          ],
          "scatter3d": [
           {
            "line": {
             "colorbar": {
              "outlinewidth": 0,
              "ticks": ""
             }
            },
            "marker": {
             "colorbar": {
              "outlinewidth": 0,
              "ticks": ""
             }
            },
            "type": "scatter3d"
           }
          ],
          "scattercarpet": [
           {
            "marker": {
             "colorbar": {
              "outlinewidth": 0,
              "ticks": ""
             }
            },
            "type": "scattercarpet"
           }
          ],
          "scattergeo": [
           {
            "marker": {
             "colorbar": {
              "outlinewidth": 0,
              "ticks": ""
             }
            },
            "type": "scattergeo"
           }
          ],
          "scattergl": [
           {
            "marker": {
             "colorbar": {
              "outlinewidth": 0,
              "ticks": ""
             }
            },
            "type": "scattergl"
           }
          ],
          "scattermap": [
           {
            "marker": {
             "colorbar": {
              "outlinewidth": 0,
              "ticks": ""
             }
            },
            "type": "scattermap"
           }
          ],
          "scattermapbox": [
           {
            "marker": {
             "colorbar": {
              "outlinewidth": 0,
              "ticks": ""
             }
            },
            "type": "scattermapbox"
           }
          ],
          "scatterpolar": [
           {
            "marker": {
             "colorbar": {
              "outlinewidth": 0,
              "ticks": ""
             }
            },
            "type": "scatterpolar"
           }
          ],
          "scatterpolargl": [
           {
            "marker": {
             "colorbar": {
              "outlinewidth": 0,
              "ticks": ""
             }
            },
            "type": "scatterpolargl"
           }
          ],
          "scatterternary": [
           {
            "marker": {
             "colorbar": {
              "outlinewidth": 0,
              "ticks": ""
             }
            },
            "type": "scatterternary"
           }
          ],
          "surface": [
           {
            "colorbar": {
             "outlinewidth": 0,
             "ticks": ""
            },
            "colorscale": [
             [
              0,
              "#0d0887"
             ],
             [
              0.1111111111111111,
              "#46039f"
             ],
             [
              0.2222222222222222,
              "#7201a8"
             ],
             [
              0.3333333333333333,
              "#9c179e"
             ],
             [
              0.4444444444444444,
              "#bd3786"
             ],
             [
              0.5555555555555556,
              "#d8576b"
             ],
             [
              0.6666666666666666,
              "#ed7953"
             ],
             [
              0.7777777777777778,
              "#fb9f3a"
             ],
             [
              0.8888888888888888,
              "#fdca26"
             ],
             [
              1,
              "#f0f921"
             ]
            ],
            "type": "surface"
           }
          ],
          "table": [
           {
            "cells": {
             "fill": {
              "color": "#EBF0F8"
             },
             "line": {
              "color": "white"
             }
            },
            "header": {
             "fill": {
              "color": "#C8D4E3"
             },
             "line": {
              "color": "white"
             }
            },
            "type": "table"
           }
          ]
         },
         "layout": {
          "annotationdefaults": {
           "arrowcolor": "#2a3f5f",
           "arrowhead": 0,
           "arrowwidth": 1
          },
          "autotypenumbers": "strict",
          "coloraxis": {
           "colorbar": {
            "outlinewidth": 0,
            "ticks": ""
           }
          },
          "colorscale": {
           "diverging": [
            [
             0,
             "#8e0152"
            ],
            [
             0.1,
             "#c51b7d"
            ],
            [
             0.2,
             "#de77ae"
            ],
            [
             0.3,
             "#f1b6da"
            ],
            [
             0.4,
             "#fde0ef"
            ],
            [
             0.5,
             "#f7f7f7"
            ],
            [
             0.6,
             "#e6f5d0"
            ],
            [
             0.7,
             "#b8e186"
            ],
            [
             0.8,
             "#7fbc41"
            ],
            [
             0.9,
             "#4d9221"
            ],
            [
             1,
             "#276419"
            ]
           ],
           "sequential": [
            [
             0,
             "#0d0887"
            ],
            [
             0.1111111111111111,
             "#46039f"
            ],
            [
             0.2222222222222222,
             "#7201a8"
            ],
            [
             0.3333333333333333,
             "#9c179e"
            ],
            [
             0.4444444444444444,
             "#bd3786"
            ],
            [
             0.5555555555555556,
             "#d8576b"
            ],
            [
             0.6666666666666666,
             "#ed7953"
            ],
            [
             0.7777777777777778,
             "#fb9f3a"
            ],
            [
             0.8888888888888888,
             "#fdca26"
            ],
            [
             1,
             "#f0f921"
            ]
           ],
           "sequentialminus": [
            [
             0,
             "#0d0887"
            ],
            [
             0.1111111111111111,
             "#46039f"
            ],
            [
             0.2222222222222222,
             "#7201a8"
            ],
            [
             0.3333333333333333,
             "#9c179e"
            ],
            [
             0.4444444444444444,
             "#bd3786"
            ],
            [
             0.5555555555555556,
             "#d8576b"
            ],
            [
             0.6666666666666666,
             "#ed7953"
            ],
            [
             0.7777777777777778,
             "#fb9f3a"
            ],
            [
             0.8888888888888888,
             "#fdca26"
            ],
            [
             1,
             "#f0f921"
            ]
           ]
          },
          "colorway": [
           "#636efa",
           "#EF553B",
           "#00cc96",
           "#ab63fa",
           "#FFA15A",
           "#19d3f3",
           "#FF6692",
           "#B6E880",
           "#FF97FF",
           "#FECB52"
          ],
          "font": {
           "color": "#2a3f5f"
          },
          "geo": {
           "bgcolor": "white",
           "lakecolor": "white",
           "landcolor": "#E5ECF6",
           "showlakes": true,
           "showland": true,
           "subunitcolor": "white"
          },
          "hoverlabel": {
           "align": "left"
          },
          "hovermode": "closest",
          "mapbox": {
           "style": "light"
          },
          "paper_bgcolor": "white",
          "plot_bgcolor": "#E5ECF6",
          "polar": {
           "angularaxis": {
            "gridcolor": "white",
            "linecolor": "white",
            "ticks": ""
           },
           "bgcolor": "#E5ECF6",
           "radialaxis": {
            "gridcolor": "white",
            "linecolor": "white",
            "ticks": ""
           }
          },
          "scene": {
           "xaxis": {
            "backgroundcolor": "#E5ECF6",
            "gridcolor": "white",
            "gridwidth": 2,
            "linecolor": "white",
            "showbackground": true,
            "ticks": "",
            "zerolinecolor": "white"
           },
           "yaxis": {
            "backgroundcolor": "#E5ECF6",
            "gridcolor": "white",
            "gridwidth": 2,
            "linecolor": "white",
            "showbackground": true,
            "ticks": "",
            "zerolinecolor": "white"
           },
           "zaxis": {
            "backgroundcolor": "#E5ECF6",
            "gridcolor": "white",
            "gridwidth": 2,
            "linecolor": "white",
            "showbackground": true,
            "ticks": "",
            "zerolinecolor": "white"
           }
          },
          "shapedefaults": {
           "line": {
            "color": "#2a3f5f"
           }
          },
          "ternary": {
           "aaxis": {
            "gridcolor": "white",
            "linecolor": "white",
            "ticks": ""
           },
           "baxis": {
            "gridcolor": "white",
            "linecolor": "white",
            "ticks": ""
           },
           "bgcolor": "#E5ECF6",
           "caxis": {
            "gridcolor": "white",
            "linecolor": "white",
            "ticks": ""
           }
          },
          "title": {
           "x": 0.05
          },
          "xaxis": {
           "automargin": true,
           "gridcolor": "white",
           "linecolor": "white",
           "ticks": "",
           "title": {
            "standoff": 15
           },
           "zerolinecolor": "white",
           "zerolinewidth": 2
          },
          "yaxis": {
           "automargin": true,
           "gridcolor": "white",
           "linecolor": "white",
           "ticks": "",
           "title": {
            "standoff": 15
           },
           "zerolinecolor": "white",
           "zerolinewidth": 2
          }
         }
        },
        "title": {
         "text": "x, y, z maximised activation bars, reduced input for class 0"
        },
        "width": 700
       }
      }
     },
     "metadata": {},
     "output_type": "display_data"
    }
   ],
   "source": [
    "#adding 3d visualisation x, y, z with z = activation threshold for better interpretability\n",
    "\n",
    "block_size = 4\n",
    "new_size = 28 // block_size\n",
    "class_idx = 0\n",
    "activation_map = images[class_idx]\n",
    "\n",
    "averaged_columns = activation_map.reshape(new_size, block_size, new_size, block_size).mean(axis=(1, 3))\n",
    "norm = averaged_columns / averaged_columns.max()\n",
    "colors = np.floor(norm * 255).astype(int)\n",
    "\n",
    "fig = go.Figure()\n",
    "dx = dy = 0.9\n",
    "\n",
    "def add_cube(fig, x0, y0, h, gray):\n",
    "    verts = np.array([\n",
    "        [x0,     y0,     0], #square bottom of column\n",
    "        [x0+dx,  y0,     0],\n",
    "        [x0+dx,  y0+dy,  0],\n",
    "        [x0,     y0+dy,  0],\n",
    "        [x0,     y0,     h], #square top of column\n",
    "        [x0+dx,  y0,     h],\n",
    "        [x0+dx,  y0+dy,  h],\n",
    "        [x0,     y0+dy,  h],\n",
    "    ])\n",
    "\n",
    "    i = [0, 0, 4, 5, 1, 1, 2, 2, 3, 3, 4, 7]\n",
    "    j = [1, 3, 5, 6, 2, 5, 3, 6, 0, 7, 0, 4]\n",
    "    k = [3, 2, 6, 7, 5, 4, 7, 4, 4, 6, 1, 5]\n",
    "    color = f'rgb({gray},{gray},{gray})'\n",
    "\n",
    "    fig.add_trace(go.Mesh3d(\n",
    "        x = verts[:,0], y = verts[:,1], z = verts[:,2], #mesh vertices\n",
    "        i = i, j = j, k = k,\n",
    "        color = color, opacity = 1 #mesh color\n",
    "    ))\n",
    "\n",
    "for xi in range(new_size):\n",
    "    for yi in range(new_size):\n",
    "        h = averaged_columns[yi, new_size-1-xi]\n",
    "        gray = colors[yi, new_size-1-xi]\n",
    "        add_cube(fig, xi, yi, h, gray) #coordinates, height, color\n",
    "\n",
    "fig.update_layout(\n",
    "    scene = dict(\n",
    "        xaxis = dict(title='x', showticklabels=False),\n",
    "        yaxis = dict(title='y', showticklabels=False),\n",
    "        zaxis = dict(title='Activation'),\n",
    "        aspectmode = 'cube'\n",
    "    ),\n",
    "    title = f'x, y, z maximised activation bars, reduced input for class {class_idx}',\n",
    "    width = 700, height=700\n",
    ")\n",
    "\n",
    "fig.show()\n"
   ]
  },
  {
   "cell_type": "code",
   "execution_count": null,
   "id": "5e62ff17",
   "metadata": {},
   "outputs": [
    {
     "data": {
      "image/png": "[encoded data removed]",
      "text/plain": [
       "<Figure size 2000x700 with 10 Axes>"
      ]
     },
     "metadata": {},
     "output_type": "display_data"
    }
   ],
   "source": [
    "inputs, labels = next(iter(test_loader))\n",
    "ind = ra.randrange(0, len(inputs))\n",
    "example_count = 10\n",
    "target_class = torch.tensor(5).cuda()\n",
    "\n",
    "plt.figure(figsize=(20, -(-example_count // 5) * 3.5))\n",
    "\n",
    "for ind in range(example_count):\n",
    "    ind_rand = ind + ra.randint(0, len(inputs) - 1 - example_count)\n",
    "    input = inputs[ind_rand].unsqueeze(0)\n",
    "    input.requires_grad_()\n",
    "    input = input.cuda()\n",
    "\n",
    "    lrp = LRP(net)\n",
    "    attributions = lrp.attribute(input.view(1, 784), target=target_class)\n",
    "    rel_map = attributions[0].cpu().detach().numpy().reshape(28, 28)\n",
    "\n",
    "    input = input.cpu().detach().numpy().reshape(28, 28)\n",
    "    back_ground = (input == 0)\n",
    "    rel_map[back_ground] = rel_map.min()\n",
    "    rel_map /= rel_map.max()\n",
    "\n",
    "    plt.subplot(-(-example_count // 5), 5, ind + 1)\n",
    "    plt.imshow(rel_map, cmap=\"gray\")\n",
    "    #plt.axis('off')\n",
    "\n",
    "plt.suptitle(f'Layerwise Relevance Propagation - Random input examples, Neuron index: {target_class}', fontsize=20)\n",
    "plt.tight_layout(rect=[0, 0, 1, 0.95])\n",
    "plt.show()"
   ]
  },
  {
   "cell_type": "markdown",
   "id": "3e48937d",
   "metadata": {},
   "source": [
    "<span style=\"font-size:25px\">\n",
    "Further baseline (existing) methods such as SHAP, LIME, counterfactuals, or surrogate models will not be executed here, but their theoretic limitations discussed later.\n",
    "The above methods serve as examples for interpretable but limited methods.\n",
    "Further experiments of my own will be aimed at further highlighting the limitations in explaining modern AI.\n",
    "</span>"
   ]
  },
  {
   "cell_type": "code",
   "execution_count": 5,
   "id": "4c122f28",
   "metadata": {},
   "outputs": [
    {
     "name": "stderr",
     "output_type": "stream",
     "text": [
      "/home/kns357/Desktop/ann_ma_kaito/venv0/lib/python3.12/site-packages/umap/umap_.py:1952: UserWarning: n_jobs value 1 overridden to 1 by setting random_state. Use no seed for parallelism.\n",
      "  warn(\n"
     ]
    }
   ],
   "source": [
    "#MNIST dataset\n",
    "transform = transforms.Compose([transforms.ToTensor()])\n",
    "train_dataset = datasets.MNIST(root='./data', train=True, download=True, transform=transform)\n",
    "X = train_dataset.data.float() / 255.0 #[60000, 28, 28]\n",
    "X = X.view(-1, 784)  #[60000, 784]\n",
    "y = train_dataset.targets\n",
    "\n",
    "n_samples = 10000\n",
    "indices = torch.randperm(X.shape[0])[:n_samples]\n",
    "X_sub = X[indices].numpy()\n",
    "y_sub = y[indices].numpy()\n",
    "\n",
    "umap_model = umap.UMAP(n_components=2, random_state=42, n_neighbors=30, min_dist=0.1)\n",
    "projections = umap_model.fit_transform(X_sub)\n",
    "\n",
    "fig = px.scatter(\n",
    "    x=projections[:, 0],\n",
    "    y=projections[:, 1],\n",
    "    color=y_sub.astype(str),\n",
    "    title='UMAP of MNIST Digits',\n",
    "    labels={'x': 'UMAP Component 1', 'y': 'UMAP Component 2'},\n",
    "    render_mode='webgl'\n",
    ")\n",
    "fig.update_traces(marker=dict(size=4, opacity=0.6))\n",
    "fig.update_layout(\n",
    "    width=900,\n",
    "    height=700,\n",
    "    title={'x': 0.5, 'xanchor': 'center'},\n",
    "    legend=dict(title='Digit', orientation='h', yanchor='bottom', y=1.02, xanchor='center', x=0.5)\n",
    ")\n",
    "fig.show(renderer=\"browser\")"
   ]
  }
 ],
 "metadata": {
  "kernelspec": {
   "display_name": "venv0",
   "language": "python",
   "name": "python3"
  },
  "language_info": {
   "codemirror_mode": {
    "name": "ipython",
    "version": 3
   },
   "file_extension": ".py",
   "mimetype": "text/x-python",
   "name": "python",
   "nbconvert_exporter": "python",
   "pygments_lexer": "ipython3",
   "version": "3.12.2"
  }
 },
 "nbformat": 4,
 "nbformat_minor": 5
}
