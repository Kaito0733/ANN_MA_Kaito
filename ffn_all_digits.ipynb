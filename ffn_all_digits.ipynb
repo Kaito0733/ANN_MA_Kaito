{
 "cells": [
  {
   "cell_type": "code",
   "execution_count": 1,
   "metadata": {},
   "outputs": [],
   "source": [
    "import torch\n",
    "import torch.nn as nn\n",
    "import torchvision.datasets as datasets \n",
    "import torchvision.transforms as transforms"
   ]
  },
  {
   "cell_type": "code",
   "execution_count": 2,
   "metadata": {},
   "outputs": [],
   "source": [
    "input_size = 784        #Number of input neurons (image pixels, 28x28)\n",
    "hidden_size0 = 32\n",
    "hidden_size1 = 16      #Number of hidden neurons\n",
    "out_size = 10           #Number of classes (0-9) \n",
    "epochs = 10            #How many times we pass our entire dataset into our network \n",
    "batch_size = 64        #Input size of the data during one iteration \n",
    "learning_rate = 0.001   #How fast we are learning"
   ]
  },
  {
   "cell_type": "code",
   "execution_count": 3,
   "metadata": {},
   "outputs": [],
   "source": [
    "train_dataset = datasets.MNIST(root='./data',\n",
    "                           train=True,\n",
    "                           transform=transforms.ToTensor(),\n",
    "                           download=True)\n",
    "\n",
    "test_dataset = datasets.MNIST(root='./data',\n",
    "                           train=False,\n",
    "                           transform=transforms.ToTensor())"
   ]
  },
  {
   "cell_type": "code",
   "execution_count": 4,
   "metadata": {},
   "outputs": [],
   "source": [
    "train_loader = torch.utils.data.DataLoader(dataset=train_dataset,\n",
    "                                          batch_size=batch_size,\n",
    "                                          shuffle=True)\n",
    "\n",
    "test_loader = torch.utils.data.DataLoader(dataset=test_dataset,\n",
    "                                          batch_size=batch_size,\n",
    "                                          shuffle=False)"
   ]
  },
  {
   "cell_type": "code",
   "execution_count": 5,
   "metadata": {},
   "outputs": [],
   "source": [
    "class Net(nn.Module):\n",
    "    def __init__(self, input_size, hidden_size0, hidden_size1, out_size):\n",
    "        super(Net, self).__init__()\n",
    "        self.fc0 = nn.Linear(input_size, hidden_size0)     #784 - 128\n",
    "        self.fc1 = nn.Linear(hidden_size0, hidden_size1)   #128 - 64\n",
    "        self.fc2 = nn.Linear(hidden_size1, out_size)       #64 - 10\n",
    "        self.relu = nn.ReLU()\n",
    "        self.init_weights()\n",
    "\n",
    "    def init_weights(self):\n",
    "        nn.init.kaiming_normal_(self.fc0.weight) #only works with ReLU\n",
    "        nn.init.kaiming_normal_(self.fc1.weight)\n",
    "        nn.init.kaiming_normal_(self.fc2.weight)\n",
    "\n",
    "    def forward(self, x):\n",
    "        out = self.relu(self.fc0(x))\n",
    "        out = self.relu(self.fc1(out))\n",
    "        out = self.fc2(out)\n",
    "        return out"
   ]
  },
  {
   "cell_type": "code",
   "execution_count": 22,
   "metadata": {},
   "outputs": [],
   "source": [
    "#Create an object of the class, which represents our network \n",
    "net = Net(input_size, hidden_size0, hidden_size1, out_size)\n",
    "CUDA = torch.cuda.is_available()\n",
    "if CUDA:\n",
    "    net = net.cuda()\n",
    "#The loss function. The Cross Entropy loss comes along with Softmax. Therefore, no need to specify Softmax as well\n",
    "criterion = nn.CrossEntropyLoss()\n",
    "optimizer = torch.optim.Adam(net.parameters(), lr=learning_rate)"
   ]
  },
  {
   "cell_type": "code",
   "execution_count": 23,
   "metadata": {},
   "outputs": [
    {
     "name": "stdout",
     "output_type": "stream",
     "text": [
      "True\n"
     ]
    }
   ],
   "source": [
    "print(CUDA)"
   ]
  },
  {
   "cell_type": "code",
   "execution_count": null,
   "metadata": {},
   "outputs": [
    {
     "name": "stdout",
     "output_type": "stream",
     "text": [
      "Epoch [1/10], Training Loss: 0.411, Training Accuracy: 88.275%\n",
      "Epoch [2/10], Training Loss: 0.197, Training Accuracy: 94.380%\n",
      "Epoch [3/10], Training Loss: 0.158, Training Accuracy: 95.377%\n",
      "Epoch [4/10], Training Loss: 0.135, Training Accuracy: 95.993%\n",
      "Epoch [5/10], Training Loss: 0.120, Training Accuracy: 96.413%\n",
      "Epoch [6/10], Training Loss: 0.108, Training Accuracy: 96.805%\n",
      "Epoch [7/10], Training Loss: 0.098, Training Accuracy: 97.112%\n",
      "Epoch [8/10], Training Loss: 0.090, Training Accuracy: 97.333%\n",
      "Epoch [9/10], Training Loss: 0.084, Training Accuracy: 97.432%\n",
      "Epoch [10/10], Training Loss: 0.079, Training Accuracy: 97.617%\n",
      "DONE TRAINING!\n"
     ]
    }
   ],
   "source": [
    "#Training\n",
    "for epoch in range(epochs):\n",
    "    correct_train = 0\n",
    "    running_loss = 0\n",
    "    for i, (images, labels) in enumerate(train_loader):   \n",
    "        #(batch,1,28,28)\n",
    "        images = images.view(-1, 28*28)    \n",
    "        if CUDA:\n",
    "            images = images.cuda()\n",
    "            labels = labels.cuda()\n",
    "            \n",
    "        outputs = net(images)       \n",
    "        _, predicted = torch.max(outputs.data, 1)                                              \n",
    "        correct_train += (predicted == labels).sum() \n",
    "        loss = criterion(outputs, labels)                 \n",
    "        running_loss += loss.item()\n",
    "        optimizer.zero_grad() \n",
    "        loss.backward()                                   \n",
    "        optimizer.step()                                  \n",
    "        \n",
    "    print('Epoch [{}/{}], Training Loss: {:.3f}, Training Accuracy: {:.3f}%'.format\n",
    "          (epoch+1, epochs, running_loss/len(train_loader), (100*correct_train.double()/len(train_dataset))))\n",
    "print(\"DONE TRAINING!\")\n",
    "\n",
    "torch.save(net.state_dict(), f'model_inst_4.pth') #'binary_ffn_all.pth')\n"
   ]
  },
  {
   "cell_type": "code",
   "execution_count": 20,
   "metadata": {},
   "outputs": [],
   "source": [
    "from scipy.ndimage import center_of_mass, shift\n",
    "import torch.nn.functional as F\n",
    "import torch\n",
    "\n",
    "def preprocess_mnist_like(tensor):\n",
    "    if tensor.ndim == 2:\n",
    "        tensor = tensor.unsqueeze(0).unsqueeze(0)  # [1, 1, 28, 28]\n",
    "\n",
    "    tensor = tensor / (tensor.max() + 1e-8)\n",
    "\n",
    "    # Optional blur\n",
    "    tensor = F.avg_pool2d(tensor, 3, stride=1, padding=1)\n",
    "\n",
    "    # Extract image\n",
    "    img_np = tensor[0, 0].cpu().numpy()\n",
    "\n",
    "    # If drawing is completely blank, skip centering\n",
    "    if img_np.sum() == 0:\n",
    "        return tensor\n",
    "\n",
    "    # Center-of-mass shift\n",
    "    com = center_of_mass(img_np)\n",
    "    if len(com) != 2 or any([x != x for x in com]):  # check for NaN or invalid com\n",
    "        return tensor\n",
    "\n",
    "    shift_y = int(round(14 - com[0]))\n",
    "    shift_x = int(round(14 - com[1]))\n",
    "    img_centered = shift(img_np, shift=(shift_y, shift_x), order=1, mode='constant', cval=0.0)\n",
    "\n",
    "    tensor_centered = torch.tensor(img_centered).unsqueeze(0).unsqueeze(0).float()\n",
    "    return tensor_centered\n",
    "\n"
   ]
  },
  {
   "cell_type": "code",
   "execution_count": 21,
   "metadata": {},
   "outputs": [
    {
     "data": {
      "text/plain": [
       "tensor([[ -1.7430,   0.9303,   3.5242,   5.3841, -13.8410,  -3.2975,  -7.9356,\n",
       "          -2.8800,  -7.1683, -12.4873]], device='cuda:0',\n",
       "       grad_fn=<AddmmBackward0>)"
      ]
     },
     "execution_count": 21,
     "metadata": {},
     "output_type": "execute_result"
    }
   ],
   "source": [
    "import pygame\n",
    "import numpy as np\n",
    "import torch.nn.functional as F\n",
    "\n",
    "def draw_mnist_input(scale=20):\n",
    "    pygame.init()\n",
    "    size = 28\n",
    "    window = pygame.display.set_mode((size*scale, size*scale))\n",
    "    pygame.display.set_caption(\"Draw a digit (Press Enter to finish)\")\n",
    "    canvas = np.zeros((size, size), dtype=np.float32)\n",
    "\n",
    "    running = True\n",
    "    while running:\n",
    "        for event in pygame.event.get():\n",
    "            if event.type == pygame.QUIT:\n",
    "                running = False\n",
    "                break\n",
    "            elif event.type == pygame.KEYDOWN:\n",
    "                if event.key == pygame.K_RETURN:\n",
    "                    running = False\n",
    "                    break\n",
    "            elif pygame.mouse.get_pressed()[0]:\n",
    "                x, y = pygame.mouse.get_pos()\n",
    "                grid_x, grid_y = x // scale, y // scale\n",
    "                if 0 <= grid_x < size and 0 <= grid_y < size:\n",
    "                    canvas[grid_y, grid_x] = 1.0\n",
    "                    for dx in [-1, 0, 1]:\n",
    "                        for dy in [-1, 0, 1]:\n",
    "                            nx, ny = grid_x + dx, grid_y + dy\n",
    "                            if 0 <= nx < size and 0 <= ny < size:\n",
    "                                canvas[ny, nx] = max(canvas[ny, nx], 0.5)\n",
    "\n",
    "        for y in range(size):\n",
    "            for x in range(size):\n",
    "                val = int(canvas[y, x] * 255)\n",
    "                pygame.draw.rect(window, (val, val, val), (x*scale, y*scale, scale, scale))\n",
    "\n",
    "        pygame.display.flip()\n",
    "\n",
    "    pygame.quit()\n",
    "    return torch.tensor(canvas).unsqueeze(0)\n",
    "\n",
    "\n",
    "custom_tensor = draw_mnist_input()\n",
    "input_tensor = preprocess_mnist_like(custom_tensor).cuda()\n",
    "pred = net(input_tensor.view(1, -1))\n",
    "\n",
    "\n",
    "pred"
   ]
  },
  {
   "cell_type": "code",
   "execution_count": 13,
   "metadata": {},
   "outputs": [
    {
     "name": "stdout",
     "output_type": "stream",
     "text": [
      "Accuracy of the network on the 10000 test images: 96.62 %\n"
     ]
    }
   ],
   "source": [
    "with torch.no_grad():\n",
    "    correct = 0\n",
    "    for images, labels in test_loader:\n",
    "        if CUDA:\n",
    "            images = images.cuda()\n",
    "            labels = labels.cuda()\n",
    "        images = images.view(-1, 28*28)\n",
    "        outputs = net(images)\n",
    "        _, predicted = torch.max(outputs.data, 1)\n",
    "        correct += (predicted == labels).sum().item()\n",
    "\n",
    "    print('Accuracy of the network on the 10000 test images: {} %'.format(100 * correct / len(test_dataset)))"
   ]
  },
  {
   "cell_type": "code",
   "execution_count": 18,
   "metadata": {},
   "outputs": [],
   "source": [
    "import matplotlib.pyplot as plt\n",
    "import torch\n",
    "import torch.nn.functional as F\n",
    "import matplotlib.pyplot as plt\n",
    "import math\n",
    "import numpy as np\n",
    "from scipy.ndimage import gaussian_filter"
   ]
  },
  {
   "cell_type": "code",
   "execution_count": 21,
   "metadata": {},
   "outputs": [
    {
     "data": {
      "text/plain": [
       "'layer_name = \"fc1\"\\nneuron_indices = []\\nfor i in range(32):\\n    neuron_indices.append(i)\\nsteps = 200\\nlr = 0.1\\nsmoothing_sigma = 0.8\\n\\ndef get_activation(net, x, layer, neuron_idx):\\n    out1 = F.relu(net.fc1(x))\\n    out2 = F.relu(net.fc2(out1))\\n    out3 = F.relu(net.fc3(out2))\\n    if layer == \"fc1\":\\n        return out1[0, neuron_idx]\\n    elif layer == \"fc2\":\\n        return out2[0, neuron_idx]\\n    elif layer == \"fc3\":\\n        return out3[0, neuron_idx]\\n    else:\\n        raise ValueError(\"Invalid layer\")\\n\\nnet.eval()\\ndevice = \\'cuda\\' if CUDA else \\'cpu\\'\\nimages = []\\n\\nfor idx in neuron_indices:\\n    input_image = torch.randn(1, 784, requires_grad=True, device=device)\\n    optimizer = torch.optim.Adam([input_image], lr=lr)\\n\\n    for step in range(steps):\\n        optimizer.zero_grad()\\n        activation = get_activation(net, input_image, layer_name, idx)\\n        loss = -activation\\n        loss.backward()\\n        optimizer.step()\\n        with torch.no_grad():\\n            input_image.clamp_(0, 1)\\n\\n    img_np = input_image.detach().cpu().view(28, 28).numpy()\\n    if smoothing_sigma > 0:\\n        img_np = gaussian_filter(img_np, sigma=smoothing_sigma) #to make smoother\\n    images.append(img_np)\\n\\n#plotting\\ncols=6\\nimg_size=28\\nn = len(images)\\nrows = math.ceil(n / cols)\\n\\nplt.figure(figsize=(cols * 2.5, rows * 2.5))\\n\\nfor i, img in enumerate(images):\\n    ax = plt.subplot(rows, cols, i + 1)\\n    ax.imshow(img, cmap=\\'gray\\')\\n    ax.set_title(f\\'n{neuron_indices[i]}\\', fontsize=8)\\n    ax.axis(\\'off\\')\\n\\nplt.suptitle(f\\'Activation Maximization - {layer_name}\\', fontsize=16)\\nplt.tight_layout(rect=[0, 0, 1, 0.95])\\nplt.show()'"
      ]
     },
     "execution_count": 21,
     "metadata": {},
     "output_type": "execute_result"
    }
   ],
   "source": [
    "\"\"\"layer_name = \"fc1\"\n",
    "neuron_indices = []\n",
    "for i in range(32):\n",
    "    neuron_indices.append(i)\n",
    "steps = 200\n",
    "lr = 0.1\n",
    "smoothing_sigma = 0.8\n",
    "\n",
    "def get_activation(net, x, layer, neuron_idx):\n",
    "    out1 = F.relu(net.fc1(x))\n",
    "    out2 = F.relu(net.fc2(out1))\n",
    "    out3 = F.relu(net.fc3(out2))\n",
    "    if layer == \"fc1\":\n",
    "        return out1[0, neuron_idx]\n",
    "    elif layer == \"fc2\":\n",
    "        return out2[0, neuron_idx]\n",
    "    elif layer == \"fc3\":\n",
    "        return out3[0, neuron_idx]\n",
    "    else:\n",
    "        raise ValueError(\"Invalid layer\")\n",
    "\n",
    "net.eval()\n",
    "device = 'cuda' if CUDA else 'cpu'\n",
    "images = []\n",
    "\n",
    "for idx in neuron_indices:\n",
    "    input_image = torch.randn(1, 784, requires_grad=True, device=device)\n",
    "    optimizer = torch.optim.Adam([input_image], lr=lr)\n",
    "\n",
    "    for step in range(steps):\n",
    "        optimizer.zero_grad()\n",
    "        activation = get_activation(net, input_image, layer_name, idx)\n",
    "        loss = -activation\n",
    "        loss.backward()\n",
    "        optimizer.step()\n",
    "        with torch.no_grad():\n",
    "            input_image.clamp_(0, 1)\n",
    "\n",
    "    img_np = input_image.detach().cpu().view(28, 28).numpy()\n",
    "    if smoothing_sigma > 0:\n",
    "        img_np = gaussian_filter(img_np, sigma=smoothing_sigma) #to make smoother\n",
    "    images.append(img_np)\n",
    "\n",
    "#plotting\n",
    "cols=6\n",
    "img_size=28\n",
    "n = len(images)\n",
    "rows = math.ceil(n / cols)\n",
    "\n",
    "plt.figure(figsize=(cols * 2.5, rows * 2.5))\n",
    "\n",
    "for i, img in enumerate(images):\n",
    "    ax = plt.subplot(rows, cols, i + 1)\n",
    "    ax.imshow(img, cmap='gray')\n",
    "    ax.set_title(f'n{neuron_indices[i]}', fontsize=8)\n",
    "    ax.axis('off')\n",
    "\n",
    "plt.suptitle(f'Activation Maximization - {layer_name}', fontsize=16)\n",
    "plt.tight_layout(rect=[0, 0, 1, 0.95])\n",
    "plt.show()\"\"\""
   ]
  },
  {
   "cell_type": "code",
   "execution_count": 22,
   "metadata": {},
   "outputs": [
    {
     "data": {
      "image/png": "[encoded data removed]",
      "text/plain": [
       "<Figure size 1250x500 with 10 Axes>"
      ]
     },
     "metadata": {},
     "output_type": "display_data"
    }
   ],
   "source": [
    "import torch\n",
    "import torch.nn.functional as F\n",
    "import matplotlib.pyplot as plt\n",
    "import math\n",
    "import numpy as np\n",
    "from scipy.ndimage import gaussian_filter\n",
    "\n",
    "\n",
    "layer_name = \"output\"\n",
    "neuron_indices = list(range(10))\n",
    "steps = 200\n",
    "lr = 0.1\n",
    "smoothing_sigma = 0.8\n",
    "\n",
    "net.eval()\n",
    "device = 'cuda' if CUDA else 'cpu'\n",
    "images = []\n",
    "\n",
    "for idx in neuron_indices:\n",
    "    input_image = torch.randn(1, 784, requires_grad=True, device=device)\n",
    "    optimizer = torch.optim.Adam([input_image], lr=lr)\n",
    "\n",
    "    for step in range(steps):\n",
    "        optimizer.zero_grad()\n",
    "        logits = net(input_image)\n",
    "        activation = logits[0, idx]\n",
    "        loss = -activation\n",
    "        loss.backward()\n",
    "        optimizer.step()\n",
    "        with torch.no_grad():\n",
    "            input_image.clamp_(0, 1)\n",
    "\n",
    "    img_np = input_image.detach().cpu().view(28, 28).numpy()\n",
    "    if smoothing_sigma > 0:\n",
    "        img_np = gaussian_filter(img_np, sigma=smoothing_sigma)\n",
    "    images.append(img_np)\n",
    "\n",
    "#plotting\n",
    "cols = 5\n",
    "img_size = 28\n",
    "n = len(images)\n",
    "rows = math.ceil(n / cols)\n",
    "\n",
    "plt.figure(figsize=(cols * 2.5, rows * 2.5))\n",
    "for i, img in enumerate(images):\n",
    "    ax = plt.subplot(rows, cols, i + 1)\n",
    "    ax.imshow(img, cmap='gray')\n",
    "    ax.set_title(f'class {neuron_indices[i]}', fontsize=8)\n",
    "    ax.axis('off')\n",
    "\n",
    "plt.suptitle(f'Activation Maximization - Output Layer', fontsize=16)\n",
    "plt.tight_layout(rect=[0, 0, 1, 0.95])\n",
    "plt.show()\n"
   ]
  },
  {
   "cell_type": "code",
   "execution_count": 23,
   "metadata": {},
   "outputs": [
    {
     "name": "stdout",
     "output_type": "stream",
     "text": [
      "Accuracy of the network on the 10000 test images: 96.6 %\n"
     ]
    }
   ],
   "source": [
    "with torch.no_grad():\n",
    "    correct = 0\n",
    "    for images, labels in test_loader:\n",
    "        if CUDA:\n",
    "            images = images.cuda()\n",
    "            labels = labels.cuda()\n",
    "        images = images.view(-1, 28*28)\n",
    "        outputs = net(images)\n",
    "        _, predicted = torch.max(outputs.data, 1)\n",
    "        correct += (predicted == labels).sum().item()\n",
    "\n",
    "    print('Accuracy of the network on the 10000 test images: {} %'.format(100 * correct / len(test_dataset)))"
   ]
  }
 ],
 "metadata": {
  "kernelspec": {
   "display_name": "venv0",
   "language": "python",
   "name": "python3"
  },
  "language_info": {
   "codemirror_mode": {
    "name": "ipython",
    "version": 3
   },
   "file_extension": ".py",
   "mimetype": "text/x-python",
   "name": "python",
   "nbconvert_exporter": "python",
   "pygments_lexer": "ipython3",
   "version": "3.12.2"
  }
 },
 "nbformat": 4,
 "nbformat_minor": 2
}
