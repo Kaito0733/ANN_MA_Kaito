{
 "cells": [
  {
   "cell_type": "code",
   "execution_count": 10,
   "metadata": {},
   "outputs": [],
   "source": [
    "import torch\n",
    "import torch.nn as nn\n",
    "import torchvision.datasets as datasets \n",
    "import torchvision.transforms as transforms"
   ]
  },
  {
   "cell_type": "code",
   "execution_count": 11,
   "metadata": {},
   "outputs": [],
   "source": [
    "input_size = 784        #Number of input neurons (image pixels, 28x28)\n",
    "hidden_size0 = 32\n",
    "hidden_size1 = 16      #Number of hidden neurons\n",
    "out_size = 10           #Number of classes (0-9) \n",
    "epochs = 10            #How many times we pass our entire dataset into our network \n",
    "batch_size = 64        #Input size of the data during one iteration \n",
    "learning_rate = 0.001   #How fast we are learning"
   ]
  },
  {
   "cell_type": "code",
   "execution_count": 12,
   "metadata": {},
   "outputs": [],
   "source": [
    "train_dataset = datasets.MNIST(root='./data',\n",
    "                           train=True,\n",
    "                           transform=transforms.ToTensor(),\n",
    "                           download=True)\n",
    "\n",
    "test_dataset = datasets.MNIST(root='./data',\n",
    "                           train=False,\n",
    "                           transform=transforms.ToTensor())"
   ]
  },
  {
   "cell_type": "code",
   "execution_count": 13,
   "metadata": {},
   "outputs": [],
   "source": [
    "train_loader = torch.utils.data.DataLoader(dataset=train_dataset,\n",
    "                                          batch_size=batch_size,\n",
    "                                          shuffle=True)\n",
    "\n",
    "test_loader = torch.utils.data.DataLoader(dataset=test_dataset,\n",
    "                                          batch_size=batch_size,\n",
    "                                          shuffle=False)"
   ]
  },
  {
   "cell_type": "code",
   "execution_count": 14,
   "metadata": {},
   "outputs": [],
   "source": [
    "class Net(nn.Module):\n",
    "    def __init__(self, input_size, hidden_size0, hidden_size1, out_size):\n",
    "        super(Net, self).__init__()\n",
    "        self.fc0 = nn.Linear(input_size, hidden_size0)     #784 - 128\n",
    "        self.fc1 = nn.Linear(hidden_size0, hidden_size1)   #128 - 64\n",
    "        self.fc2 = nn.Linear(hidden_size1, out_size)       #64 - 10\n",
    "        self.relu = nn.ReLU()\n",
    "        self.init_weights()\n",
    "\n",
    "    def init_weights(self):\n",
    "        nn.init.kaiming_normal_(self.fc0.weight) #only works with ReLU\n",
    "        nn.init.kaiming_normal_(self.fc1.weight)\n",
    "        nn.init.kaiming_normal_(self.fc2.weight)\n",
    "\n",
    "    def forward(self, x):\n",
    "        out = self.relu(self.fc0(x))\n",
    "        out = self.relu(self.fc1(out))\n",
    "        out = self.fc2(out)\n",
    "        return out"
   ]
  },
  {
   "cell_type": "code",
   "execution_count": 15,
   "metadata": {},
   "outputs": [],
   "source": [
    "#Create an object of the class, which represents our network \n",
    "net = Net(input_size, hidden_size0, hidden_size1, out_size)\n",
    "CUDA = torch.cuda.is_available()\n",
    "if CUDA:\n",
    "    net = net.cuda()\n",
    "#The loss function. The Cross Entropy loss comes along with Softmax. Therefore, no need to specify Softmax as well\n",
    "criterion = nn.CrossEntropyLoss()\n",
    "optimizer = torch.optim.Adam(net.parameters(), lr=learning_rate)"
   ]
  },
  {
   "cell_type": "code",
   "execution_count": 16,
   "metadata": {},
   "outputs": [
    {
     "name": "stdout",
     "output_type": "stream",
     "text": [
      "True\n"
     ]
    }
   ],
   "source": [
    "print(CUDA)"
   ]
  },
  {
   "cell_type": "code",
   "execution_count": 17,
   "metadata": {},
   "outputs": [
    {
     "name": "stdout",
     "output_type": "stream",
     "text": [
      "Epoch [1/10], Training Loss: 0.460, Training Accuracy: 86.888%\n",
      "Epoch [2/10], Training Loss: 0.206, Training Accuracy: 94.055%\n",
      "Epoch [3/10], Training Loss: 0.165, Training Accuracy: 95.200%\n",
      "Epoch [4/10], Training Loss: 0.139, Training Accuracy: 95.910%\n",
      "Epoch [5/10], Training Loss: 0.122, Training Accuracy: 96.350%\n",
      "Epoch [6/10], Training Loss: 0.108, Training Accuracy: 96.712%\n",
      "Epoch [7/10], Training Loss: 0.099, Training Accuracy: 96.990%\n",
      "Epoch [8/10], Training Loss: 0.091, Training Accuracy: 97.195%\n",
      "Epoch [9/10], Training Loss: 0.085, Training Accuracy: 97.318%\n",
      "Epoch [10/10], Training Loss: 0.079, Training Accuracy: 97.638%\n",
      "DONE TRAINING!\n"
     ]
    }
   ],
   "source": [
    "#Training\n",
    "for epoch in range(epochs):\n",
    "    correct_train = 0\n",
    "    running_loss = 0\n",
    "    for i, (images, labels) in enumerate(train_loader):   \n",
    "        #(batch,1,28,28)\n",
    "        images = images.view(-1, 28*28)    \n",
    "        if CUDA:\n",
    "            images = images.cuda()\n",
    "            labels = labels.cuda()\n",
    "            \n",
    "        outputs = net(images)       \n",
    "        _, predicted = torch.max(outputs.data, 1)                                              \n",
    "        correct_train += (predicted == labels).sum() \n",
    "        loss = criterion(outputs, labels)                 \n",
    "        running_loss += loss.item()\n",
    "        optimizer.zero_grad() \n",
    "        loss.backward()                                   \n",
    "        optimizer.step()                                  \n",
    "        \n",
    "    print('Epoch [{}/{}], Training Loss: {:.3f}, Training Accuracy: {:.3f}%'.format\n",
    "          (epoch+1, epochs, running_loss/len(train_loader), (100*correct_train.double()/len(train_dataset))))\n",
    "print(\"DONE TRAINING!\")\n",
    "\n",
    "torch.save(net.state_dict(), f'binary_ffn_all.pth')\n"
   ]
  },
  {
   "cell_type": "code",
   "execution_count": 18,
   "metadata": {},
   "outputs": [],
   "source": [
    "import matplotlib.pyplot as plt\n",
    "import torch\n",
    "import torch.nn.functional as F\n",
    "import matplotlib.pyplot as plt\n",
    "import math\n",
    "import numpy as np\n",
    "from scipy.ndimage import gaussian_filter"
   ]
  },
  {
   "cell_type": "code",
   "execution_count": 19,
   "metadata": {},
   "outputs": [
    {
     "ename": "RuntimeError",
     "evalue": "mat1 and mat2 shapes cannot be multiplied (1x784 and 32x16)",
     "output_type": "error",
     "traceback": [
      "\u001b[31m---------------------------------------------------------------------------\u001b[39m",
      "\u001b[31mRuntimeError\u001b[39m                              Traceback (most recent call last)",
      "\u001b[36mCell\u001b[39m\u001b[36m \u001b[39m\u001b[32mIn[19]\u001b[39m\u001b[32m, line 32\u001b[39m\n\u001b[32m     30\u001b[39m \u001b[38;5;28;01mfor\u001b[39;00m step \u001b[38;5;129;01min\u001b[39;00m \u001b[38;5;28mrange\u001b[39m(steps):\n\u001b[32m     31\u001b[39m     optimizer.zero_grad()\n\u001b[32m---> \u001b[39m\u001b[32m32\u001b[39m     activation = \u001b[43mget_activation\u001b[49m\u001b[43m(\u001b[49m\u001b[43mnet\u001b[49m\u001b[43m,\u001b[49m\u001b[43m \u001b[49m\u001b[43minput_image\u001b[49m\u001b[43m,\u001b[49m\u001b[43m \u001b[49m\u001b[43mlayer_name\u001b[49m\u001b[43m,\u001b[49m\u001b[43m \u001b[49m\u001b[43midx\u001b[49m\u001b[43m)\u001b[49m\n\u001b[32m     33\u001b[39m     loss = -activation\n\u001b[32m     34\u001b[39m     loss.backward()\n",
      "\u001b[36mCell\u001b[39m\u001b[36m \u001b[39m\u001b[32mIn[19]\u001b[39m\u001b[32m, line 10\u001b[39m, in \u001b[36mget_activation\u001b[39m\u001b[34m(net, x, layer, neuron_idx)\u001b[39m\n\u001b[32m      9\u001b[39m \u001b[38;5;28;01mdef\u001b[39;00m\u001b[38;5;250m \u001b[39m\u001b[34mget_activation\u001b[39m(net, x, layer, neuron_idx):\n\u001b[32m---> \u001b[39m\u001b[32m10\u001b[39m     out1 = F.relu(\u001b[43mnet\u001b[49m\u001b[43m.\u001b[49m\u001b[43mfc1\u001b[49m\u001b[43m(\u001b[49m\u001b[43mx\u001b[49m\u001b[43m)\u001b[49m)\n\u001b[32m     11\u001b[39m     out2 = F.relu(net.fc2(out1))\n\u001b[32m     12\u001b[39m     out3 = F.relu(net.fc3(out2))\n",
      "\u001b[36mFile \u001b[39m\u001b[32m~/Desktop/ann_ma_kaito/venv0/lib/python3.12/site-packages/torch/nn/modules/module.py:1751\u001b[39m, in \u001b[36mModule._wrapped_call_impl\u001b[39m\u001b[34m(self, *args, **kwargs)\u001b[39m\n\u001b[32m   1749\u001b[39m     \u001b[38;5;28;01mreturn\u001b[39;00m \u001b[38;5;28mself\u001b[39m._compiled_call_impl(*args, **kwargs)  \u001b[38;5;66;03m# type: ignore[misc]\u001b[39;00m\n\u001b[32m   1750\u001b[39m \u001b[38;5;28;01melse\u001b[39;00m:\n\u001b[32m-> \u001b[39m\u001b[32m1751\u001b[39m     \u001b[38;5;28;01mreturn\u001b[39;00m \u001b[38;5;28;43mself\u001b[39;49m\u001b[43m.\u001b[49m\u001b[43m_call_impl\u001b[49m\u001b[43m(\u001b[49m\u001b[43m*\u001b[49m\u001b[43margs\u001b[49m\u001b[43m,\u001b[49m\u001b[43m \u001b[49m\u001b[43m*\u001b[49m\u001b[43m*\u001b[49m\u001b[43mkwargs\u001b[49m\u001b[43m)\u001b[49m\n",
      "\u001b[36mFile \u001b[39m\u001b[32m~/Desktop/ann_ma_kaito/venv0/lib/python3.12/site-packages/torch/nn/modules/module.py:1762\u001b[39m, in \u001b[36mModule._call_impl\u001b[39m\u001b[34m(self, *args, **kwargs)\u001b[39m\n\u001b[32m   1757\u001b[39m \u001b[38;5;66;03m# If we don't have any hooks, we want to skip the rest of the logic in\u001b[39;00m\n\u001b[32m   1758\u001b[39m \u001b[38;5;66;03m# this function, and just call forward.\u001b[39;00m\n\u001b[32m   1759\u001b[39m \u001b[38;5;28;01mif\u001b[39;00m \u001b[38;5;129;01mnot\u001b[39;00m (\u001b[38;5;28mself\u001b[39m._backward_hooks \u001b[38;5;129;01mor\u001b[39;00m \u001b[38;5;28mself\u001b[39m._backward_pre_hooks \u001b[38;5;129;01mor\u001b[39;00m \u001b[38;5;28mself\u001b[39m._forward_hooks \u001b[38;5;129;01mor\u001b[39;00m \u001b[38;5;28mself\u001b[39m._forward_pre_hooks\n\u001b[32m   1760\u001b[39m         \u001b[38;5;129;01mor\u001b[39;00m _global_backward_pre_hooks \u001b[38;5;129;01mor\u001b[39;00m _global_backward_hooks\n\u001b[32m   1761\u001b[39m         \u001b[38;5;129;01mor\u001b[39;00m _global_forward_hooks \u001b[38;5;129;01mor\u001b[39;00m _global_forward_pre_hooks):\n\u001b[32m-> \u001b[39m\u001b[32m1762\u001b[39m     \u001b[38;5;28;01mreturn\u001b[39;00m \u001b[43mforward_call\u001b[49m\u001b[43m(\u001b[49m\u001b[43m*\u001b[49m\u001b[43margs\u001b[49m\u001b[43m,\u001b[49m\u001b[43m \u001b[49m\u001b[43m*\u001b[49m\u001b[43m*\u001b[49m\u001b[43mkwargs\u001b[49m\u001b[43m)\u001b[49m\n\u001b[32m   1764\u001b[39m result = \u001b[38;5;28;01mNone\u001b[39;00m\n\u001b[32m   1765\u001b[39m called_always_called_hooks = \u001b[38;5;28mset\u001b[39m()\n",
      "\u001b[36mFile \u001b[39m\u001b[32m~/Desktop/ann_ma_kaito/venv0/lib/python3.12/site-packages/torch/nn/modules/linear.py:125\u001b[39m, in \u001b[36mLinear.forward\u001b[39m\u001b[34m(self, input)\u001b[39m\n\u001b[32m    124\u001b[39m \u001b[38;5;28;01mdef\u001b[39;00m\u001b[38;5;250m \u001b[39m\u001b[34mforward\u001b[39m(\u001b[38;5;28mself\u001b[39m, \u001b[38;5;28minput\u001b[39m: Tensor) -> Tensor:\n\u001b[32m--> \u001b[39m\u001b[32m125\u001b[39m     \u001b[38;5;28;01mreturn\u001b[39;00m \u001b[43mF\u001b[49m\u001b[43m.\u001b[49m\u001b[43mlinear\u001b[49m\u001b[43m(\u001b[49m\u001b[38;5;28;43minput\u001b[39;49m\u001b[43m,\u001b[49m\u001b[43m \u001b[49m\u001b[38;5;28;43mself\u001b[39;49m\u001b[43m.\u001b[49m\u001b[43mweight\u001b[49m\u001b[43m,\u001b[49m\u001b[43m \u001b[49m\u001b[38;5;28;43mself\u001b[39;49m\u001b[43m.\u001b[49m\u001b[43mbias\u001b[49m\u001b[43m)\u001b[49m\n",
      "\u001b[31mRuntimeError\u001b[39m: mat1 and mat2 shapes cannot be multiplied (1x784 and 32x16)"
     ]
    }
   ],
   "source": [
    "layer_name = \"fc1\"\n",
    "neuron_indices = []\n",
    "for i in range(32):\n",
    "    neuron_indices.append(i)\n",
    "steps = 200\n",
    "lr = 0.1\n",
    "smoothing_sigma = 0.8\n",
    "\n",
    "def get_activation(net, x, layer, neuron_idx):\n",
    "    out1 = F.relu(net.fc1(x))\n",
    "    out2 = F.relu(net.fc2(out1))\n",
    "    out3 = F.relu(net.fc3(out2))\n",
    "    if layer == \"fc1\":\n",
    "        return out1[0, neuron_idx]\n",
    "    elif layer == \"fc2\":\n",
    "        return out2[0, neuron_idx]\n",
    "    elif layer == \"fc3\":\n",
    "        return out3[0, neuron_idx]\n",
    "    else:\n",
    "        raise ValueError(\"Invalid layer\")\n",
    "\n",
    "net.eval()\n",
    "device = 'cuda' if CUDA else 'cpu'\n",
    "images = []\n",
    "\n",
    "for idx in neuron_indices:\n",
    "    input_image = torch.randn(1, 784, requires_grad=True, device=device)\n",
    "    optimizer = torch.optim.Adam([input_image], lr=lr)\n",
    "\n",
    "    for step in range(steps):\n",
    "        optimizer.zero_grad()\n",
    "        activation = get_activation(net, input_image, layer_name, idx)\n",
    "        loss = -activation\n",
    "        loss.backward()\n",
    "        optimizer.step()\n",
    "        with torch.no_grad():\n",
    "            input_image.clamp_(0, 1)\n",
    "\n",
    "    img_np = input_image.detach().cpu().view(28, 28).numpy()\n",
    "    if smoothing_sigma > 0:\n",
    "        img_np = gaussian_filter(img_np, sigma=smoothing_sigma) #to make smoother\n",
    "    images.append(img_np)\n",
    "\n",
    "#plotting\n",
    "cols=6\n",
    "img_size=28\n",
    "n = len(images)\n",
    "rows = math.ceil(n / cols)\n",
    "\n",
    "plt.figure(figsize=(cols * 2.5, rows * 2.5))\n",
    "\n",
    "for i, img in enumerate(images):\n",
    "    ax = plt.subplot(rows, cols, i + 1)\n",
    "    ax.imshow(img, cmap='gray')\n",
    "    ax.set_title(f'n{neuron_indices[i]}', fontsize=8)\n",
    "    ax.axis('off')\n",
    "\n",
    "plt.suptitle(f'Activation Maximization - {layer_name}', fontsize=16)\n",
    "plt.tight_layout(rect=[0, 0, 1, 0.95])\n",
    "plt.show()"
   ]
  },
  {
   "cell_type": "code",
   "execution_count": null,
   "metadata": {},
   "outputs": [
    {
     "data": {
      "image/png": "[encoded data removed]",
      "text/plain": [
       "<Figure size 1250x500 with 10 Axes>"
      ]
     },
     "metadata": {},
     "output_type": "display_data"
    }
   ],
   "source": [
    "import torch\n",
    "import torch.nn.functional as F\n",
    "import matplotlib.pyplot as plt\n",
    "import math\n",
    "import numpy as np\n",
    "from scipy.ndimage import gaussian_filter\n",
    "\n",
    "\n",
    "layer_name = \"output\"\n",
    "neuron_indices = list(range(10))\n",
    "steps = 200\n",
    "lr = 0.1\n",
    "smoothing_sigma = 0.8\n",
    "\n",
    "net.eval()\n",
    "device = 'cuda' if CUDA else 'cpu'\n",
    "images = []\n",
    "\n",
    "for idx in neuron_indices:\n",
    "    input_image = torch.randn(1, 784, requires_grad=True, device=device)\n",
    "    optimizer = torch.optim.Adam([input_image], lr=lr)\n",
    "\n",
    "    for step in range(steps):\n",
    "        optimizer.zero_grad()\n",
    "        logits = net(input_image)\n",
    "        activation = logits[0, idx]\n",
    "        loss = -activation\n",
    "        loss.backward()\n",
    "        optimizer.step()\n",
    "        with torch.no_grad():\n",
    "            input_image.clamp_(0, 1)\n",
    "\n",
    "    img_np = input_image.detach().cpu().view(28, 28).numpy()\n",
    "    if smoothing_sigma > 0:\n",
    "        img_np = gaussian_filter(img_np, sigma=smoothing_sigma)\n",
    "    images.append(img_np)\n",
    "\n",
    "#plotting\n",
    "cols = 5\n",
    "img_size = 28\n",
    "n = len(images)\n",
    "rows = math.ceil(n / cols)\n",
    "\n",
    "plt.figure(figsize=(cols * 2.5, rows * 2.5))\n",
    "for i, img in enumerate(images):\n",
    "    ax = plt.subplot(rows, cols, i + 1)\n",
    "    ax.imshow(img, cmap='gray')\n",
    "    ax.set_title(f'class {neuron_indices[i]}', fontsize=8)\n",
    "    ax.axis('off')\n",
    "\n",
    "plt.suptitle(f'Activation Maximization - Output Layer', fontsize=16)\n",
    "plt.tight_layout(rect=[0, 0, 1, 0.95])\n",
    "plt.show()\n"
   ]
  },
  {
   "cell_type": "code",
   "execution_count": null,
   "metadata": {},
   "outputs": [
    {
     "name": "stdout",
     "output_type": "stream",
     "text": [
      "Accuracy of the network on the 10000 test images: 96.51 %\n"
     ]
    }
   ],
   "source": [
    "with torch.no_grad():\n",
    "    correct = 0\n",
    "    for images, labels in test_loader:\n",
    "        if CUDA:\n",
    "            images = images.cuda()\n",
    "            labels = labels.cuda()\n",
    "        images = images.view(-1, 28*28)\n",
    "        outputs = net(images)\n",
    "        _, predicted = torch.max(outputs.data, 1)\n",
    "        correct += (predicted == labels).sum().item()\n",
    "\n",
    "    print('Accuracy of the network on the 10000 test images: {} %'.format(100 * correct / len(test_dataset)))"
   ]
  }
 ],
 "metadata": {
  "kernelspec": {
   "display_name": "venv0",
   "language": "python",
   "name": "python3"
  },
  "language_info": {
   "codemirror_mode": {
    "name": "ipython",
    "version": 3
   },
   "file_extension": ".py",
   "mimetype": "text/x-python",
   "name": "python",
   "nbconvert_exporter": "python",
   "pygments_lexer": "ipython3",
   "version": "3.12.2"
  }
 },
 "nbformat": 4,
 "nbformat_minor": 2
}
