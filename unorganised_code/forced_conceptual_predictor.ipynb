{
 "cells": [
  {
   "cell_type": "code",
   "execution_count": null,
   "id": "3edf9f14",
   "metadata": {},
   "outputs": [],
   "source": [
    "import torch\n",
    "import torch.nn as nn\n",
    "import torchvision.datasets as datasets \n",
    "import torchvision.transforms as transforms\n",
    "import torchvision\n",
    "\n",
    "import matplotlib.pyplot as plt\n",
    "from skimage.morphology import skeletonize\n",
    "import numpy as np\n",
    "from scipy.ndimage import distance_transform_edt\n"
   ]
  },
  {
   "cell_type": "code",
   "execution_count": 141,
   "id": "6bca569c",
   "metadata": {},
   "outputs": [],
   "source": [
    "input_size = 784        #Number of input neurons (image pixels, 28x28)\n",
    "intervention_size = 11\n",
    "hidden_size0 = 32\n",
    "hidden_size1 = 16      #Number of hidden neurons\n",
    "out_size = 10           #Number of classes (0-9) \n",
    "epochs = 10            #How many times we pass our entire dataset into our network \n",
    "batch_size = 64        #Input size of the data during one iteration \n",
    "learning_rate = 0.001   #How fast we are learning"
   ]
  },
  {
   "cell_type": "code",
   "execution_count": 142,
   "id": "b2d67a41",
   "metadata": {},
   "outputs": [],
   "source": [
    "train_dataset = datasets.MNIST(root='./data',\n",
    "                           train=True,\n",
    "                           transform=transforms.ToTensor(),\n",
    "                           download=True)\n",
    "\n",
    "test_dataset = datasets.MNIST(root='./data',\n",
    "                           train=False,\n",
    "                           transform=transforms.ToTensor())"
   ]
  },
  {
   "cell_type": "code",
   "execution_count": 143,
   "id": "cc3577b7",
   "metadata": {},
   "outputs": [],
   "source": [
    "train_loader = torch.utils.data.DataLoader(dataset=train_dataset,\n",
    "                                          batch_size=batch_size,\n",
    "                                          shuffle=True)\n",
    "\n",
    "test_loader = torch.utils.data.DataLoader(dataset=test_dataset,\n",
    "                                          batch_size=batch_size,\n",
    "                                          shuffle=False)"
   ]
  },
  {
   "cell_type": "code",
   "execution_count": 197,
   "id": "899a721d",
   "metadata": {},
   "outputs": [],
   "source": [
    "class Net(nn.Module):\n",
    "    def __init__(self, input_size, hidden_size0, hidden_size1, out_size, masks, threshold=0.5):\n",
    "        super(Net, self).__init__()\n",
    "        self.fc0 = nn.Linear(input_size, intervention_size)\n",
    "        self.fc1 = nn.Linear(intervention_size, hidden_size0)\n",
    "        self.fc2 = nn.Linear(hidden_size0, hidden_size1)\n",
    "        self.fc3 = nn.Linear(hidden_size1, out_size)\n",
    "        self.relu = nn.ReLU()\n",
    "        self.tanh = nn.Tanh()\n",
    "        self.init_weights()\n",
    "        \n",
    "        self.register_buffer('fc0_mask', masks.bool())\n",
    "        self.threshold = threshold\n",
    "\n",
    "    def init_weights(self):\n",
    "        nn.init.kaiming_normal_(self.fc0.weight) #nn.init.constant_(self.fc0.weight, 0.5) nn.init.constant_(self.fc0.bias, 0.0)\n",
    "        nn.init.kaiming_normal_(self.fc1.weight)\n",
    "        nn.init.kaiming_normal_(self.fc2.weight)\n",
    "        nn.init.kaiming_normal_(self.fc3.weight)\n",
    "\n",
    "    def forward(self, x):\n",
    "        out = self.tanh(self.fc0(x))\n",
    "        out = self.tanh(self.fc1(out))\n",
    "        out = self.tanh(self.fc2(out))\n",
    "        out = self.fc3(out)\n",
    "        return out\n",
    "\n",
    "    def apply_fc0_constraints(self):\n",
    "        with torch.no_grad():\n",
    "            w = self.fc0.weight.data\n",
    "            mask = self.fc0_mask\n",
    "\n",
    "            w[~mask] = 0\n",
    "\n",
    "            w[mask & (w.abs() < self.threshold)] = (\n",
    "                self.threshold * w[mask & (w.abs() < self.threshold)].sign()\n",
    "            )\n"
   ]
  },
  {
   "cell_type": "code",
   "execution_count": 160,
   "id": "3836554e",
   "metadata": {},
   "outputs": [
    {
     "data": {
      "text/plain": [
       "<matplotlib.image.AxesImage at 0x7fccdd7732f0>"
      ]
     },
     "execution_count": 160,
     "metadata": {},
     "output_type": "execute_result"
    },
    {
     "data": {
      "text/plain": [
       "(-0.5, 27.5, 27.5, -0.5)"
      ]
     },
     "execution_count": 160,
     "metadata": {},
     "output_type": "execute_result"
    },
    {
     "data": {
      "text/plain": [
       "Text(0.5, 1.0, 'Average Digit 3 (min=0.1 mapped)')"
      ]
     },
     "execution_count": 160,
     "metadata": {},
     "output_type": "execute_result"
    },
    {
     "data": {
      "image/png": "[encoded data removed]",
      "text/plain": [
       "<Figure size 640x480 with 1 Axes>"
      ]
     },
     "metadata": {},
     "output_type": "display_data"
    },
    {
     "data": {
      "text/plain": [
       "<matplotlib.image.AxesImage at 0x7fcd1817c350>"
      ]
     },
     "execution_count": 160,
     "metadata": {},
     "output_type": "execute_result"
    },
    {
     "data": {
      "image/png": "[encoded data removed]",
      "text/plain": [
       "<Figure size 640x480 with 1 Axes>"
      ]
     },
     "metadata": {},
     "output_type": "display_data"
    }
   ],
   "source": [
    "transform = transforms.ToTensor()\n",
    "trainset = torchvision.datasets.MNIST(root='./data', train=True, download=True, transform=transform)\n",
    "trainloader = torch.utils.data.DataLoader(trainset, batch_size=100, shuffle=False)\n",
    "\n",
    "target_digit = 3\n",
    "\n",
    "sum_img = torch.zeros((28, 28))\n",
    "count = 0\n",
    "\n",
    "for imgs, labels in trainloader:\n",
    "    mask = labels == target_digit\n",
    "    if mask.any():\n",
    "        selected_imgs = imgs[mask]  # shape: [N, 1, 28, 28]\n",
    "        sum_img += selected_imgs.sum(dim=0).squeeze(0)\n",
    "        count += mask.sum().item()\n",
    "\n",
    "avg_img = sum_img / count\n",
    "\n",
    "plt.imshow(avg_img, cmap='inferno')\n",
    "plt.axis('off')\n",
    "plt.title(f'Average Digit {target_digit} (min=0.1 mapped)')\n",
    "plt.show()\n",
    "\n",
    "#print(avg_img)\n",
    "\n",
    "to_skel = (avg_img > 0.1).float()\n",
    "\n",
    "skel = skeletonize(to_skel.cpu().numpy())\n",
    "plt.imshow(skel)\n",
    "\n",
    "#print(to_skel)"
   ]
  },
  {
   "cell_type": "code",
   "execution_count": 161,
   "id": "a7fc114b",
   "metadata": {},
   "outputs": [],
   "source": [
    "def extract_concepts(skeleton, img):\n",
    "    img_np = img.cpu().numpy()\n",
    "    skeleton_np = skeleton.astype(bool)\n",
    "\n",
    "    size = 10\n",
    "    maxoverlap = 7\n",
    "    height, width = 28, 28\n",
    "\n",
    "    neighbors_offsets = [(dy, dx) for dy in [-1,0,1] for dx in [-1,0,1] if not (dy == 0 and dx == 0)]\n",
    "\n",
    "    def get_neighbors(p):\n",
    "        y, x = p\n",
    "        result = []\n",
    "        for dy, dx in neighbors_offsets:\n",
    "            ny, nx = y + dy, x + dx\n",
    "            if 0 <= ny < height and 0 <= nx < width and skeleton_np[ny, nx]:\n",
    "                result.append((ny, nx))\n",
    "        return result\n",
    "\n",
    "    groups = []\n",
    "    groups_sets = []\n",
    "\n",
    "    def dfs(path, visited):\n",
    "        if len(path) == size:\n",
    "            path_set = set(path)\n",
    "            if not any(len(path_set & g) > maxoverlap for g in groups_sets):\n",
    "                groups.append(np.array(path))\n",
    "                groups_sets.append(path_set)\n",
    "            return\n",
    "\n",
    "        candidates = set()\n",
    "        for p in path:\n",
    "            for n in get_neighbors(p):\n",
    "                if n not in visited:\n",
    "                    candidates.add(n)\n",
    "\n",
    "        for n in candidates:\n",
    "            visited.add(n)\n",
    "            dfs(path + [n], visited)\n",
    "            visited.remove(n)\n",
    "\n",
    "    all_pixels = list(zip(*np.nonzero(skeleton_np)))\n",
    "\n",
    "    for start in all_pixels:\n",
    "        dfs([start], set([start]))\n",
    "\n",
    "    tensor_groups = torch.stack([\n",
    "        torch.zeros((height, width), dtype=torch.uint8).index_put_(\n",
    "            (torch.tensor(g[:, 0]), torch.tensor(g[:, 1])), \n",
    "            torch.ones(len(g), dtype=torch.uint8)\n",
    "        ) for g in groups\n",
    "    ])\n",
    "\n",
    "    original_clusters = torch.zeros_like(tensor_groups)\n",
    "    original_clusters = []\n",
    "\n",
    "    for i in range(tensor_groups.shape[0]):\n",
    "        mask = tensor_groups[i].numpy()\n",
    "        inverted_mask = 1 - mask\n",
    "        distance = distance_transform_edt(inverted_mask)\n",
    "        within_range_mask = (distance <= 3.5).astype(np.float32)\n",
    "        new_input = torch.from_numpy(img_np * within_range_mask).float()\n",
    "        original_clusters.append(new_input)\n",
    "\n",
    "    return tensor_groups, original_clusters"
   ]
  },
  {
   "cell_type": "code",
   "execution_count": 162,
   "id": "17ea8097",
   "metadata": {},
   "outputs": [],
   "source": [
    "tensors, originals = extract_concepts(skeleton=skel, img=avg_img)"
   ]
  },
  {
   "cell_type": "code",
   "execution_count": 163,
   "id": "2eb43573",
   "metadata": {},
   "outputs": [],
   "source": [
    "ind = 0"
   ]
  },
  {
   "cell_type": "code",
   "execution_count": 175,
   "id": "0ab52cb6",
   "metadata": {},
   "outputs": [
    {
     "data": {
      "text/plain": [
       "<Axes: >"
      ]
     },
     "execution_count": 175,
     "metadata": {},
     "output_type": "execute_result"
    },
    {
     "data": {
      "text/plain": [
       "<matplotlib.image.AxesImage at 0x7fcd185685f0>"
      ]
     },
     "execution_count": 175,
     "metadata": {},
     "output_type": "execute_result"
    },
    {
     "data": {
      "text/plain": [
       "<matplotlib.image.AxesImage at 0x7fcd185f5b20>"
      ]
     },
     "execution_count": 175,
     "metadata": {},
     "output_type": "execute_result"
    },
    {
     "data": {
      "text/plain": [
       "Text(0.5, 1.0, 'Label: 3')"
      ]
     },
     "execution_count": 175,
     "metadata": {},
     "output_type": "execute_result"
    },
    {
     "data": {
      "text/plain": [
       "<Axes: >"
      ]
     },
     "execution_count": 175,
     "metadata": {},
     "output_type": "execute_result"
    },
    {
     "data": {
      "text/plain": [
       "Text(0.5, 1.0, 'Concept Segment from Original')"
      ]
     },
     "execution_count": 175,
     "metadata": {},
     "output_type": "execute_result"
    },
    {
     "data": {
      "text/plain": [
       "<matplotlib.image.AxesImage at 0x7fcd4bf68aa0>"
      ]
     },
     "execution_count": 175,
     "metadata": {},
     "output_type": "execute_result"
    },
    {
     "data": {
      "text/plain": [
       "(-0.5, 27.5, 27.5, -0.5)"
      ]
     },
     "execution_count": 175,
     "metadata": {},
     "output_type": "execute_result"
    },
    {
     "data": {
      "image/png": "[encoded data removed]",
      "text/plain": [
       "<Figure size 640x480 with 2 Axes>"
      ]
     },
     "metadata": {},
     "output_type": "display_data"
    },
    {
     "name": "stdout",
     "output_type": "stream",
     "text": [
      "11\n"
     ]
    }
   ],
   "source": [
    "plt.subplot(1, 2, 1)\n",
    "plt.imshow(avg_img.view(28, 28), cmap=\"gray\") #or squeeze()\n",
    "plt.imshow(tensors[ind].cpu().numpy(), cmap='inferno', alpha=0.6)\n",
    "plt.title(f\"Label: {target_digit}\")\n",
    "\n",
    "plt.subplot(1, 2, 2)\n",
    "plt.title('Concept Segment from Original')\n",
    "plt.imshow(originals[ind], cmap='gray')\n",
    "\n",
    "plt.axis('off')\n",
    "plt.show()\n",
    "print(len(tensors))\n",
    "\n",
    "ind = ind + 1 if ind < len(tensors) - 1 else 0"
   ]
  },
  {
   "cell_type": "code",
   "execution_count": 176,
   "id": "0df36b8c",
   "metadata": {},
   "outputs": [
    {
     "data": {
      "text/plain": [
       "11"
      ]
     },
     "execution_count": 176,
     "metadata": {},
     "output_type": "execute_result"
    }
   ],
   "source": [
    "#input: 784 grayscale\n",
    "#hidden layer 0: 11 neurons\n",
    "#hidden layer 1: 32 neurons\n",
    "\n",
    "#masks from 784 to 11:\n",
    "all_masks = []\n",
    "\n",
    "for cluster in originals:\n",
    "    binary_mask = (cluster.view(-1) != 0) #size (784,)\n",
    "    all_masks.append(binary_mask)\n",
    "\n",
    "len(all_masks) #11 clusters -> each cluster defines rules for each of the 11 hidden neurons\n",
    "\n",
    "mask_tensor = torch.stack(all_masks).to(torch.bool)\n",
    "\n",
    "\n",
    "#constraints for FFN for each cluster-neuron pair:\n",
    "#weights to neuron that aren't in the binary positive (1) cluster must be 0\n",
    "#weights from the 1's (the corresponding cluster) must retain a weight >= 0.5, or <= -0.5\n",
    "#(tanh is used, or should I use ReLU and only allow >= 0.5?, idk which one would make it easier for the net to adapt to the constraints...)"
   ]
  },
  {
   "cell_type": "code",
   "execution_count": null,
   "id": "6a1f1650",
   "metadata": {},
   "outputs": [],
   "source": []
  },
  {
   "cell_type": "code",
   "execution_count": 198,
   "id": "8d29eded",
   "metadata": {},
   "outputs": [
    {
     "name": "stdout",
     "output_type": "stream",
     "text": [
      "Epoch [1/10], Training Loss: 1.273, Training Accuracy: 57.925%\n",
      "Epoch [2/10], Training Loss: 0.830, Training Accuracy: 72.917%\n",
      "Epoch [3/10], Training Loss: 0.719, Training Accuracy: 76.520%\n",
      "Epoch [4/10], Training Loss: 0.654, Training Accuracy: 78.892%\n",
      "Epoch [5/10], Training Loss: 0.612, Training Accuracy: 80.143%\n",
      "Epoch [6/10], Training Loss: 0.583, Training Accuracy: 81.203%\n",
      "Epoch [7/10], Training Loss: 0.561, Training Accuracy: 82.002%\n",
      "Epoch [8/10], Training Loss: 0.545, Training Accuracy: 82.528%\n",
      "Epoch [9/10], Training Loss: 0.531, Training Accuracy: 82.977%\n",
      "Epoch [10/10], Training Loss: 0.519, Training Accuracy: 83.433%\n",
      "DONE TRAINING!\n"
     ]
    }
   ],
   "source": [
    "CUDA = torch.cuda.is_available()\n",
    "\n",
    "net = Net(input_size, hidden_size0, hidden_size1, out_size, masks=mask_tensor, threshold=0.5)\n",
    "if torch.cuda.is_available():\n",
    "    net = net.cuda()\n",
    "\n",
    "#The loss function. The Cross Entropy loss comes along with Softmax. Therefore, no need to specify Softmax as well\n",
    "criterion = nn.CrossEntropyLoss()\n",
    "optimizer = torch.optim.Adam(net.parameters(), lr=learning_rate)\n",
    "\n",
    "\n",
    "#Training\n",
    "for epoch in range(epochs):\n",
    "    correct_train = 0\n",
    "    running_loss = 0\n",
    "    for i, (images, labels) in enumerate(train_loader):   \n",
    "        #(batch,1,28,28)\n",
    "        images = images.view(-1, 28*28)    \n",
    "        if CUDA:\n",
    "            images = images.cuda()\n",
    "            labels = labels.cuda()\n",
    "            \n",
    "        outputs = net(images)       \n",
    "        _, predicted = torch.max(outputs.data, 1)                                              \n",
    "        correct_train += (predicted == labels).sum() \n",
    "        loss = criterion(outputs, labels)                 \n",
    "        running_loss += loss.item()\n",
    "        optimizer.zero_grad() \n",
    "        loss.backward()                                   \n",
    "        optimizer.step()                             \n",
    "        net.apply_fc0_constraints()\n",
    "\n",
    "    print('Epoch [{}/{}], Training Loss: {:.3f}, Training Accuracy: {:.3f}%'.format\n",
    "          (epoch+1, epochs, running_loss/len(train_loader), (100*correct_train.double()/len(train_dataset))))\n",
    "print(\"DONE TRAINING!\")\n",
    "\n",
    "torch.save(net.state_dict(), f'conceptual_model_0.pth') #'binary_ffn_all.pth')\n"
   ]
  },
  {
   "cell_type": "code",
   "execution_count": 158,
   "id": "ab63b290",
   "metadata": {},
   "outputs": [
    {
     "name": "stdout",
     "output_type": "stream",
     "text": [
      "tensor(0.0975, device='cuda:0', grad_fn=<DivBackward0>)\n"
     ]
    }
   ],
   "source": [
    "\n",
    "print(torch.sum(abs(net.fc0.weight)) / (784*11))"
   ]
  },
  {
   "cell_type": "code",
   "execution_count": 199,
   "id": "53623c17",
   "metadata": {},
   "outputs": [
    {
     "name": "stdout",
     "output_type": "stream",
     "text": [
      "Accuracy of the network on the 10000 test images: 83.82 %\n"
     ]
    }
   ],
   "source": [
    "with torch.no_grad():\n",
    "    correct = 0\n",
    "    for images, labels in test_loader:\n",
    "        if CUDA:\n",
    "            images = images.cuda()\n",
    "            labels = labels.cuda()\n",
    "        images = images.view(-1, 28*28)\n",
    "        outputs = net(images)\n",
    "        _, predicted = torch.max(outputs.data, 1)\n",
    "        correct += (predicted == labels).sum().item()\n",
    "\n",
    "    print('Accuracy of the network on the 10000 test images: {} %'.format(100 * correct / len(test_dataset)))"
   ]
  },
  {
   "cell_type": "code",
   "execution_count": 202,
   "id": "7ab425bc",
   "metadata": {},
   "outputs": [
    {
     "data": {
      "text/plain": [
       "<matplotlib.image.AxesImage at 0x7fcd080bbe60>"
      ]
     },
     "execution_count": 202,
     "metadata": {},
     "output_type": "execute_result"
    },
    {
     "name": "stdout",
     "output_type": "stream",
     "text": [
      "0: -23.941808700561523\n",
      "1: -30.238611221313477\n",
      "2: 30.354738235473633\n",
      "3: -5.1891984939575195\n",
      "4: -35.525001525878906\n",
      "5: 54.6092643737793\n",
      "6: -3.2947611808776855\n",
      "7: -19.369285583496094\n",
      "8: -2.066671848297119\n",
      "9: 35.24223709106445\n",
      "10: -31.450942993164062\n",
      "torch.Size([11])\n"
     ]
    },
    {
     "data": {
      "text/plain": [
       "<matplotlib.image.AxesImage at 0x7fccdd732630>"
      ]
     },
     "execution_count": 202,
     "metadata": {},
     "output_type": "execute_result"
    },
    {
     "data": {
      "text/plain": [
       "Text(0.5, 1.0, 'Combined max importasnce of all neurons')"
      ]
     },
     "execution_count": 202,
     "metadata": {},
     "output_type": "execute_result"
    },
    {
     "data": {
      "text/plain": [
       "Text(0.5, 1.0, 'Neuron 0\\nActivation: 6.331\\nWeight: -0.474\\nContr. to n5 in l+1: -2.998')"
      ]
     },
     "execution_count": 202,
     "metadata": {},
     "output_type": "execute_result"
    },
    {
     "data": {
      "text/plain": [
       "(-0.5, 27.5, 27.5, -0.5)"
      ]
     },
     "execution_count": 202,
     "metadata": {},
     "output_type": "execute_result"
    },
    {
     "data": {
      "text/plain": [
       "Text(0.5, 1.0, 'Neuron 1\\nActivation: 3.122\\nWeight: -0.661\\nContr. to n5 in l+1: -2.063')"
      ]
     },
     "execution_count": 202,
     "metadata": {},
     "output_type": "execute_result"
    },
    {
     "data": {
      "text/plain": [
       "(-0.5, 27.5, 27.5, -0.5)"
      ]
     },
     "execution_count": 202,
     "metadata": {},
     "output_type": "execute_result"
    },
    {
     "data": {
      "text/plain": [
       "Text(0.5, 1.0, 'Neuron 2\\nActivation: -3.13\\nWeight: -0.111\\nContr. to n5 in l+1: 0.349')"
      ]
     },
     "execution_count": 202,
     "metadata": {},
     "output_type": "execute_result"
    },
    {
     "data": {
      "text/plain": [
       "(-0.5, 27.5, 27.5, -0.5)"
      ]
     },
     "execution_count": 202,
     "metadata": {},
     "output_type": "execute_result"
    },
    {
     "data": {
      "text/plain": [
       "Text(0.5, 1.0, 'Neuron 3\\nActivation: -3.575\\nWeight: 0.204\\nContr. to n5 in l+1: -0.73')"
      ]
     },
     "execution_count": 202,
     "metadata": {},
     "output_type": "execute_result"
    },
    {
     "data": {
      "text/plain": [
       "(-0.5, 27.5, 27.5, -0.5)"
      ]
     },
     "execution_count": 202,
     "metadata": {},
     "output_type": "execute_result"
    },
    {
     "data": {
      "text/plain": [
       "Text(0.5, 1.0, 'Neuron 4\\nActivation: 7.79\\nWeight: 0.473\\nContr. to n5 in l+1: 3.687')"
      ]
     },
     "execution_count": 202,
     "metadata": {},
     "output_type": "execute_result"
    },
    {
     "data": {
      "text/plain": [
       "(-0.5, 27.5, 27.5, -0.5)"
      ]
     },
     "execution_count": 202,
     "metadata": {},
     "output_type": "execute_result"
    },
    {
     "data": {
      "text/plain": [
       "Text(0.5, 1.0, 'Neuron 5\\nActivation: 4.721\\nWeight: -0.236\\nContr. to n5 in l+1: -1.115')"
      ]
     },
     "execution_count": 202,
     "metadata": {},
     "output_type": "execute_result"
    },
    {
     "data": {
      "text/plain": [
       "(-0.5, 27.5, 27.5, -0.5)"
      ]
     },
     "execution_count": 202,
     "metadata": {},
     "output_type": "execute_result"
    },
    {
     "data": {
      "text/plain": [
       "Text(0.5, 1.0, 'Neuron 6\\nActivation: -5.559\\nWeight: 0.188\\nContr. to n5 in l+1: -1.046')"
      ]
     },
     "execution_count": 202,
     "metadata": {},
     "output_type": "execute_result"
    },
    {
     "data": {
      "text/plain": [
       "(-0.5, 27.5, 27.5, -0.5)"
      ]
     },
     "execution_count": 202,
     "metadata": {},
     "output_type": "execute_result"
    },
    {
     "data": {
      "text/plain": [
       "Text(0.5, 1.0, 'Neuron 7\\nActivation: 4.316\\nWeight: 0.125\\nContr. to n5 in l+1: 0.54')"
      ]
     },
     "execution_count": 202,
     "metadata": {},
     "output_type": "execute_result"
    },
    {
     "data": {
      "text/plain": [
       "(-0.5, 27.5, 27.5, -0.5)"
      ]
     },
     "execution_count": 202,
     "metadata": {},
     "output_type": "execute_result"
    },
    {
     "data": {
      "text/plain": [
       "Text(0.5, 1.0, 'Neuron 8\\nActivation: -1.979\\nWeight: -0.08\\nContr. to n5 in l+1: 0.158')"
      ]
     },
     "execution_count": 202,
     "metadata": {},
     "output_type": "execute_result"
    },
    {
     "data": {
      "text/plain": [
       "(-0.5, 27.5, 27.5, -0.5)"
      ]
     },
     "execution_count": 202,
     "metadata": {},
     "output_type": "execute_result"
    },
    {
     "data": {
      "text/plain": [
       "Text(0.5, 1.0, 'Neuron 9\\nActivation: 4.092\\nWeight: 0.481\\nContr. to n5 in l+1: 1.969')"
      ]
     },
     "execution_count": 202,
     "metadata": {},
     "output_type": "execute_result"
    },
    {
     "data": {
      "text/plain": [
       "(-0.5, 27.5, 27.5, -0.5)"
      ]
     },
     "execution_count": 202,
     "metadata": {},
     "output_type": "execute_result"
    },
    {
     "data": {
      "text/plain": [
       "Text(0.5, 1.0, 'Neuron 10\\nActivation: 6.675\\nWeight: 0.501\\nContr. to n5 in l+1: 3.347')"
      ]
     },
     "execution_count": 202,
     "metadata": {},
     "output_type": "execute_result"
    },
    {
     "data": {
      "text/plain": [
       "(-0.5, 27.5, 27.5, -0.5)"
      ]
     },
     "execution_count": 202,
     "metadata": {},
     "output_type": "execute_result"
    },
    {
     "data": {
      "text/plain": [
       "Text(0.5, 0.98, 'Pixel Importance to all 32 hidden neurons after fc0')"
      ]
     },
     "execution_count": 202,
     "metadata": {},
     "output_type": "execute_result"
    },
    {
     "data": {
      "text/plain": [
       "<matplotlib.colorbar.Colorbar at 0x7fcd1020af60>"
      ]
     },
     "execution_count": 202,
     "metadata": {},
     "output_type": "execute_result"
    },
    {
     "name": "stderr",
     "output_type": "stream",
     "text": [
      "/tmp/ipykernel_30232/1546269989.py:80: UserWarning: This figure includes Axes that are not compatible with tight_layout, so results might be incorrect.\n",
      "  plt.tight_layout(rect=[0, 0, 0.9, 1])\n"
     ]
    },
    {
     "data": {
      "image/png": "[encoded data removed]",
      "text/plain": [
       "<Figure size 640x480 with 1 Axes>"
      ]
     },
     "metadata": {},
     "output_type": "display_data"
    },
    {
     "data": {
      "image/png": "[encoded data removed]",
      "text/plain": [
       "<Figure size 1600x800 with 16 Axes>"
      ]
     },
     "metadata": {},
     "output_type": "display_data"
    }
   ],
   "source": [
    "import random as ra\n",
    "\n",
    "inputs, labels = next(iter(test_loader))\n",
    "dig_to_check = 3\n",
    "\n",
    "#search wanted digit:\n",
    "while True:\n",
    "    ind = ra.randrange(0, len(inputs))\n",
    "    if labels[ind] == dig_to_check:\n",
    "        img = inputs[ind].squeeze()\n",
    "        break\n",
    "    \n",
    "plt.imshow(img, cmap=\"inferno\")\n",
    "\n",
    "img_flat = img.view(-1)\n",
    "\n",
    "weights = net.fc0.weight.detach().cpu()\n",
    "biases = net.fc0.bias.detach().cpu()\n",
    "contribs = weights * img_flat #32, 784\n",
    "\n",
    "#normalise to [0, 1]\n",
    "max_val = contribs.max()\n",
    "contribs_norm = contribs / max_val\n",
    "contribs_imgs = contribs_norm.view(-1, 28, 28)\n",
    "\n",
    "mask = torch.where(\n",
    "    contribs_imgs == 0,\n",
    "    torch.tensor(0.0, device=contribs_imgs.device),\n",
    "    1\n",
    ")\n",
    "\n",
    "contribs_imgs += biases[:, None, None]\n",
    "contribs_imgs *= mask #no bias where background = 0\n",
    "\n",
    "contribs_imgs = torch.where(\n",
    "    contribs_imgs == 0,\n",
    "    torch.tensor(0.0, device=contribs_imgs.device),\n",
    "    torch.where(\n",
    "        contribs_imgs.abs() > 0.0,\n",
    "        contribs_imgs,\n",
    "        torch.tensor(0.0, device=contribs_imgs.device)\n",
    "    )\n",
    ")\n",
    "\n",
    "activation_modified = []\n",
    "for i, mat in enumerate(contribs_imgs):\n",
    "    mat = mat.sum().item()\n",
    "    print(f\"{i}: {mat}\")\n",
    "    activation_modified.append(mat)\n",
    "\n",
    "\n",
    "combo = contribs_imgs.max(dim=0).values\n",
    "\n",
    "activations = net.fc0(img.view(1, -1).cuda()).squeeze()\n",
    "\n",
    "next_neuron_idx = 5\n",
    "\n",
    "weights_to_neuron = net.fc1.weight[next_neuron_idx]\n",
    "contribution = activations * weights_to_neuron\n",
    "\n",
    "print(weights_to_neuron.size())\n",
    "\n",
    "plt.imshow(combo, cmap=\"inferno\")\n",
    "plt.title(\"Combined max importasnce of all neurons\")\n",
    "\n",
    "fig, axes = plt.subplots(3, 5, figsize=(16, 8))\n",
    "\n",
    "vmax = contribs_imgs.max().item()\n",
    "\n",
    "for i, ax in enumerate(axes.flat):\n",
    "    if i >= 11:\n",
    "        break\n",
    "    im = ax.imshow(contribs_imgs[i], cmap='inferno', vmin=0, vmax=vmax)\n",
    "    ax.set_title(f'Neuron {i}\\nActivation: {round(activations[i].item(), 3)}\\nWeight: {round(weights_to_neuron[i].item(), 3)}\\nContr. to n{next_neuron_idx} in l+1: {round(contribution[i].item(), 3)}', fontsize=8)\n",
    "    ax.axis('off')\n",
    "\n",
    "fig.suptitle('Pixel Importance to all 32 hidden neurons after fc0', fontsize=16)\n",
    "cbar_ax = fig.add_axes([0.92, 0.15, 0.015, 0.7])\n",
    "fig.colorbar(im, cax=cbar_ax)\n",
    "plt.tight_layout(rect=[0, 0, 0.9, 1])\n",
    "plt.show()\n"
   ]
  },
  {
   "cell_type": "code",
   "execution_count": null,
   "id": "3715262a",
   "metadata": {},
   "outputs": [],
   "source": []
  }
 ],
 "metadata": {
  "kernelspec": {
   "display_name": "venv0",
   "language": "python",
   "name": "python3"
  },
  "language_info": {
   "codemirror_mode": {
    "name": "ipython",
    "version": 3
   },
   "file_extension": ".py",
   "mimetype": "text/x-python",
   "name": "python",
   "nbconvert_exporter": "python",
   "pygments_lexer": "ipython3",
   "version": "3.12.2"
  }
 },
 "nbformat": 4,
 "nbformat_minor": 5
}
