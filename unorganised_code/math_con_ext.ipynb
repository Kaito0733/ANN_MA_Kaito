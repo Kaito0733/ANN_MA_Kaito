{
 "cells": [
  {
   "cell_type": "code",
   "execution_count": 1,
   "id": "7aa8174a",
   "metadata": {},
   "outputs": [],
   "source": [
    "import torch\n",
    "import torch.nn as nn\n",
    "import torchvision.datasets as datasets\n",
    "import torchvision.transforms as transforms\n",
    "import torch.nn.functional as F\n",
    "\n",
    "import matplotlib.pyplot as plt\n",
    "import random as ra\n",
    "import math\n",
    "\n",
    "from sklearn.cluster import AgglomerativeClustering\n",
    "from collections import defaultdict\n",
    "from scipy.spatial.distance import cdist\n",
    "import numpy as np\n",
    "import matplotlib.patches as mpatches"
   ]
  },
  {
   "cell_type": "code",
   "execution_count": 10,
   "id": "c5266063",
   "metadata": {},
   "outputs": [],
   "source": [
    "input_size = 784\n",
    "hidden_size0 = 32\n",
    "hidden_size1 = 16     \n",
    "out_size = 10\n",
    "        \n",
    "epochs = 10            \n",
    "batch_size = 1000 #just for loading more data easily\n",
    "learning_rate = 0.001"
   ]
  },
  {
   "cell_type": "code",
   "execution_count": 3,
   "id": "f5bef78d",
   "metadata": {},
   "outputs": [],
   "source": [
    "train_dataset = datasets.MNIST(root='./data',\n",
    "                           train=True,\n",
    "                           transform=transforms.ToTensor(),\n",
    "                           download=True)\n",
    "\n",
    "train_loader = torch.utils.data.DataLoader(dataset=train_dataset,\n",
    "                                          batch_size=batch_size,\n",
    "                                          shuffle=True)"
   ]
  },
  {
   "cell_type": "code",
   "execution_count": 4,
   "id": "31507789",
   "metadata": {},
   "outputs": [],
   "source": [
    "test_dataset = datasets.MNIST(root='./data',\n",
    "                           train=False,\n",
    "                           transform=transforms.ToTensor())\n",
    "\n",
    "test_loader = torch.utils.data.DataLoader(dataset=test_dataset,\n",
    "                                          batch_size=batch_size,\n",
    "                                          shuffle=False)"
   ]
  },
  {
   "cell_type": "code",
   "execution_count": 5,
   "id": "4067a24f",
   "metadata": {},
   "outputs": [],
   "source": [
    "class Net(nn.Module):\n",
    "    def __init__(self, input_size, hidden_size0, hidden_size1, out_size):\n",
    "        super(Net, self).__init__()\n",
    "        self.fc0 = nn.Linear(input_size, hidden_size0)     #784 - 128\n",
    "        self.fc1 = nn.Linear(hidden_size0, hidden_size1)   #128 - 64\n",
    "        self.fc2 = nn.Linear(hidden_size1, out_size)       #64 - 10\n",
    "        self.relu = nn.ReLU()\n",
    "        self.init_weights()\n",
    "\n",
    "    def init_weights(self):\n",
    "        nn.init.kaiming_normal_(self.fc0.weight) #only works with ReLU\n",
    "        nn.init.kaiming_normal_(self.fc1.weight)\n",
    "        nn.init.kaiming_normal_(self.fc2.weight)\n",
    "\n",
    "    def forward(self, x):\n",
    "        out = self.relu(self.fc0(x))\n",
    "        out = self.relu(self.fc1(out))\n",
    "        out = self.fc2(out)\n",
    "        return out"
   ]
  },
  {
   "cell_type": "code",
   "execution_count": 6,
   "id": "fc9f756a",
   "metadata": {},
   "outputs": [],
   "source": [
    "net = Net(input_size, hidden_size0, hidden_size1, out_size)\n",
    "CUDA = torch.cuda.is_available()\n",
    "if CUDA:\n",
    "    net = net.cuda()"
   ]
  },
  {
   "cell_type": "code",
   "execution_count": 7,
   "id": "58cd812c",
   "metadata": {},
   "outputs": [
    {
     "data": {
      "text/plain": [
       "<All keys matched successfully>"
      ]
     },
     "execution_count": 7,
     "metadata": {},
     "output_type": "execute_result"
    }
   ],
   "source": [
    "file_pth = 'binary_ffn_all.pth'\n",
    "net.load_state_dict(torch.load(file_pth)) #pre-trained"
   ]
  },
  {
   "cell_type": "code",
   "execution_count": 8,
   "id": "5af0b8ba",
   "metadata": {},
   "outputs": [
    {
     "name": "stdout",
     "output_type": "stream",
     "text": [
      "Accuracy of the network on the 10000 test images: 96.62 %\n"
     ]
    }
   ],
   "source": [
    "with torch.no_grad():\n",
    "    correct = 0\n",
    "    for images, labels in test_loader:\n",
    "        if CUDA:\n",
    "            images = images.cuda()\n",
    "            labels = labels.cuda()\n",
    "        images = images.view(-1, 28*28)\n",
    "        outputs = net(images)\n",
    "        _, predicted = torch.max(outputs.data, 1)\n",
    "        correct += (predicted == labels).sum().item()\n",
    "\n",
    "    print('Accuracy of the network on the 10000 test images: {} %'.format(100 * correct / len(test_dataset)))"
   ]
  },
  {
   "cell_type": "code",
   "execution_count": null,
   "id": "07d06ad2",
   "metadata": {},
   "outputs": [],
   "source": []
  },
  {
   "cell_type": "code",
   "execution_count": 92,
   "id": "34300d26",
   "metadata": {},
   "outputs": [
    {
     "data": {
      "image/png": "[encoded data removed]",
      "text/plain": [
       "<Figure size 1200x400 with 3 Axes>"
      ]
     },
     "metadata": {},
     "output_type": "display_data"
    }
   ],
   "source": [
    "import numpy as np\n",
    "import matplotlib.pyplot as plt\n",
    "from skimage.morphology import skeletonize\n",
    "\n",
    "inputs, labels = next(iter(test_loader))\n",
    "\n",
    "#search wanted digit:\n",
    "while True:\n",
    "    ind = ra.randrange(0, len(inputs))\n",
    "    if labels[ind] == 5: #ra.randint(0, 9):\n",
    "        img = inputs[ind].squeeze()\n",
    "        break\n",
    "\n",
    "plt.figure(figsize=(12, 4))\n",
    "\n",
    "plt.subplot(1, 3, 1)\n",
    "plt.imshow(img, cmap=\"inferno\")\n",
    "pred = torch.argmax(net(img.view(-1).cuda())).item()\n",
    "plt.title(pred)\n",
    "\n",
    "img_np = img.cpu().numpy()\n",
    "filtered = img_np > 0.4 #becuase skeleton works on binary 1, 0 data\n",
    "\n",
    "skeleton = skeletonize(filtered)\n",
    "\n",
    "plt.subplot(1, 3, 2)\n",
    "plt.title(\"Filtered\")\n",
    "plt.imshow(filtered, cmap='gray')\n",
    "\n",
    "\"\"\"plt.subplot(1, 3, 2)\n",
    "plt.title(\"Skeletonized\")\n",
    "plt.imshow(skeleton, cmap='gray')\"\"\"\n",
    "\n",
    "actual = torch.where(\n",
    "    img == 0,\n",
    "    torch.tensor(0.0, device=img.device),\n",
    "    0.25\n",
    ")\n",
    "\n",
    "y_true, x_true = np.where(skeleton)\n",
    "for y, x in zip(y_true, x_true):\n",
    "    actual[y, x] = 1\n",
    "\n",
    "plt.subplot(1, 3, 3)\n",
    "plt.title(\"Skeleton in Original\")\n",
    "plt.imshow(actual, cmap=\"gray\")\n",
    "\n",
    "plt.tight_layout()\n",
    "plt.show()"
   ]
  },
  {
   "cell_type": "markdown",
   "id": "fc5377b8",
   "metadata": {},
   "source": [
    "pseudo code:\n",
    "\n",
    "define algorithmic direction sequence for R¹ structure with thresholds\n",
    "try to find all connected skeleton parts that present such a define structure\n",
    "order these by size (size = max distance of two pixels on the 28x28 map)\n",
    "store angle, location, all in combination for each input\n",
    "\n",
    "get original pixels involved in skeleton for each conecpt per input\n",
    "get full influence of that concept and the implied class(es)\n",
    "based on implied class(es), gather scores for which class it should be (combination = overlapping to only one class would be optimal outcome)\n",
    "\n",
    "let FFN learn class based on these compositions\n",
    "use concept relations in new digits -> one- / few-shot learner?\n"
   ]
  },
  {
   "cell_type": "code",
   "execution_count": 93,
   "id": "14383761",
   "metadata": {},
   "outputs": [],
   "source": [
    "\n",
    "foreground = np.argwhere(skeleton == 1)\n",
    "foreground_set = set(map(tuple, foreground))\n",
    "\n",
    "neighbors8 = [(-1,-1), (-1,0), (-1,1), (0,-1), (0,1), (1,-1), (1,0), (1,1)]\n",
    "\n",
    "def dfs(coord, visited, path): #dfs with backtracking, existing algo\n",
    "    visited.add(coord)\n",
    "    path.append(coord)\n",
    "    max_path = list(path)\n",
    "\n",
    "    for dx, dy in neighbors8: #all x+dx, y+dy\n",
    "        next_coord = (coord[0] + dx, coord[1] + dy)\n",
    "        if next_coord in foreground_set and next_coord not in visited:\n",
    "            result_path = dfs(next_coord, visited.copy(), path.copy())\n",
    "            if len(result_path) > len(max_path):\n",
    "                max_path = result_path\n",
    "\n",
    "    return max_path\n",
    "\n",
    "longest_path = []\n",
    "for coord in foreground:\n",
    "    path = dfs(tuple(coord), set(), [])\n",
    "    if len(path) > len(longest_path):\n",
    "        longest_path = path\n",
    "\n"
   ]
  },
  {
   "cell_type": "code",
   "execution_count": 94,
   "id": "4264e214",
   "metadata": {},
   "outputs": [
    {
     "data": {
      "text/plain": [
       "<matplotlib.image.AxesImage at 0x7fba4f6aae40>"
      ]
     },
     "execution_count": 94,
     "metadata": {},
     "output_type": "execute_result"
    },
    {
     "data": {
      "image/png": "[encoded data removed]",
      "text/plain": [
       "<Figure size 640x480 with 1 Axes>"
      ]
     },
     "metadata": {},
     "output_type": "display_data"
    }
   ],
   "source": [
    "skel = torch.zeros_like(torch.from_numpy(skeleton))\n",
    "for coo in longest_path:\n",
    "    x, y = coo\n",
    "    skel[x, y] = 1\n",
    "\n",
    "plt.imshow(skel)\n",
    "\n",
    "#actually needs to try out all pixels for concepts, longest may exclude important combination path"
   ]
  },
  {
   "cell_type": "code",
   "execution_count": 75,
   "id": "cee7ace1",
   "metadata": {},
   "outputs": [],
   "source": [
    "vectors = []\n",
    "absolute_angles = []\n",
    "\n",
    "for i, coo in enumerate(longest_path):\n",
    "    k = 1 if not i == len(longest_path) - 1 else 0\n",
    "    vec = (longest_path[i+k][1] - coo[1], coo[0] - longest_path[i+k][0])\n",
    "    vectors.append(vec)\n",
    "    absolute_angles.append(np.arctan2(vec[1], vec[0]))\n",
    "\n"
   ]
  },
  {
   "cell_type": "code",
   "execution_count": 95,
   "id": "3f37c6bd",
   "metadata": {},
   "outputs": [
    {
     "data": {
      "text/plain": [
       "{(4, 15),\n",
       " (4, 16),\n",
       " (4, 17),\n",
       " (4, 18),\n",
       " (5, 11),\n",
       " (5, 12),\n",
       " (5, 13),\n",
       " (5, 14),\n",
       " (6, 10),\n",
       " (6, 13),\n",
       " (7, 13),\n",
       " (8, 12),\n",
       " (9, 12),\n",
       " (10, 12),\n",
       " (11, 12),\n",
       " (12, 12),\n",
       " (13, 13),\n",
       " (14, 14),\n",
       " (14, 15),\n",
       " (14, 16),\n",
       " (14, 17),\n",
       " (15, 18),\n",
       " (16, 18),\n",
       " (17, 18),\n",
       " (18, 17),\n",
       " (19, 16),\n",
       " (20, 7),\n",
       " (20, 14),\n",
       " (20, 15),\n",
       " (21, 8),\n",
       " (21, 9),\n",
       " (21, 12),\n",
       " (21, 13),\n",
       " (22, 10),\n",
       " (22, 11)}"
      ]
     },
     "execution_count": 95,
     "metadata": {},
     "output_type": "execute_result"
    }
   ],
   "source": [
    "foreground_set"
   ]
  },
  {
   "cell_type": "code",
   "execution_count": 76,
   "id": "6b5b3c53",
   "metadata": {},
   "outputs": [
    {
     "name": "stdout",
     "output_type": "stream",
     "text": [
      "3.141592653589793  |  0.0\n",
      "3.141592653589793  |  -5.497787143782138\n",
      "-2.356194490192345  |  5.497787143782138\n",
      "3.141592653589793  |  0.0\n",
      "3.141592653589793  |  0.0\n",
      "3.141592653589793  |  0.0\n",
      "3.141592653589793  |  0.0\n",
      "3.141592653589793  |  0.0\n",
      "3.141592653589793  |  0.0\n",
      "3.141592653589793  |  -0.7853981633974483\n",
      "2.356194490192345  |  -3.9269908169872414\n",
      "-1.5707963267948966  |  -0.7853981633974483\n",
      "-2.356194490192345  |  0.7853981633974483\n",
      "-1.5707963267948966  |  0.0\n",
      "-1.5707963267948966  |  0.0\n",
      "-1.5707963267948966  |  -0.7853981633974483\n",
      "-2.356194490192345  |  2.356194490192345\n",
      "0.0  |  -0.7853981633974483\n",
      "-0.7853981633974483  |  0.7853981633974483\n",
      "0.0  |  -0.7853981633974483\n",
      "-0.7853981633974483  |  0.7853981633974483\n",
      "0.0  |  -0.7853981633974483\n",
      "-0.7853981633974483  |  0.7853981633974483\n",
      "0.0  |  -0.7853981633974483\n",
      "-0.7853981633974483  |  -0.7853981633974483\n",
      "-1.5707963267948966  |  0.7853981633974483\n",
      "-0.7853981633974483  |  -0.7853981633974483\n",
      "-1.5707963267948966  |  0.0\n",
      "-1.5707963267948966  |  -0.7853981633974483\n",
      "-2.356194490192345  |  0.0\n",
      "-2.356194490192345  |  5.497787143782138\n",
      "3.141592653589793  |  0.0\n",
      "3.141592653589793  |  0.0\n",
      "3.141592653589793  |  0.0\n",
      "3.141592653589793  |  0.0\n",
      "3.141592653589793  |  0.0\n",
      "3.141592653589793  |  -0.7853981633974483\n",
      "2.356194490192345  |  0.0\n",
      "2.356194490192345  |  0.0\n",
      "2.356194490192345  |  -2.356194490192345\n",
      "0.0  |  0.0\n"
     ]
    }
   ],
   "source": [
    "for i, value in enumerate(absolute_angles):\n",
    "    k = 1 if not i == len(absolute_angles) - 1 else 0\n",
    "    print(value, \" | \", absolute_angles[i+k]-absolute_angles[i])"
   ]
  },
  {
   "cell_type": "code",
   "execution_count": 81,
   "id": "909e908c",
   "metadata": {},
   "outputs": [],
   "source": [
    "angles = []\n",
    "\n",
    "for i, _ in enumerate(vectors):\n",
    "    k = 1 if not i == len(longest_path) - 1 else 0\n",
    "    angle = np.arctan2(vectors[i+k][1], vectors[i+k][0]) - np.arctan2(vectors[i][1], vectors[i][0])\n",
    "    angle = (angle + np.pi) % (2 * np.pi) - np.pi #normalise into [-pi, pi) -> -pi included, pi excluded\n",
    "    angles.append(angle)\n",
    "    \n",
    "    "
   ]
  },
  {
   "cell_type": "code",
   "execution_count": 82,
   "id": "8e737ae5",
   "metadata": {},
   "outputs": [],
   "source": [
    "#angles #index absolute slope from angles in vectors!"
   ]
  },
  {
   "cell_type": "code",
   "execution_count": null,
   "id": "47573ee3",
   "metadata": {},
   "outputs": [],
   "source": []
  },
  {
   "cell_type": "code",
   "execution_count": null,
   "id": "6558566e",
   "metadata": {},
   "outputs": [],
   "source": []
  }
 ],
 "metadata": {
  "kernelspec": {
   "display_name": "venv0",
   "language": "python",
   "name": "python3"
  },
  "language_info": {
   "codemirror_mode": {
    "name": "ipython",
    "version": 3
   },
   "file_extension": ".py",
   "mimetype": "text/x-python",
   "name": "python",
   "nbconvert_exporter": "python",
   "pygments_lexer": "ipython3",
   "version": "3.12.2"
  }
 },
 "nbformat": 4,
 "nbformat_minor": 5
}
