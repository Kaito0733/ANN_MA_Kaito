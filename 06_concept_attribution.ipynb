{
 "cells": [
  {
   "cell_type": "code",
   "execution_count": 1,
   "id": "220ffedc",
   "metadata": {},
   "outputs": [],
   "source": [
    "#(also include sub-net failiure)"
   ]
  },
  {
   "cell_type": "code",
   "execution_count": 2,
   "id": "767b36a0",
   "metadata": {},
   "outputs": [],
   "source": [
    "import torch\n",
    "import torch.nn as nn\n",
    "import torchvision.datasets as datasets\n",
    "import torchvision.transforms as transforms\n",
    "import torch.nn.functional as F\n",
    "\n",
    "import matplotlib.pyplot as plt\n",
    "import random as ra\n",
    "\n",
    "from sklearn.cluster import AgglomerativeClustering\n",
    "from collections import defaultdict\n",
    "\n",
    "import numpy as np\n",
    "import matplotlib.pyplot as plt\n",
    "from skimage.morphology import skeletonize\n",
    "\n",
    "import networkx as nx\n",
    "from scipy.ndimage import distance_transform_edt"
   ]
  },
  {
   "cell_type": "code",
   "execution_count": 3,
   "id": "683b2738",
   "metadata": {},
   "outputs": [],
   "source": [
    "input_size = 784\n",
    "hidden_size0 = 32\n",
    "hidden_size1 = 16\n",
    "out_size = 10\n",
    "epochs = 10\n",
    "batch_size = 64\n",
    "learning_rate = 0.001"
   ]
  },
  {
   "cell_type": "code",
   "execution_count": 4,
   "id": "1029da61",
   "metadata": {},
   "outputs": [],
   "source": [
    "test_dataset = datasets.MNIST(root='./data',\n",
    "                           train=False,\n",
    "                           transform=transforms.ToTensor())\n",
    "\n",
    "test_loader = torch.utils.data.DataLoader(dataset=test_dataset,\n",
    "                                          batch_size=batch_size,\n",
    "                                          shuffle=False)"
   ]
  },
  {
   "cell_type": "code",
   "execution_count": 5,
   "id": "4a0ef253",
   "metadata": {},
   "outputs": [],
   "source": [
    "class Net(nn.Module):\n",
    "    def __init__(self, input_size, hidden_size0, hidden_size1, out_size):\n",
    "        super(Net, self).__init__()\n",
    "        self.fc0 = nn.Linear(input_size, hidden_size0)     #784 - 32\n",
    "        self.fc1 = nn.Linear(hidden_size0, hidden_size1)   #32 - 16\n",
    "        self.fc2 = nn.Linear(hidden_size1, out_size)       #16 - 10\n",
    "        self.tanh = nn.Tanh()\n",
    "        self.init_weights()\n",
    "\n",
    "    def init_weights(self):\n",
    "        nn.init.xavier_uniform_(self.fc0.weight, gain=nn.init.calculate_gain('tanh')) \n",
    "        nn.init.xavier_uniform_(self.fc1.weight, gain=nn.init.calculate_gain('tanh'))\n",
    "        nn.init.xavier_uniform_(self.fc2.weight, gain=nn.init.calculate_gain('tanh'))\n",
    "\n",
    "    def forward(self, x):\n",
    "        out = self.tanh(self.fc0(x))\n",
    "        out = self.tanh(self.fc1(out))\n",
    "        out = self.fc2(out)\n",
    "        return out"
   ]
  },
  {
   "cell_type": "code",
   "execution_count": 6,
   "id": "c94a5145",
   "metadata": {},
   "outputs": [],
   "source": [
    "net = Net(input_size, hidden_size0, hidden_size1, out_size)\n",
    "CUDA = torch.cuda.is_available()\n",
    "if CUDA:\n",
    "    net = net.cuda()"
   ]
  },
  {
   "cell_type": "code",
   "execution_count": 7,
   "id": "199c0318",
   "metadata": {},
   "outputs": [
    {
     "data": {
      "text/plain": [
       "<All keys matched successfully>"
      ]
     },
     "execution_count": 7,
     "metadata": {},
     "output_type": "execute_result"
    }
   ],
   "source": [
    "net.load_state_dict(torch.load(\"02_ffn_mnist_full.pth\"))"
   ]
  },
  {
   "cell_type": "code",
   "execution_count": 129,
   "id": "7e7cc739",
   "metadata": {},
   "outputs": [
    {
     "data": {
      "image/png": "[encoded data removed]",
      "text/plain": [
       "<Figure size 1200x400 with 2 Axes>"
      ]
     },
     "metadata": {},
     "output_type": "display_data"
    }
   ],
   "source": [
    "inputs, labels = next(iter(test_loader))\n",
    "\n",
    "#search wanted digit:\n",
    "ind = ra.randrange(0, len(inputs))\n",
    "img = inputs[ind].squeeze()\n",
    "label = labels[ind]\n",
    "\n",
    "img_np = img.cpu().numpy()\n",
    "filtered = img_np > 0.5 #converting to binary, threshold faciliates clean skeleotnization\n",
    "skeleton = skeletonize(filtered) #skeletonize -> see mathematical definition of algorithm\n",
    "\n",
    "original_background = torch.where(\n",
    "    img == 0,\n",
    "    torch.tensor(0.0, device=img.device),\n",
    "    0.25\n",
    ")\n",
    "\n",
    "y_true, x_true = np.where(skeleton)\n",
    "for y, x in zip(y_true, x_true):\n",
    "    original_background[y, x] = 1 #project skeleton onto original_background for clear visualization\n",
    "\n",
    "plt.figure(figsize=(12, 4))\n",
    "\n",
    "plt.subplot(1, 3, 1)\n",
    "plt.title(\"Skeletonized\")\n",
    "plt.imshow(skeleton, cmap='gray')\n",
    "\n",
    "plt.subplot(1, 3, 2)\n",
    "plt.title(\"Skeleton in Original\")\n",
    "plt.imshow(original_background, cmap=\"gray\")\n",
    "\n",
    "plt.tight_layout()\n",
    "plt.show()"
   ]
  },
  {
   "cell_type": "code",
   "execution_count": 130,
   "id": "8da95eff",
   "metadata": {},
   "outputs": [],
   "source": [
    "#converting graph to skeleton pixels\n",
    "def build_pixel_graph(skeleton):\n",
    "    G = nx.Graph()\n",
    "    rows, cols = skeleton.shape\n",
    "    for i in range(rows):\n",
    "        for j in range(cols):\n",
    "            if skeleton[i, j]:\n",
    "                G.add_node((i, j))\n",
    "                for dx in [-1, 0, 1]: #8 neighbors\n",
    "                    for dy in [-1, 0, 1]:\n",
    "                        if dx == 0 and dy == 0:\n",
    "                            continue\n",
    "                        ni, nj = i + dx, j + dy\n",
    "                        if 0 <= ni < rows and 0 <= nj < cols and skeleton[ni, nj]:\n",
    "                            G.add_edge((i, j), (ni, nj))\n",
    "    return G\n",
    "\n",
    "#finding localized clusters in graph G\n",
    "def find_clusters(G, min_size=5, max_size=10):\n",
    "    clusters = []\n",
    "    seen = set()\n",
    "\n",
    "    def dfs(node, cluster, visited):\n",
    "        if len(cluster) > max_size:\n",
    "            return\n",
    "        cluster_key = tuple(sorted(cluster))\n",
    "        if cluster_key not in seen and min_size <= len(cluster) <= max_size:\n",
    "            seen.add(cluster_key)\n",
    "            clusters.append(cluster.copy())\n",
    "\n",
    "        for neighbor in G[node]:\n",
    "            if neighbor not in visited:\n",
    "                dfs(neighbor, cluster + [neighbor], visited | {neighbor})\n",
    "\n",
    "    for node in G.nodes:\n",
    "        dfs(node, [node], set([node]))\n",
    "\n",
    "    return clusters\n",
    "\n",
    "#converting to tensor\n",
    "def clusters_to_tensor(clusters, shape=(28, 28)):\n",
    "    masks = []\n",
    "    for cluster in clusters:\n",
    "        mask = np.zeros(shape, dtype=np.uint8)\n",
    "        for (i, j) in cluster:\n",
    "            mask[i, j] = 1\n",
    "        masks.append(mask)\n",
    "    return torch.tensor(np.stack(masks), dtype=torch.uint8).permute(1, 2, 0)"
   ]
  },
  {
   "cell_type": "code",
   "execution_count": 131,
   "id": "f3c5ddb1",
   "metadata": {},
   "outputs": [
    {
     "name": "stdout",
     "output_type": "stream",
     "text": [
      "Found 19 concept clusters\n"
     ]
    },
    {
     "data": {
      "image/png": "[encoded data removed]",
      "text/plain": [
       "<Figure size 2400x800 with 3 Axes>"
      ]
     },
     "metadata": {},
     "output_type": "display_data"
    }
   ],
   "source": [
    "#execution\n",
    "G = build_pixel_graph(skeleton)\n",
    "clusters = find_clusters(G, min_size=10, max_size=10)\n",
    "clusters_tensor = clusters_to_tensor(clusters) #[28, 28, n]\n",
    "print(f\"Found {clusters_tensor.shape[2]} concept clusters\")\n",
    "\n",
    "#randomly selecting example cluster for visualization:\n",
    "random_idx = ra.randint(0, clusters_tensor.shape[2] - 1)\n",
    "\n",
    "#visualising the cluster in the original digit:\n",
    "y_true, x_true = np.where(skeleton)\n",
    "for y, x in zip(y_true, x_true):\n",
    "    original_background[y, x] = 1 #project skeleton onto original for clear visualization\n",
    "\n",
    "random_cluster_mask = clusters_tensor[:, :, random_idx].numpy()\n",
    "for y, x in np.argwhere(random_cluster_mask == 1):\n",
    "    original_background[y, x] = 0.5 #highlighting selected cluster in skeleton\n",
    "\n",
    "#converting cluster to original MNIST-style (to later input to the net, has to be same style due to overfitting on style)\n",
    "inverted_mask = 1 - random_cluster_mask\n",
    "distance = distance_transform_edt(inverted_mask)\n",
    "within_range_mask = (distance <= 2).astype(np.float32)\n",
    "original_style_cluster = torch.from_numpy(img_np * within_range_mask) #back to tensor cause I'll give it to the model\n",
    "\n",
    "#plotting\n",
    "plt.figure(figsize=(24, 8))\n",
    "\n",
    "plt.subplot(1, 4, 1)\n",
    "plt.title('Original')\n",
    "plt.imshow(img, cmap='gray')\n",
    "\n",
    "plt.subplot(1, 4, 2)\n",
    "plt.title(\"Skeleton Cluster in Original\")\n",
    "plt.imshow(original_background, cmap='inferno')\n",
    "\n",
    "plt.subplot(1, 4, 3)\n",
    "plt.title(f'Random Cluster #{random_idx} in MNIST-style')\n",
    "plt.imshow(original_style_cluster, cmap='gray')\n",
    "\n",
    "plt.axis('off')\n",
    "plt.show()\n",
    "\n",
    "original_clusters = torch.zeros_like(clusters_tensor)\n",
    "original_clusters = []\n",
    "\n",
    "#generating list of clusters in original MNIST-style\n",
    "for i in range(clusters_tensor.shape[2]):\n",
    "    mask = clusters_tensor[:, :, i].numpy()\n",
    "    inverted_mask = 1 - mask\n",
    "    distance = distance_transform_edt(inverted_mask)\n",
    "    within_range_mask = (distance <= 2).astype(np.float32)\n",
    "    new_input = torch.from_numpy(img_np * within_range_mask).float()\n",
    "    original_clusters.append(new_input)\n"
   ]
  },
  {
   "cell_type": "code",
   "execution_count": 132,
   "id": "d4af204a",
   "metadata": {},
   "outputs": [],
   "source": [
    "\n",
    "with torch.no_grad():\n",
    "    activations_this_class = []\n",
    "    for input_mat in original_clusters:\n",
    "        if CUDA:\n",
    "            input_mat = input_mat.cuda()\n",
    "\n",
    "        a0 = F.tanh(net.fc0(input_mat.float().view(-1)))\n",
    "        a1 = F.tanh(net.fc1(a0))\n",
    "        logits = net.fc2(a1)\n",
    "\n",
    "        prob_distr = torch.sigmoid(logits)\n",
    "\n",
    "        confidence = (prob_distr[label.item()] - (1/9) * (torch.sum(prob_distr) - prob_distr[label.item()])) #how much the predicted class was activated relative to the average activaion of all other classes\n",
    "        #confidence = (torch.max(prob_distr) - (1/9) * (torch.sum(prob_distr) - torch.max(prob_distr))) #this would only show the confidenc eof the model regardless of how important the concept is to the digit, confidence may be high, but argmax() not the label!\n",
    "\n",
    "        activations_this_class.append(confidence)\n",
    "\n",
    "    scalars = [x.item() for x in activations_this_class]\n",
    "    min_val = min(scalars)\n",
    "    max_val = max(scalars)\n",
    "    \n",
    "    zero_point = min_val + (max_val-min_val)/2\n",
    "    max_factor = 1/(max_val-zero_point)\n",
    "    \n"
   ]
  },
  {
   "cell_type": "code",
   "execution_count": 133,
   "id": "d438c818",
   "metadata": {},
   "outputs": [],
   "source": [
    "def normalise_importance(val):\n",
    "    return max_factor * (val - zero_point)"
   ]
  },
  {
   "cell_type": "code",
   "execution_count": 134,
   "id": "1ab19634",
   "metadata": {},
   "outputs": [
    {
     "data": {
      "image/png": "[encoded data removed]",
      "text/plain": [
       "<Figure size 1200x500 with 10 Axes>"
      ]
     },
     "metadata": {},
     "output_type": "display_data"
    },
    {
     "data": {
      "image/png": "[encoded data removed]",
      "text/plain": [
       "<Figure size 1200x500 with 10 Axes>"
      ]
     },
     "metadata": {},
     "output_type": "display_data"
    }
   ],
   "source": [
    "activations = torch.tensor([a.item() for a in activations_this_class])\n",
    "\n",
    "lowest_10_values, last_10_indices = torch.topk(activations, 10, largest=False)\n",
    "lowest_10_tensors = [original_clusters[idx] for idx in last_10_indices]\n",
    "\n",
    "top_10_values, top10_indices = torch.topk(activations, 10, largest=True)\n",
    "top_10_tensors = [original_clusters[idx] for idx in top10_indices]\n",
    "\n",
    "\n",
    "fig0, axs0 = plt.subplots(2, 5, figsize=(12, 5))\n",
    "fig0.tight_layout()\n",
    "axs0 = axs0.flatten()\n",
    "\n",
    "for i, ax in enumerate(axs0):\n",
    "    im = lowest_10_tensors[i]\n",
    "    ax.imshow(im.numpy(), cmap='gray')\n",
    "    ax.set_title(f\"Act: {(lowest_10_values[i]):.2f}\")\n",
    "    ax.axis('off')\n",
    "\n",
    "fig1, axs1 = plt.subplots(2, 5, figsize=(12, 5))\n",
    "fig1.tight_layout()\n",
    "axs1 = axs1.flatten()\n",
    "\n",
    "for i, ax in enumerate(axs1):\n",
    "    im = top_10_tensors[i]\n",
    "    ax.imshow(im.numpy(), cmap='gray')\n",
    "    ax.set_title(f\"Act: {(top_10_values[i]):.2f}\")\n",
    "    ax.axis('off')\n",
    "\n",
    "plt.show()"
   ]
  },
  {
   "cell_type": "code",
   "execution_count": 135,
   "id": "944169e4",
   "metadata": {},
   "outputs": [],
   "source": [
    "def find_unique_concepts(original_clusters, activations, overlap_threshold):\n",
    "    activations = torch.tensor(activations)\n",
    "    abs_activations = activations.abs()\n",
    "    sorted_indices = torch.argsort(abs_activations, descending=True)\n",
    "    selected_indices = []\n",
    "\n",
    "    for i, idx in enumerate(sorted_indices):\n",
    "        concept_mask = original_clusters[idx] != 0 #mask for selected cluster\n",
    "\n",
    "        if i == 0:\n",
    "            selected_indices.append(idx.item()) #which cluster to display in visualisation\n",
    "\n",
    "        similarities = []\n",
    "        for ind in selected_indices:\n",
    "            comp_mask = original_clusters[ind] != 0 #comparing to other masks to prevent high overlap\n",
    "            normaliser = concept_mask.sum().float() if concept_mask.sum().float() < comp_mask.sum().float() else comp_mask.sum().float() #determine bigger mask\n",
    "            similarities.append((concept_mask & comp_mask).sum().float() / normaliser)\n",
    "            #if normaliser was smaller cluster, similarity could become 100% despite low (e.g. 50%) absolute overlap\n",
    "\n",
    "        max_similarity = max(similarities)\n",
    "\n",
    "        if max_similarity < overlap_threshold:\n",
    "            comp_mask = concept_mask\n",
    "            selected_indices.append(idx.item())\n",
    "\n",
    "    return selected_indices\n"
   ]
  },
  {
   "cell_type": "code",
   "execution_count": 137,
   "id": "2800b123",
   "metadata": {},
   "outputs": [
    {
     "name": "stdout",
     "output_type": "stream",
     "text": [
      "Selected concept indices: [12, 5, 2, 15]\n"
     ]
    },
    {
     "data": {
      "text/plain": [
       "(-0.5, 27.5, 27.5, -0.5)"
      ]
     },
     "execution_count": 137,
     "metadata": {},
     "output_type": "execute_result"
    },
    {
     "data": {
      "image/png": "[encoded data removed]",
      "text/plain": [
       "<Figure size 2500x500 with 5 Axes>"
      ]
     },
     "metadata": {},
     "output_type": "display_data"
    }
   ],
   "source": [
    "selected_indices = find_unique_concepts(original_clusters, activations_this_class, 0.75)\n",
    "sorted_indices = sorted(selected_indices, key=lambda idx: activations_this_class[idx], reverse=True)\n",
    "print(\"Selected concept indices:\", selected_indices)\n",
    "combined = np.full_like(original_clusters[0], fill_value=-1.0, dtype=float)\n",
    "\n",
    "rows = -(-(len(selected_indices) + 1) // 5)\n",
    "plt.figure(figsize=(5 * 5, rows * 5))\n",
    "\n",
    "for i, idx in enumerate(sorted_indices):\n",
    "    cluster = original_clusters[idx]\n",
    "    act = activations_this_class[idx].item()\n",
    "\n",
    "    plt.subplot(rows, 5, i + 2)\n",
    "    plt.imshow(cluster, cmap='gray')\n",
    "    plt.title(f\"Influence: {round((act), 2)}\")\n",
    "    plt.axis('off')\n",
    "\n",
    "plt.subplot(rows, 5, 1)\n",
    "plt.imshow(img_np, cmap='gray', vmin=0, vmax=1)\n",
    "plt.title(\"Original\")\n",
    "plt.axis('off')\n",
    "\n",
    "#I had initially planned to combine the clusters into an overlapping visualisation,\n",
    "#however, strongly opposite values overlapping and averaging created information loss\n",
    "#The below visualisations are much more interpretable, as they show each cluster seperately,\n",
    "#to be interpreted as concepts most important to the model\n"
   ]
  },
  {
   "cell_type": "code",
   "execution_count": null,
   "id": "deda5bbd",
   "metadata": {},
   "outputs": [],
   "source": []
  }
 ],
 "metadata": {
  "kernelspec": {
   "display_name": "venv0",
   "language": "python",
   "name": "python3"
  },
  "language_info": {
   "codemirror_mode": {
    "name": "ipython",
    "version": 3
   },
   "file_extension": ".py",
   "mimetype": "text/x-python",
   "name": "python",
   "nbconvert_exporter": "python",
   "pygments_lexer": "ipython3",
   "version": "3.12.2"
  }
 },
 "nbformat": 4,
 "nbformat_minor": 5
}
