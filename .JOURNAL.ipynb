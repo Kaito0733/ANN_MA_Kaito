{
 "cells": [
  {
   "cell_type": "markdown",
   "metadata": {},
   "source": [
    "JOURNAL:\n",
    "Katio Soga / Betreung: Lesther Zulauf"
   ]
  },
  {
   "cell_type": "markdown",
   "metadata": {},
   "source": [
    "25.04.25 / Soga:\n",
    "Tested activation maximization on neurons of FFN in PyTorch / MNIST"
   ]
  },
  {
   "cell_type": "markdown",
   "metadata": {},
   "source": [
    "24.04.2025 / Soga:\n",
    "Formulated an updated project sketch"
   ]
  },
  {
   "cell_type": "markdown",
   "metadata": {},
   "source": [
    "21.04.2025 / Soga:\n",
    "Finished reading chapters 1.0 to 3.3 in AI book\n",
    "Looked at google collab code\n",
    "Tested my own FFN in PyTorch\n",
    "Informed about interpretations (like shapley) and visualisation techniques (pca)"
   ]
  },
  {
   "cell_type": "markdown",
   "metadata": {},
   "source": [
    "13.04.2025 / Soga:\n",
    "Read the MIT article"
   ]
  },
  {
   "cell_type": "markdown",
   "metadata": {},
   "source": [
    "04.04.25 / Soga: \n",
    "Meeting with Mr. Zulauf\n",
    "Given 2 main sources\n",
    "discussed and decided on specific framework, comparing models of one architecture for analytical comparison, same classification, different weights --> subjective neural nets"
   ]
  }
 ],
 "metadata": {
  "language_info": {
   "name": "python"
  }
 },
 "nbformat": 4,
 "nbformat_minor": 2
}
