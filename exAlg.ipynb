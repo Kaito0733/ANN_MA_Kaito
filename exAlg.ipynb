{
 "cells": [
  {
   "cell_type": "code",
   "execution_count": 1,
   "id": "c70d6205",
   "metadata": {},
   "outputs": [],
   "source": [
    "import torch\n",
    "import torch.nn as nn\n",
    "import torchvision.datasets as datasets\n",
    "import torchvision.transforms as transforms\n",
    "import matplotlib.pyplot as plt\n",
    "import random as ra"
   ]
  },
  {
   "cell_type": "code",
   "execution_count": 2,
   "id": "ea4bad56",
   "metadata": {},
   "outputs": [],
   "source": [
    "input_size = 784\n",
    "hidden_size0 = 32\n",
    "hidden_size1 = 16     \n",
    "out_size = 1 #binary for whether it is digit or not\n",
    "        \n",
    "epochs = 10            \n",
    "batch_size = 64\n",
    "learning_rate = 0.001"
   ]
  },
  {
   "cell_type": "code",
   "execution_count": 3,
   "id": "e1d01dff",
   "metadata": {},
   "outputs": [],
   "source": [
    "test_dataset = datasets.MNIST(root='./data',\n",
    "                           train=False,\n",
    "                           transform=transforms.ToTensor())\n",
    "\n",
    "test_loader = torch.utils.data.DataLoader(dataset=test_dataset,\n",
    "                                          batch_size=batch_size,\n",
    "                                          shuffle=False)"
   ]
  },
  {
   "cell_type": "code",
   "execution_count": 4,
   "id": "2fbadbc7",
   "metadata": {},
   "outputs": [],
   "source": [
    "class Net(nn.Module):\n",
    "    def __init__(self, input_size, hidden_size0, hidden_size1, out_size):\n",
    "        super(Net, self).__init__()\n",
    "        self.fc0 = nn.Linear(input_size, hidden_size0)\n",
    "        self.fc1 = nn.Linear(hidden_size0, hidden_size1)\n",
    "        self.fc2 = nn.Linear(hidden_size1, out_size)\n",
    "        self.relu = nn.ReLU()\n",
    "        self.init_weights()\n",
    "\n",
    "    def init_weights(self):\n",
    "        nn.init.kaiming_normal_(self.fc0.weight)\n",
    "        nn.init.kaiming_normal_(self.fc1.weight)\n",
    "        nn.init.kaiming_normal_(self.fc2.weight)\n",
    "        \n",
    "    def forward(self, x): #x = input img\n",
    "        x = x.view(x.size(0), -1)  #flatten img, because (batch_size, 1, 28, 28) and nn.Linear expects (batch_size, features)\n",
    "        out = self.relu(self.fc0(x))\n",
    "        out = self.relu(self.fc1(out))\n",
    "        out = self.fc2(out)\n",
    "\n",
    "        return out"
   ]
  },
  {
   "cell_type": "code",
   "execution_count": 5,
   "id": "02f0f1b4",
   "metadata": {},
   "outputs": [],
   "source": [
    "net = Net(input_size, hidden_size0, hidden_size1, out_size)\n",
    "CUDA = torch.cuda.is_available()\n",
    "if CUDA:\n",
    "    net = net.cuda()"
   ]
  },
  {
   "cell_type": "code",
   "execution_count": 6,
   "id": "eb5e2ab9",
   "metadata": {},
   "outputs": [],
   "source": [
    "file_pth = 'binary_ffn_2.pth'\n",
    "net.load_state_dict(torch.load(file_pth)) #pre-trained\n",
    "trained_dig = int(file_pth[-5])"
   ]
  },
  {
   "cell_type": "code",
   "execution_count": 15,
   "id": "349a8e70",
   "metadata": {},
   "outputs": [
    {
     "data": {
      "image/png": "[encoded data removed]",
      "text/plain": [
       "<Figure size 640x480 with 2 Axes>"
      ]
     },
     "metadata": {},
     "output_type": "display_data"
    }
   ],
   "source": [
    "inputs, labels = next(iter(test_loader))\n",
    "ind = ra.randrange(0, len(inputs))\n",
    "img = inputs[ind].squeeze() #[28, 28]\n",
    "\n",
    "weights = net.fc0.weight.detach().cpu() #[32, 784]\n",
    "importance = weights.abs().sum(dim=0).view(28, 28) #[28, 28]\n",
    "\n",
    "activation_fc0 = img * importance #[28, 28] \n",
    "\n",
    "plt.imshow(activation_fc0, cmap='hot', vmin=0, vmax=activation_fc0.max())\n",
    "plt.colorbar(label='Pixel * ∑|weight to fc0|')\n",
    "plt.title(\"Each Pixels' Influence for One Image\")\n",
    "plt.axis('off')\n",
    "plt.show()"
   ]
  }
 ],
 "metadata": {
  "kernelspec": {
   "display_name": "venv0",
   "language": "python",
   "name": "python3"
  },
  "language_info": {
   "codemirror_mode": {
    "name": "ipython",
    "version": 3
   },
   "file_extension": ".py",
   "mimetype": "text/x-python",
   "name": "python",
   "nbconvert_exporter": "python",
   "pygments_lexer": "ipython3",
   "version": "3.12.2"
  }
 },
 "nbformat": 4,
 "nbformat_minor": 5
}
