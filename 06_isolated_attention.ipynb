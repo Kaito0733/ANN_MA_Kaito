{
 "cells": [
  {
   "cell_type": "code",
   "execution_count": null,
   "id": "fd1e8a7c",
   "metadata": {},
   "outputs": [],
   "source": []
  }
 ],
 "metadata": {
  "language_info": {
   "name": "python"
  }
 },
 "nbformat": 4,
 "nbformat_minor": 5
}
