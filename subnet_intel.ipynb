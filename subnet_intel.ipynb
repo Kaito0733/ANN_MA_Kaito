{
 "cells": [
  {
   "cell_type": "code",
   "execution_count": 426,
   "id": "c173e1b1",
   "metadata": {},
   "outputs": [],
   "source": [
    "import torch\n",
    "import torch.nn as nn\n",
    "import torchvision.datasets as datasets\n",
    "import torchvision.transforms as transforms\n",
    "import torch.nn.functional as F\n",
    "\n",
    "import numpy as np\n",
    "import matplotlib.pyplot as plt\n",
    "import random as ra\n",
    "\n",
    "from skimage.morphology import skeletonize\n",
    "import networkx as nx\n",
    "from scipy.ndimage import distance_transform_edt\n",
    "\n",
    "import os\n",
    "import re"
   ]
  },
  {
   "cell_type": "code",
   "execution_count": 12,
   "id": "8fd7cae5",
   "metadata": {},
   "outputs": [],
   "source": [
    "input_size = 784\n",
    "hidden_size0 = 32\n",
    "hidden_size1 = 16     \n",
    "out_size = 10\n",
    "        \n",
    "epochs = 10            \n",
    "batch_size = 1000 #just for loading more data easily\n",
    "learning_rate = 0.001"
   ]
  },
  {
   "cell_type": "code",
   "execution_count": 3,
   "id": "c2bf5c6c",
   "metadata": {},
   "outputs": [],
   "source": [
    "train_dataset = datasets.MNIST(root='./data',\n",
    "                           train=True,\n",
    "                           transform=transforms.ToTensor(),\n",
    "                           download=True)\n",
    "\n",
    "train_loader = torch.utils.data.DataLoader(dataset=train_dataset,\n",
    "                                          batch_size=batch_size,\n",
    "                                          shuffle=True)\n",
    "\n",
    "test_dataset = datasets.MNIST(root='./data',\n",
    "                           train=False,\n",
    "                           transform=transforms.ToTensor())\n",
    "\n",
    "test_loader = torch.utils.data.DataLoader(dataset=test_dataset,\n",
    "                                          batch_size=batch_size,\n",
    "                                          shuffle=False)"
   ]
  },
  {
   "cell_type": "code",
   "execution_count": 204,
   "id": "f97e3830",
   "metadata": {},
   "outputs": [],
   "source": [
    "class Net(nn.Module):\n",
    "    def __init__(self, input_size, hidden_size0, hidden_size1, out_size):\n",
    "        super(Net, self).__init__()\n",
    "        self.fc0 = nn.Linear(input_size, hidden_size0)     #784 - 32\n",
    "        self.fc1 = nn.Linear(hidden_size0, hidden_size1)   #32 - 16\n",
    "        self.fc2 = nn.Linear(hidden_size1, out_size)       #16 - 10\n",
    "        self.relu = nn.ReLU()\n",
    "        self.init_weights()\n",
    "\n",
    "    def init_weights(self):\n",
    "        nn.init.kaiming_normal_(self.fc0.weight) #only works with ReLU\n",
    "        nn.init.kaiming_normal_(self.fc1.weight)\n",
    "        nn.init.kaiming_normal_(self.fc2.weight)\n",
    "\n",
    "    def forward(self, x):\n",
    "        x0 = self.relu(self.fc0(x))\n",
    "        x1 = self.relu(self.fc1(x0))\n",
    "        out = self.fc2(x1) #no ReLU because final decision would be altered, couldn't be \"fixed\" by other weights anymore, has to stay true!\n",
    "        return out, [x0, x1, out]"
   ]
  },
  {
   "cell_type": "code",
   "execution_count": 205,
   "id": "250647f5",
   "metadata": {},
   "outputs": [
    {
     "data": {
      "text/plain": [
       "<All keys matched successfully>"
      ]
     },
     "execution_count": 205,
     "metadata": {},
     "output_type": "execute_result"
    }
   ],
   "source": [
    "net = Net(input_size, hidden_size0, hidden_size1, out_size)\n",
    "CUDA = torch.cuda.is_available()\n",
    "if CUDA:\n",
    "    net = net.cuda()\n",
    "\n",
    "file_pth = 'binary_ffn_all.pth'\n",
    "net.load_state_dict(torch.load(file_pth)) #pre-trained"
   ]
  },
  {
   "cell_type": "code",
   "execution_count": 207,
   "id": "a7b46c63",
   "metadata": {},
   "outputs": [
    {
     "name": "stdout",
     "output_type": "stream",
     "text": [
      "Accuracy of the network on the 10000 test images: 96.6 %\n"
     ]
    }
   ],
   "source": [
    "with torch.no_grad():\n",
    "    correct = 0\n",
    "    for images, labels in test_loader:\n",
    "        if CUDA:\n",
    "            images = images.cuda()\n",
    "            labels = labels.cuda()\n",
    "        images = images.view(-1, 28*28)\n",
    "        outputs, _ = net(images)\n",
    "        _, predicted = torch.max(outputs.data, 1)\n",
    "        correct += (predicted == labels).sum().item()\n",
    "\n",
    "    print('Accuracy of the network on the 10000 test images: {} %'.format(100 * correct / len(test_dataset)))"
   ]
  },
  {
   "cell_type": "code",
   "execution_count": null,
   "id": "45008a86",
   "metadata": {},
   "outputs": [],
   "source": []
  },
  {
   "cell_type": "code",
   "execution_count": 7,
   "id": "9402bd5f",
   "metadata": {},
   "outputs": [],
   "source": [
    "def extract_concepts(img):\n",
    "    img_np = img.cpu().numpy()\n",
    "    filtered = img_np > 0.5 #becuase skeleton works on binary 1, 0 data\n",
    "\n",
    "    skeleton = skeletonize(filtered)\n",
    "    skeleton_np = skeleton.astype(bool)\n",
    "\n",
    "    size = 10\n",
    "    maxoverlap = 7\n",
    "    height, width = 28, 28\n",
    "\n",
    "    neighbors_offsets = [(dy, dx) for dy in [-1,0,1] for dx in [-1,0,1] if not (dy == 0 and dx == 0)]\n",
    "\n",
    "    def get_neighbors(p):\n",
    "        y, x = p\n",
    "        result = []\n",
    "        for dy, dx in neighbors_offsets:\n",
    "            ny, nx = y + dy, x + dx\n",
    "            if 0 <= ny < height and 0 <= nx < width and skeleton_np[ny, nx]:\n",
    "                result.append((ny, nx))\n",
    "        return result\n",
    "\n",
    "    groups = []\n",
    "    groups_sets = []\n",
    "\n",
    "    def dfs(path, visited):\n",
    "        if len(path) == size:\n",
    "            path_set = set(path)\n",
    "            if not any(len(path_set & g) > maxoverlap for g in groups_sets):\n",
    "                groups.append(np.array(path))\n",
    "                groups_sets.append(path_set)\n",
    "            return\n",
    "\n",
    "        candidates = set()\n",
    "        for p in path:\n",
    "            for n in get_neighbors(p):\n",
    "                if n not in visited:\n",
    "                    candidates.add(n)\n",
    "\n",
    "        for n in candidates:\n",
    "            visited.add(n)\n",
    "            dfs(path + [n], visited)\n",
    "            visited.remove(n)\n",
    "\n",
    "    all_pixels = list(zip(*np.nonzero(skeleton_np)))\n",
    "\n",
    "    for start in all_pixels:\n",
    "        dfs([start], set([start]))\n",
    "\n",
    "    tensor_groups = torch.stack([\n",
    "        torch.zeros((height, width), dtype=torch.uint8).index_put_(\n",
    "            (torch.tensor(g[:, 0]), torch.tensor(g[:, 1])), \n",
    "            torch.ones(len(g), dtype=torch.uint8)\n",
    "        ) for g in groups\n",
    "    ])\n",
    "\n",
    "    original_clusters = torch.zeros_like(tensor_groups)\n",
    "    original_clusters = []\n",
    "\n",
    "    for i in range(tensor_groups.shape[0]):\n",
    "        mask = tensor_groups[i].numpy()\n",
    "        inverted_mask = 1 - mask\n",
    "        distance = distance_transform_edt(inverted_mask)\n",
    "        within_range_mask = (distance <= 2).astype(np.float32)\n",
    "        new_input = torch.from_numpy(img_np * within_range_mask).float()\n",
    "        original_clusters.append(new_input)\n",
    "\n",
    "    return tensor_groups, original_clusters"
   ]
  },
  {
   "cell_type": "code",
   "execution_count": 15,
   "id": "88efbc27",
   "metadata": {},
   "outputs": [
    {
     "data": {
      "text/plain": [
       "Text(0.5, 1.0, 'Label: 8')"
      ]
     },
     "execution_count": 15,
     "metadata": {},
     "output_type": "execute_result"
    },
    {
     "data": {
      "image/png": "[encoded data removed]",
      "text/plain": [
       "<Figure size 640x480 with 1 Axes>"
      ]
     },
     "metadata": {},
     "output_type": "display_data"
    }
   ],
   "source": [
    "inputs, labels = next(iter(test_loader))\n",
    "\n",
    "#search wanted digit:\n",
    "while True:\n",
    "    ind = ra.randrange(0, len(inputs))\n",
    "    if labels[ind] == 8: #ra.randint(0, 9):\n",
    "        img = inputs[ind].squeeze()\n",
    "        break\n",
    "\n",
    "plt.imshow(img, cmap=\"inferno\")\n",
    "plt.title(f\"Label: {labels[ind].item()}\")"
   ]
  },
  {
   "cell_type": "code",
   "execution_count": 20,
   "id": "320889d2",
   "metadata": {},
   "outputs": [],
   "source": [
    "digit_ints = [i for i in range(10)]\n",
    "used_indices = []"
   ]
  },
  {
   "cell_type": "code",
   "execution_count": 61,
   "id": "c954a2e7",
   "metadata": {},
   "outputs": [],
   "source": [
    "for _ in range(0):\n",
    "    for dig in digit_ints:\n",
    "        while True:\n",
    "            ind = ra.randrange(0, len(inputs))\n",
    "            if labels[ind] == dig and ind not in used_indices:\n",
    "                #used_indices.append(ind)\n",
    "                img = inputs[ind].squeeze()\n",
    "                break\n",
    "\n",
    "        #tensor_groups, original_clusters = extract_concepts(img)\n",
    "        #torch.save({'tensor_groups': tensor_groups,'original_clusters': original_clusters}, f\"somefolder/concepts_dig_{dig}_ind{ind}.pt\")\n"
   ]
  },
  {
   "cell_type": "code",
   "execution_count": null,
   "id": "4beeda3f",
   "metadata": {},
   "outputs": [],
   "source": [
    "\"\"\"indn = 0\"\"\""
   ]
  },
  {
   "cell_type": "code",
   "execution_count": 62,
   "id": "316cd61c",
   "metadata": {},
   "outputs": [
    {
     "data": {
      "text/plain": [
       "\"plt.figure(figsize=(10, 5))\\n\\nplt.subplot(1, 2, 1)\\nplt.title('extracted sub-concept')\\nplt.imshow(img.squeeze().cpu().numpy(), cmap='gray')\\nplt.imshow(tensor_groups[indn].cpu().numpy(), cmap='inferno', alpha=0.6)\\n\\nimg2 = torch.where(\\n    img != 0,\\n    torch.tensor(img, device=img.device),\\n    0.0\\n)\\n\\nplt.subplot(1, 2, 2)\\nplt.title('Concept Segment from Original')\\nplt.imshow(original_clusters[indn], cmap='gray')\\n\\nplt.axis('off')\\nplt.show()\\n\\nindn += 1\""
      ]
     },
     "execution_count": 62,
     "metadata": {},
     "output_type": "execute_result"
    }
   ],
   "source": [
    "\"\"\"plt.figure(figsize=(10, 5))\n",
    "\n",
    "plt.subplot(1, 2, 1)\n",
    "plt.title('extracted sub-concept')\n",
    "plt.imshow(img.squeeze().cpu().numpy(), cmap='gray')\n",
    "plt.imshow(tensor_groups[indn].cpu().numpy(), cmap='inferno', alpha=0.6)\n",
    "\n",
    "img2 = torch.where(\n",
    "    img != 0,\n",
    "    torch.tensor(img, device=img.device),\n",
    "    0.0\n",
    ")\n",
    "\n",
    "plt.subplot(1, 2, 2)\n",
    "plt.title('Concept Segment from Original')\n",
    "plt.imshow(original_clusters[indn], cmap='gray')\n",
    "\n",
    "plt.axis('off')\n",
    "plt.show()\n",
    "\n",
    "indn += 1\"\"\""
   ]
  },
  {
   "cell_type": "code",
   "execution_count": 353,
   "id": "959fee38",
   "metadata": {},
   "outputs": [
    {
     "data": {
      "text/plain": [
       "8"
      ]
     },
     "execution_count": 353,
     "metadata": {},
     "output_type": "execute_result"
    }
   ],
   "source": [
    "#also possible: only find very small concepts (size = 3, maxoverlap = 0 or 1) \n",
    "# and then recombine those to larger ones, would be faster than dfs and work on gpu\n",
    "#did it on cpu anyway, took 12mins\n",
    "\n",
    "ind2 = 0\n",
    "\n",
    "inputs, labels = next(iter(test_loader)) #in test_loader always same order if shuffle=False in batch\n",
    "rand_ind = ra.choice(used_indices)\n",
    "label, img = labels[rand_ind], inputs[rand_ind]\n",
    "\n",
    "label.item()"
   ]
  },
  {
   "cell_type": "code",
   "execution_count": 368,
   "id": "33829cd9",
   "metadata": {},
   "outputs": [
    {
     "data": {
      "image/png": "[encoded data removed]",
      "text/plain": [
       "<Figure size 640x480 with 2 Axes>"
      ]
     },
     "metadata": {},
     "output_type": "display_data"
    }
   ],
   "source": [
    "#creating lists of all tensors of all concepts stored:\n",
    "\n",
    "pattern = re.compile(r'dig_(\\d+)_ind(\\d+)\\.pt$')\n",
    "\n",
    "files = []\n",
    "for filename in os.listdir('stored_concepts'):\n",
    "    match = pattern.search(filename)\n",
    "    if match:\n",
    "        dig = int(match.group(1))\n",
    "        ind = int(match.group(2))\n",
    "        files.append((dig, ind, filename))\n",
    "\n",
    "files.sort()\n",
    "used_indices = [ind for _, ind, _ in files]\n",
    "\n",
    "tensor_groups_list = []\n",
    "original_clusters_list = []\n",
    "\n",
    "for idx in used_indices:\n",
    "    data = torch.load(f\"stored_concepts/concepts_dig_{labels[idx]}_ind{idx}.pt\")\n",
    "    tensor_groups = data['tensor_groups']\n",
    "    original_clusters = data['original_clusters']\n",
    "\n",
    "    tensor_groups_list.append(tensor_groups)\n",
    "    original_clusters_list.append(original_clusters)\n",
    "    \n",
    "skeleton_tensors, original_clusters = tensor_groups_list[used_indices.index(rand_ind)], original_clusters_list[used_indices.index(rand_ind)]\n",
    "\n",
    "plt.subplot(1, 2, 1)\n",
    "plt.imshow(img.view(28, 28), cmap=\"gray\") #or squeeze()\n",
    "plt.imshow(skeleton_tensors[ind2].cpu().numpy(), cmap='inferno', alpha=0.6)\n",
    "plt.title(f\"Label: {label}\")\n",
    "\n",
    "plt.subplot(1, 2, 2)\n",
    "plt.title('Concept Segment from Original')\n",
    "plt.imshow(original_clusters[ind2], cmap='gray')\n",
    "\n",
    "plt.axis('off')\n",
    "plt.show()\n",
    "\n",
    "ind2 = ind2 + 1 if ind2 < len(skeleton_tensors) - 1 else 0"
   ]
  },
  {
   "cell_type": "code",
   "execution_count": 424,
   "id": "c4ce562b",
   "metadata": {},
   "outputs": [
    {
     "data": {
      "image/png": "[encoded data removed]",
      "text/plain": [
       "<Figure size 1000x500 with 4 Axes>"
      ]
     },
     "metadata": {},
     "output_type": "display_data"
    }
   ],
   "source": [
    "#this is forward pass: return out, [x0, x1, out]\n",
    "\n",
    "def input_to_activation(inp):\n",
    "    inp = inp.view(-1)\n",
    "    net.eval()\n",
    "    with torch.no_grad():\n",
    "        _, activation_list = net(inp)\n",
    "\n",
    "        return activation_list\n",
    "\n",
    "\n",
    "#example to test:\n",
    "act_list = input_to_activation(original_clusters_list[used_indices.index(rand_ind)][ind2].cuda())  #ra.randint(0, len(original_clusters_list)-1)][ra.randint(0, len(original_clusters)-1)])\n",
    "\n",
    "plt.figure(figsize=(10, 5))\n",
    "plt.subplot(1, 4, 1)\n",
    "plt.imshow(original_clusters_list[used_indices.index(rand_ind)][ind2], cmap=\"gray\")\n",
    "plt.title(f\"Label: {labels[rand_ind]}\")\n",
    "\n",
    "for i, vector in enumerate(act_list):\n",
    "    s = vector.shape[0]\n",
    "    plt.subplot(1, 4, i+2)\n",
    "    plt.imshow(vector.view(s, 1).cpu().detach().numpy(), cmap=\"gray\")\n",
    "\n",
    "ind2 = ind2 + 1 if ind2 < len(skeleton_tensors) - 1 else 0"
   ]
  },
  {
   "cell_type": "code",
   "execution_count": null,
   "id": "b129bc2c",
   "metadata": {},
   "outputs": [],
   "source": []
  }
 ],
 "metadata": {
  "kernelspec": {
   "display_name": "venv0",
   "language": "python",
   "name": "python3"
  },
  "language_info": {
   "codemirror_mode": {
    "name": "ipython",
    "version": 3
   },
   "file_extension": ".py",
   "mimetype": "text/x-python",
   "name": "python",
   "nbconvert_exporter": "python",
   "pygments_lexer": "ipython3",
   "version": "3.12.2"
  }
 },
 "nbformat": 4,
 "nbformat_minor": 5
}
