{
 "cells": [
  {
   "cell_type": "code",
   "execution_count": 79,
   "id": "c173e1b1",
   "metadata": {},
   "outputs": [],
   "source": [
    "import torch\n",
    "import torch.nn as nn\n",
    "import torchvision.datasets as datasets\n",
    "import torchvision.transforms as transforms\n",
    "import torch.nn.functional as F\n",
    "\n",
    "import matplotlib.pyplot as plt\n",
    "import random as ra\n",
    "import math\n",
    "\n",
    "from sklearn.cluster import AgglomerativeClustering\n",
    "from collections import defaultdict\n",
    "from scipy.spatial.distance import cdist\n",
    "import numpy as np\n",
    "import matplotlib.patches as mpatches\n",
    "\n",
    "from skimage.morphology import skeletonize\n",
    "import networkx as nx\n",
    "from scipy.ndimage import distance_transform_edt"
   ]
  },
  {
   "cell_type": "code",
   "execution_count": 72,
   "id": "8fd7cae5",
   "metadata": {},
   "outputs": [],
   "source": [
    "input_size = 784\n",
    "hidden_size0 = 32\n",
    "hidden_size1 = 16     \n",
    "out_size = 10 #binary for whether it is digit or not\n",
    "        \n",
    "epochs = 10            \n",
    "batch_size = 1000 #just for loading more data easily\n",
    "learning_rate = 0.001"
   ]
  },
  {
   "cell_type": "code",
   "execution_count": 73,
   "id": "c2bf5c6c",
   "metadata": {},
   "outputs": [],
   "source": [
    "train_dataset = datasets.MNIST(root='./data',\n",
    "                           train=True,\n",
    "                           transform=transforms.ToTensor(),\n",
    "                           download=True)\n",
    "\n",
    "train_loader = torch.utils.data.DataLoader(dataset=train_dataset,\n",
    "                                          batch_size=batch_size,\n",
    "                                          shuffle=True)\n",
    "\n",
    "test_dataset = datasets.MNIST(root='./data',\n",
    "                           train=False,\n",
    "                           transform=transforms.ToTensor())\n",
    "\n",
    "test_loader = torch.utils.data.DataLoader(dataset=test_dataset,\n",
    "                                          batch_size=batch_size,\n",
    "                                          shuffle=False)"
   ]
  },
  {
   "cell_type": "code",
   "execution_count": 74,
   "id": "f97e3830",
   "metadata": {},
   "outputs": [],
   "source": [
    "class Net(nn.Module):\n",
    "    def __init__(self, input_size, hidden_size0, hidden_size1, out_size):\n",
    "        super(Net, self).__init__()\n",
    "        self.fc0 = nn.Linear(input_size, hidden_size0)     #784 - 32\n",
    "        self.fc1 = nn.Linear(hidden_size0, hidden_size1)   #32 - 16\n",
    "        self.fc2 = nn.Linear(hidden_size1, out_size)       #16 - 10\n",
    "        self.relu = nn.ReLU()\n",
    "        self.init_weights()\n",
    "\n",
    "    def init_weights(self):\n",
    "        nn.init.kaiming_normal_(self.fc0.weight) #only works with ReLU\n",
    "        nn.init.kaiming_normal_(self.fc1.weight)\n",
    "        nn.init.kaiming_normal_(self.fc2.weight)\n",
    "\n",
    "    def forward(self, x):\n",
    "        out = self.relu(self.fc0(x))\n",
    "        out = self.relu(self.fc1(out))\n",
    "        out = self.fc2(out) #no ReLU because final decision would be altered, couldn't be \"fixed\" by other weights anymore, has to stay true!\n",
    "        return out"
   ]
  },
  {
   "cell_type": "code",
   "execution_count": 75,
   "id": "250647f5",
   "metadata": {},
   "outputs": [
    {
     "data": {
      "text/plain": [
       "<All keys matched successfully>"
      ]
     },
     "execution_count": 75,
     "metadata": {},
     "output_type": "execute_result"
    }
   ],
   "source": [
    "net = Net(input_size, hidden_size0, hidden_size1, out_size)\n",
    "CUDA = torch.cuda.is_available()\n",
    "if CUDA:\n",
    "    net = net.cuda()\n",
    "\n",
    "file_pth = 'binary_ffn_all.pth'\n",
    "net.load_state_dict(torch.load(file_pth)) #pre-trained"
   ]
  },
  {
   "cell_type": "code",
   "execution_count": 76,
   "id": "a7b46c63",
   "metadata": {},
   "outputs": [
    {
     "name": "stdout",
     "output_type": "stream",
     "text": [
      "Accuracy of the network on the 10000 test images: 96.6 %\n"
     ]
    }
   ],
   "source": [
    "with torch.no_grad():\n",
    "    correct = 0\n",
    "    for images, labels in test_loader:\n",
    "        if CUDA:\n",
    "            images = images.cuda()\n",
    "            labels = labels.cuda()\n",
    "        images = images.view(-1, 28*28)\n",
    "        outputs = net(images)\n",
    "        _, predicted = torch.max(outputs.data, 1)\n",
    "        correct += (predicted == labels).sum().item()\n",
    "\n",
    "    print('Accuracy of the network on the 10000 test images: {} %'.format(100 * correct / len(test_dataset)))"
   ]
  },
  {
   "cell_type": "code",
   "execution_count": null,
   "id": "45008a86",
   "metadata": {},
   "outputs": [],
   "source": []
  },
  {
   "cell_type": "code",
   "execution_count": null,
   "id": "9402bd5f",
   "metadata": {},
   "outputs": [],
   "source": [
    "inputs, labels = next(iter(test_loader))\n",
    "\n",
    "#search wanted digit:\n",
    "while True:\n",
    "    ind = ra.randrange(0, len(inputs))\n",
    "    if labels[ind] == 8: #ra.randint(0, 9):\n",
    "        img = inputs[ind].squeeze()\n",
    "        break\n",
    "\n",
    "#plt.imshow(img, cmap=\"inferno\")\n",
    "#plt.title(f\"Label: {labels[ind].item()}\")\n",
    "\n",
    "img_np = img.cpu().numpy()\n",
    "filtered = img_np > 0.5 #becuase skeleton works on binary 1, 0 data\n",
    "\n",
    "skeleton = skeletonize(filtered)\n",
    "skeleton_np = skeleton.astype(bool)\n",
    "\n",
    "size = 10\n",
    "maxoverlap = 7\n",
    "height, width = 28, 28\n",
    "\n",
    "neighbors_offsets = [(dy, dx) for dy in [-1,0,1] for dx in [-1,0,1] if not (dy == 0 and dx == 0)]\n",
    "\n",
    "def get_neighbors(p):\n",
    "    y, x = p\n",
    "    result = []\n",
    "    for dy, dx in neighbors_offsets:\n",
    "        ny, nx = y + dy, x + dx\n",
    "        if 0 <= ny < height and 0 <= nx < width and skeleton_np[ny, nx]:\n",
    "            result.append((ny, nx))\n",
    "    return result\n",
    "\n",
    "groups = []\n",
    "groups_sets = []\n",
    "\n",
    "def dfs(path, visited):\n",
    "    if len(path) == size:\n",
    "        path_set = set(path)\n",
    "        if not any(len(path_set & g) > maxoverlap for g in groups_sets):\n",
    "            groups.append(np.array(path))\n",
    "            groups_sets.append(path_set)\n",
    "        return\n",
    "\n",
    "    candidates = set()\n",
    "    for p in path:\n",
    "        for n in get_neighbors(p):\n",
    "            if n not in visited:\n",
    "                candidates.add(n)\n",
    "\n",
    "    for n in candidates:\n",
    "        visited.add(n)\n",
    "        dfs(path + [n], visited)\n",
    "        visited.remove(n)\n",
    "\n",
    "all_pixels = list(zip(*np.nonzero(skeleton_np)))\n",
    "\n",
    "for start in all_pixels:\n",
    "    dfs([start], set([start]))\n",
    "\n",
    "tensor_groups = torch.stack([\n",
    "    torch.zeros((height, width), dtype=torch.uint8).index_put_(\n",
    "        (torch.tensor(g[:, 0]), torch.tensor(g[:, 1])), \n",
    "        torch.ones(len(g), dtype=torch.uint8)\n",
    "    ) for g in groups\n",
    "])\n"
   ]
  },
  {
   "cell_type": "code",
   "execution_count": 550,
   "id": "70284692",
   "metadata": {},
   "outputs": [],
   "source": [
    "original_clusters = torch.zeros_like(tensor_groups)\n",
    "original_clusters = []\n",
    "\n",
    "for i in range(tensor_groups.shape[2]):\n",
    "    mask = tensor_groups[i].numpy()\n",
    "    inverted_mask = 1 - mask\n",
    "    distance = distance_transform_edt(inverted_mask)\n",
    "    within_range_mask = (distance <= 2).astype(np.float32)\n",
    "    new_input = torch.from_numpy(img_np * within_range_mask).float()\n",
    "    original_clusters.append(new_input)"
   ]
  },
  {
   "cell_type": "code",
   "execution_count": 581,
   "id": "4beeda3f",
   "metadata": {},
   "outputs": [],
   "source": [
    "indn = 0"
   ]
  },
  {
   "cell_type": "code",
   "execution_count": 584,
   "id": "316cd61c",
   "metadata": {},
   "outputs": [
    {
     "name": "stderr",
     "output_type": "stream",
     "text": [
      "/tmp/ipykernel_177659/3352714123.py:10: UserWarning: To copy construct from a tensor, it is recommended to use sourceTensor.detach().clone() or sourceTensor.detach().clone().requires_grad_(True), rather than torch.tensor(sourceTensor).\n",
      "  torch.tensor(img, device=img.device),\n"
     ]
    },
    {
     "data": {
      "image/png": "[encoded data removed]",
      "text/plain": [
       "<Figure size 1000x500 with 2 Axes>"
      ]
     },
     "metadata": {},
     "output_type": "display_data"
    }
   ],
   "source": [
    "plt.figure(figsize=(10, 5))\n",
    "\n",
    "plt.subplot(1, 2, 1)\n",
    "plt.title('extracted sub-concept')\n",
    "plt.imshow(img.squeeze().cpu().numpy(), cmap='gray')\n",
    "plt.imshow(tensor_groups[indn].cpu().numpy(), cmap='inferno', alpha=0.6)\n",
    "\n",
    "img2 = torch.where(\n",
    "    img != 0,\n",
    "    torch.tensor(img, device=img.device),\n",
    "    0.0\n",
    ")\n",
    "\n",
    "plt.subplot(1, 2, 2)\n",
    "plt.title('Concept Segment from Original')\n",
    "plt.imshow(original_clusters[indn], cmap='gray')\n",
    "\n",
    "plt.axis('off')\n",
    "plt.show()\n",
    "\n",
    "indn += 1"
   ]
  },
  {
   "cell_type": "code",
   "execution_count": null,
   "id": "33829cd9",
   "metadata": {},
   "outputs": [],
   "source": []
  }
 ],
 "metadata": {
  "kernelspec": {
   "display_name": "venv0",
   "language": "python",
   "name": "python3"
  },
  "language_info": {
   "codemirror_mode": {
    "name": "ipython",
    "version": 3
   },
   "file_extension": ".py",
   "mimetype": "text/x-python",
   "name": "python",
   "nbconvert_exporter": "python",
   "pygments_lexer": "ipython3",
   "version": "3.12.2"
  }
 },
 "nbformat": 4,
 "nbformat_minor": 5
}
