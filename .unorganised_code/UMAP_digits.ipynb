{
 "cells": [
  {
   "cell_type": "code",
   "execution_count": 22,
   "id": "4bfd5720",
   "metadata": {},
   "outputs": [
    {
     "name": "stderr",
     "output_type": "stream",
     "text": [
      "/home/kns357/Desktop/ann_ma_kaito/venv0/lib/python3.12/site-packages/umap/umap_.py:1952: UserWarning:\n",
      "\n",
      "n_jobs value 1 overridden to 1 by setting random_state. Use no seed for parallelism.\n",
      "\n"
     ]
    }
   ],
   "source": [
    "import torch\n",
    "import torchvision\n",
    "import numpy as np\n",
    "import umap.umap_ as umap\n",
    "import plotly.express as px\n",
    "\n",
    "# Load MNIST dataset\n",
    "transform = torchvision.transforms.Compose([torchvision.transforms.ToTensor()])\n",
    "train_dataset = torchvision.datasets.MNIST(root='./data', train=True, download=True, transform=transform)\n",
    "X = train_dataset.data.float() / 255.0  # Shape (60000, 28, 28)\n",
    "X = X.view(-1, 784)  # Flatten to (60000, 784)\n",
    "y = train_dataset.targets\n",
    "\n",
    "# Subsample to 10,000 points\n",
    "n_samples = 10000\n",
    "indices = torch.randperm(X.shape[0])[:n_samples]\n",
    "X_sub = X[indices].numpy()\n",
    "y_sub = y[indices].numpy()\n",
    "\n",
    "# Apply UMAP\n",
    "umap_model = umap.UMAP(n_components=2, random_state=42, n_neighbors=30, min_dist=0.1)\n",
    "projections = umap_model.fit_transform(X_sub)\n",
    "\n",
    "# Interactive plot with Plotly\n",
    "fig = px.scatter(\n",
    "    x=projections[:, 0],\n",
    "    y=projections[:, 1],\n",
    "    color=y_sub.astype(str),\n",
    "    title='UMAP of MNIST Digits',\n",
    "    labels={'x': 'UMAP Component 1', 'y': 'UMAP Component 2'},\n",
    "    render_mode='webgl'\n",
    ")\n",
    "fig.update_traces(marker=dict(size=4, opacity=0.6))\n",
    "fig.update_layout(\n",
    "    width=900,\n",
    "    height=700,\n",
    "    title={'x': 0.5, 'xanchor': 'center'},\n",
    "    legend=dict(title='Digit', orientation='h', yanchor='bottom', y=1.02, xanchor='center', x=0.5)\n",
    ")\n",
    "fig.show(renderer=\"browser\")"
   ]
  }
 ],
 "metadata": {
  "kernelspec": {
   "display_name": "venv0",
   "language": "python",
   "name": "python3"
  },
  "language_info": {
   "codemirror_mode": {
    "name": "ipython",
    "version": 3
   },
   "file_extension": ".py",
   "mimetype": "text/x-python",
   "name": "python",
   "nbconvert_exporter": "python",
   "pygments_lexer": "ipython3",
   "version": "3.12.2"
  }
 },
 "nbformat": 4,
 "nbformat_minor": 5
}
